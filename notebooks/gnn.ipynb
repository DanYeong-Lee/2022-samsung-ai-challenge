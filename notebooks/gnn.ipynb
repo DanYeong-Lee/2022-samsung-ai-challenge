{
 "cells": [
  {
   "cell_type": "code",
   "execution_count": 1,
   "metadata": {},
   "outputs": [
    {
     "name": "stderr",
     "output_type": "stream",
     "text": [
      "/data/project/danyoung/miniconda3/envs/mol/lib/python3.10/site-packages/tqdm/auto.py:22: TqdmWarning: IProgress not found. Please update jupyter and ipywidgets. See https://ipywidgets.readthedocs.io/en/stable/user_install.html\n",
      "  from .autonotebook import tqdm as notebook_tqdm\n",
      "WARNING:root:The OGB package is out of date. Your version is 1.3.3, while the latest version is 1.3.4.\n"
     ]
    }
   ],
   "source": [
    "import os, sys\n",
    "\n",
    "sys.path.append(os.pardir)\n",
    "\n",
    "from src.datamodules.components.dataset2d import TrainDataset, TestDataset\n",
    "from src.datamodules.datamodule2d import BaseDataModule\n",
    "\n",
    "import numpy as np\n",
    "import pandas as pd\n",
    "\n",
    "import matplotlib.pyplot as plt\n",
    "\n",
    "from rdkit import Chem\n",
    "from rdkit.Chem import AllChem\n",
    "from rdkit.Chem.rdmolops import GetAdjacencyMatrix\n",
    "\n",
    "from tqdm import tqdm\n",
    "\n",
    "import torch\n",
    "import torch.nn as nn\n",
    "import torch.nn.functional as F\n",
    "from torch.optim.lr_scheduler import CosineAnnealingLR\n",
    "\n",
    "import torch_geometric.nn as gnn\n",
    "from torch_geometric.data import Data\n",
    "from torch_geometric.loader import DataLoader\n",
    "\n",
    "\n",
    "from sklearn.model_selection import train_test_split\n",
    "\n",
    "\n",
    "import pickle"
   ]
  },
  {
   "cell_type": "code",
   "execution_count": null,
   "metadata": {},
   "outputs": [],
   "source": [
    "mol = Chem.MolFromMo"
   ]
  },
  {
   "cell_type": "code",
   "execution_count": 102,
   "metadata": {},
   "outputs": [
    {
     "data": {
      "text/plain": [
       "Data(x=[53, 9], edge_index=[2, 110], edge_attr=[110, 3], y=[1, 2], pos_g=[53, 3], pos_ex=[53, 3], full_edge_index=[2, 2809], distance_edge_attr_g=[2809], distance_edge_attr_ex=[2809])"
      ]
     },
     "execution_count": 102,
     "metadata": {},
     "output_type": "execute_result"
    }
   ],
   "source": [
    "\n",
    "\n",
    "data = train_data[0]\n",
    "\n",
    "\n",
    "pd_g = torch.tensor(euclidean_distances(data.pos_g), dtype=torch.float)\n",
    "pd_g.fill_diagonal_(1)\n",
    "pd_g = 1 / pd_g\n",
    "data.full_edge_index, data.distance_edge_attr_g = dense_to_sparse(pd_g)\n",
    "\n",
    "pd_ex = torch.tensor(euclidean_distances(data.pos_ex), dtype=torch.float)\n",
    "pd_ex.fill_diagonal_(1)\n",
    "pd_ex = 1 / pd_ex\n",
    "_, data.distance_edge_attr_ex = dense_to_sparse(pd_ex)\n",
    "data"
   ]
  },
  {
   "cell_type": "code",
   "execution_count": 105,
   "metadata": {},
   "outputs": [
    {
     "data": {
      "text/plain": [
       "Data(x=[53, 9], edge_index=[2, 110], edge_attr=[110, 3], y=[1, 2], pos_g=[53, 3], pos_ex=[53, 3], full_edge_index=[2, 2809], distance_edge_attr_g=[2809], distance_edge_attr_ex=[2809])"
      ]
     },
     "execution_count": 105,
     "metadata": {},
     "output_type": "execute_result"
    }
   ],
   "source": [
    "from sklearn.metrics.pairwise import euclidean_distances\n",
    "import torch_geometric.transforms as T\n",
    "from torch_geometric.utils import add_self_loops, dense_to_sparse\n",
    "\n",
    "class DistanceEdge(T.BaseTransform):\n",
    "    def __call__(self, data):\n",
    "        pd_g = torch.tensor(euclidean_distances(data.pos_g), dtype=torch.float)\n",
    "        pd_g.fill_diagonal_(1)\n",
    "        pd_g = 1 / pd_g\n",
    "        data.full_edge_index, data.distance_edge_attr_g = dense_to_sparse(pd_g)\n",
    "\n",
    "        pd_ex = torch.tensor(euclidean_distances(data.pos_ex), dtype=torch.float)\n",
    "        pd_ex.fill_diagonal_(1)\n",
    "        pd_ex = 1 / pd_ex\n",
    "        _, data.distance_edge_attr_ex = dense_to_sparse(pd_ex)\n",
    "        \n",
    "        return data\n",
    "\n",
    "DistanceEdge()(data)"
   ]
  },
  {
   "cell_type": "code",
   "execution_count": 111,
   "metadata": {},
   "outputs": [
    {
     "data": {
      "text/plain": [
       "DataBatch(x=[1396, 9], edge_index=[2, 2886], edge_attr=[2886, 3], y=[32, 2], pos_g=[1396, 3], pos_ex=[1396, 3], full_edge_index=[2, 66546], distance_edge_attr_g=[66546], distance_edge_attr_ex=[66546], batch=[1396], ptr=[33])"
      ]
     },
     "execution_count": 111,
     "metadata": {},
     "output_type": "execute_result"
    }
   ],
   "source": [
    "train_data = TrainDataset(transform=DistanceEdge())\n",
    "train_dataloader = DataLoader(train_data, batch_size=32)\n",
    "batch = next(iter(train_dataloader))\n",
    "batch"
   ]
  },
  {
   "cell_type": "code",
   "execution_count": null,
   "metadata": {},
   "outputs": [],
   "source": [
    "import torch\n",
    "import torch.nn as nn\n",
    "import torch.nn.functional as F\n",
    "import torch_geometric.nn as gnn\n",
    "\n",
    "\n",
    "class MLP(nn.Module):\n",
    "    def __init__(\n",
    "        self,\n",
    "        in_channels,\n",
    "        hidden_channels,\n",
    "        out_channels\n",
    "    ):\n",
    "        super().__init__()\n",
    "        self.in_channels = in_channels\n",
    "        self.out_channels = out_channels\n",
    "        self.main = nn.Sequential(\n",
    "            nn.Linear(in_channels, hidden_channels),\n",
    "            nn.BatchNorm1d(hidden_channels),\n",
    "            nn.ReLU(),\n",
    "            nn.Linear(hidden_channels, out_channels),\n",
    "            nn.ReLU()\n",
    "        )\n",
    "    \n",
    "    def forward(self, x):\n",
    "        return self.main(x)\n",
    "\n",
    "\n",
    "class GIN(nn.Module):\n",
    "    def __init__(\n",
    "        self,\n",
    "        input_dim: int = 15,\n",
    "        gin_mlp_hidden_dim: int = 512,\n",
    "        gin_hidden_dim: int = 256,\n",
    "        n_fc_layers: int = 3,\n",
    "        fc_hidden_dim: int = 256,\n",
    "        fc_dropout: float = 0.5,\n",
    "        pool: str = \"mean\"\n",
    "    ):\n",
    "        super().__init__()\n",
    "        if pool == \"add\":\n",
    "            self.pool = gnn.global_add_pool\n",
    "        elif pool == \"mean\":\n",
    "            self.pool = gnn.global_mean_pool\n",
    "\n",
    "        self.gnn = gnn.Sequential(\"x, edge_index, edge_attr, batch\", [\n",
    "            (gnn.GINEConv(MLP(input_dim, gin_mlp_hidden_dim, gin_hidden_dim), edge_dim=3), \"x, edge_index, edge_attr -> x1\"),\n",
    "            (gnn.GINEConv(MLP(gin_hidden_dim, gin_mlp_hidden_dim, gin_hidden_dim), edge_dim=3), \"x1, edge_index, edge_attr -> x2\"),\n",
    "            (gnn.GINEConv(MLP(gin_hidden_dim, gin_mlp_hidden_dim, gin_hidden_dim), edge_dim=3), \"x2, edge_index, edge_attr -> x3\"),\n",
    "            (lambda x1, x2, x3, batch: [self.pool(x, batch) for x in [x1, x2, x3]], \"x1, x2, x3, batch -> xs\"),\n",
    "            (gnn.JumpingKnowledge(\"cat\"), \"xs -> x\")\n",
    "        ])\n",
    "        \n",
    "        \n",
    "        fc_input_dim = gin_hidden_dim * 3\n",
    "        self.fc1 = nn.Sequential(\n",
    "            nn.Linear(fc_input_dim, fc_hidden_dim),\n",
    "            nn.BatchNorm1d(fc_hidden_dim),\n",
    "            nn.ReLU(),\n",
    "            nn.Dropout(fc_dropout)\n",
    "        )\n",
    "        \n",
    "        self.fc_list = nn.ModuleList([\n",
    "            nn.Sequential(\n",
    "                nn.Linear(fc_hidden_dim, fc_hidden_dim),\n",
    "                nn.BatchNorm1d(fc_hidden_dim),\n",
    "                nn.ReLU(),\n",
    "                nn.Dropout(fc_dropout)\n",
    "            ) for _ in range(n_fc_layers - 2)\n",
    "        ])\n",
    "        self.fc_last = nn.Linear(fc_hidden_dim, 2)\n",
    "        \n",
    "    def forward(self, batch):\n",
    "        x = torch.cat([batch.x, batch.pos_g, batch.pos_ex], axis=1)\n",
    "        \n",
    "        x = self.gnn(x, batch.edge_index, batch.edge_attr, batch.batch)\n",
    "        \n",
    "        x = self.fc1(x)\n",
    "        \n",
    "        for fc_layer in self.fc_list:\n",
    "            x = fc_layer(x)\n",
    "            \n",
    "        x = self.fc_last(x)\n",
    "        \n",
    "        return x\n",
    "    \n"
   ]
  },
  {
   "cell_type": "code",
   "execution_count": 78,
   "metadata": {},
   "outputs": [],
   "source": [
    "import os\n",
    "import numpy as np\n",
    "import pandas as pd\n",
    "from rdkit import Chem\n",
    "from rdkit.Chem import AllChem\n",
    "from rdkit.Chem import MACCSkeys\n",
    "from rdkit.Chem.rdmolops import GetAdjacencyMatrix\n",
    "\n",
    "from tqdm import tqdm\n",
    "\n",
    "import torch\n",
    "import torch.nn as nn\n",
    "import torch.nn.functional as F\n",
    "from torch.optim.lr_scheduler import CosineAnnealingLR\n",
    "\n",
    "import torch_geometric.nn as gnn\n",
    "from torch_geometric.data import Data\n",
    "from torch_geometric.data import InMemoryDataset\n",
    "\n",
    "\n",
    "from ogb.utils.features import (allowable_features, atom_to_feature_vector,\n",
    " bond_to_feature_vector, atom_feature_vector_to_dict, bond_feature_vector_to_dict) \n",
    "\n",
    "import pickle\n",
    "\n",
    "\n",
    "def mol2graph(mol):\n",
    "    \"\"\"\n",
    "    Converts SMILES string to graph Data object\n",
    "    :input: SMILES string (str)\n",
    "    :return: graph object\n",
    "    \"\"\"\n",
    "\n",
    "    # atoms\n",
    "    atom_features_list = []\n",
    "    for atom in mol.GetAtoms():\n",
    "        atom_features_list.append(atom_to_feature_vector(atom))\n",
    "    x = np.array(atom_features_list, dtype = np.int64)\n",
    "\n",
    "    # bonds\n",
    "    num_bond_features = 3  # bond type, bond stereo, is_conjugated\n",
    "    if len(mol.GetBonds()) > 0: # mol has bonds\n",
    "        edges_list = []\n",
    "        edge_features_list = []\n",
    "        for bond in mol.GetBonds():\n",
    "            i = bond.GetBeginAtomIdx()\n",
    "            j = bond.GetEndAtomIdx()\n",
    "\n",
    "            edge_feature = bond_to_feature_vector(bond)\n",
    "\n",
    "            # add edges in both directions\n",
    "            edges_list.append((i, j))\n",
    "            edge_features_list.append(edge_feature)\n",
    "            edges_list.append((j, i))\n",
    "            edge_features_list.append(edge_feature)\n",
    "\n",
    "        # data.edge_index: Graph connectivity in COO format with shape [2, num_edges]\n",
    "        edge_index = np.array(edges_list, dtype = np.int64).T\n",
    "\n",
    "        # data.edge_attr: Edge feature matrix with shape [num_edges, num_edge_features]\n",
    "        edge_attr = np.array(edge_features_list, dtype = np.int64)\n",
    "\n",
    "    else:   # mol has no bonds\n",
    "        edge_index = np.empty((2, 0), dtype = np.int64)\n",
    "        edge_attr = np.empty((0, num_bond_features), dtype = np.int64)\n",
    "\n",
    "    return x, edge_attr, edge_index\n",
    "\n",
    "\n",
    "def get_coordinate_features(mol):\n",
    "    conf = mol.GetConformer()\n",
    "    return conf.GetPositions()\n",
    "\n",
    "def mol2data(mol, y=None):\n",
    "    # Atom features\n",
    "    X, edge_attr, edge_index = mol2graph(mol)\n",
    "    \n",
    "    # Atom 3D coordinates\n",
    "    coordinates = get_coordinate_features(mol)\n",
    "    \n",
    "    X = torch.tensor(X, dtype=torch.float)\n",
    "    coordinates = torch.tensor(coordinates, dtype=torch.float)\n",
    "    edge_index = torch.tensor(edge_index, dtype=torch.long)\n",
    "    edge_attr = torch.tensor(edge_attr, dtype=torch.float)\n",
    "    \n",
    "    y = torch.tensor([y], dtype=torch.float)\n",
    "            \n",
    "    return Data(x=X, pos=coordinates, edge_index=edge_index, edge_attr=edge_attr, y=y)"
   ]
  },
  {
   "cell_type": "code",
   "execution_count": 84,
   "metadata": {},
   "outputs": [
    {
     "data": {
      "text/plain": [
       "tqdm.std.tqdm"
      ]
     },
     "execution_count": 84,
     "metadata": {},
     "output_type": "execute_result"
    }
   ],
   "source": [
    "tqdm"
   ]
  },
  {
   "cell_type": "code",
   "execution_count": 23,
   "metadata": {},
   "outputs": [],
   "source": [
    "def absoluteFilePaths(directory):\n",
    "    for dirpath,_,filenames in os.walk(directory):\n",
    "        for f in filenames:\n",
    "            yield os.path.abspath(os.path.join(dirpath, f))"
   ]
  },
  {
   "cell_type": "code",
   "execution_count": 103,
   "metadata": {},
   "outputs": [
    {
     "data": {
      "text/plain": [
       "304340"
      ]
     },
     "execution_count": 103,
     "metadata": {},
     "output_type": "execute_result"
    }
   ],
   "source": [
    "drugs = os.listdir(\"../data/rdkit_folder/drugs/\")\n",
    "len(drugs)"
   ]
  },
  {
   "cell_type": "code",
   "execution_count": 54,
   "metadata": {},
   "outputs": [],
   "source": [
    "def get_2conformers(data):\n",
    "    confs = data[\"conformers\"]\n",
    "    for conf in confs:\n",
    "        if conf[\"set\"] == 1:\n",
    "            conf1 = conf\n",
    "        elif conf[\"set\"] == data[\"uniqueconfs\"]:\n",
    "            conf2 = conf\n",
    "\n",
    "    energy_diff = conf2[\"totalenergy\"] - conf1[\"totalenergy\"]\n",
    "    \n",
    "    return conf1[\"rd_mol\"], conf2[\"rd_mol\"], energy_diff\n",
    "\n",
    "\n"
   ]
  },
  {
   "cell_type": "code",
   "execution_count": null,
   "metadata": {},
   "outputs": [],
   "source": []
  },
  {
   "cell_type": "code",
   "execution_count": 64,
   "metadata": {
    "collapsed": true,
    "jupyter": {
     "outputs_hidden": true
    }
   },
   "outputs": [
    {
     "name": "stderr",
     "output_type": "stream",
     "text": [
      "4264it [01:57, 27.45it/s]"
     ]
    },
    {
     "name": "stdout",
     "output_type": "stream",
     "text": [
      "{'totalconfs': 1335, 'temperature': 298.15, 'uniqueconfs': 375, 'lowestenergy': -177.54216, 'poplowestpct': 27.186, 'ensembleenergy': 0.67, 'ensembleentropy': 11.225, 'ensemblefreeenergy': -3.347, 'sars_cov_two_active': 0, 'sars_cov_one_pl_protease_active': 0, 'sars_cov_one_cl_protease_active': 0, 'charge': 0, 'datasets': ['aid1706', 'expanded_external_library', 'plpro', 'amu_sars_cov_2_in_vitro'], 'conformers': [{'geom_id': 104751840, 'set': 1, 'degeneracy': 219, 'totalenergy': -177.54282052, 'relativeenergy': 0.0, 'boltzmannweight': 0.95726, 'conformerweights': [0.00439, 0.00439, 0.00439, 0.00439, 0.00439, 0.00439, 0.00439, 0.00439, 0.00439, 0.00439, 0.00439, 0.00439, 0.00438, 0.00438, 0.00438, 0.00438, 0.00438, 0.00438, 0.00438, 0.00438, 0.00438, 0.00438, 0.00438, 0.00438, 0.00438, 0.00438, 0.00438, 0.00438, 0.00438, 0.00438, 0.00438, 0.00438, 0.00438, 0.00438, 0.00438, 0.00438, 0.00438, 0.00438, 0.00438, 0.00438, 0.00438, 0.00438, 0.00438, 0.00438, 0.00438, 0.00438, 0.00438, 0.00438, 0.00438, 0.00438, 0.00438, 0.00438, 0.00438, 0.00438, 0.00438, 0.00438, 0.00438, 0.00438, 0.00438, 0.00438, 0.00438, 0.00438, 0.00438, 0.00438, 0.00438, 0.00438, 0.00438, 0.00438, 0.00438, 0.00438, 0.00438, 0.00438, 0.00438, 0.00438, 0.00438, 0.00438, 0.00438, 0.00438, 0.00438, 0.00438, 0.00438, 0.00438, 0.00438, 0.00438, 0.00438, 0.00438, 0.00438, 0.00438, 0.00438, 0.00438, 0.00438, 0.00438, 0.00438, 0.00438, 0.00438, 0.00438, 0.00438, 0.00438, 0.00438, 0.00438, 0.00438, 0.00438, 0.00438, 0.00438, 0.00438, 0.00438, 0.00438, 0.00438, 0.00438, 0.00438, 0.00438, 0.00438, 0.00438, 0.00438, 0.00438, 0.00438, 0.00438, 0.00437, 0.00437, 0.00437, 0.00437, 0.00437, 0.00437, 0.00437, 0.00437, 0.00437, 0.00437, 0.00437, 0.00437, 0.00437, 0.00437, 0.00437, 0.00437, 0.00437, 0.00437, 0.00437, 0.00437, 0.00437, 0.00437, 0.00437, 0.00437, 0.00437, 0.00437, 0.00437, 0.00437, 0.00437, 0.00437, 0.00437, 0.00437, 0.00437, 0.00437, 0.00437, 0.00437, 0.00437, 0.00437, 0.00437, 0.00437, 0.00437, 0.00437, 0.00437, 0.00437, 0.00437, 0.00437, 0.00437, 0.00437, 0.00437, 0.00437, 0.00436, 0.00436, 0.00436, 0.00436, 0.00436, 0.00436, 0.00436, 0.00436, 0.00436, 0.00436, 0.00436, 0.00436, 0.00436, 0.00436, 0.00436, 0.00436, 0.00436, 0.00436, 0.00436, 0.00436, 0.00436, 0.00436, 0.00436, 0.00436, 0.00436, 0.00436, 0.00436, 0.00436, 0.00436, 0.00436, 0.00435, 0.00435, 0.00435, 0.00435, 0.00435, 0.00435, 0.00435, 0.00435, 0.00435, 0.00435, 0.00435, 0.00435, 0.00434, 0.00434, 0.00433, 0.00433, 0.00433, 0.00432, 0.00432, 0.0043, 0.00429, 0.00424], 'rd_mol': <rdkit.Chem.rdchem.Mol object at 0x7fb939c21350>}, {'geom_id': 104751841, 'set': 2, 'degeneracy': 2, 'totalenergy': -177.54211335, 'relativeenergy': 0.444, 'boltzmannweight': 0.00413, 'conformerweights': [0.00208, 0.00205], 'rd_mol': <rdkit.Chem.rdchem.Mol object at 0x7fb939c21c10>}, {'geom_id': 104751842, 'set': 3, 'degeneracy': 1, 'totalenergy': -177.54186559, 'relativeenergy': 0.599, 'boltzmannweight': 0.0016, 'conformerweights': [0.0016], 'rd_mol': <rdkit.Chem.rdchem.Mol object at 0x7fb939c22b60>}, {'geom_id': 104751843, 'set': 4, 'degeneracy': 4, 'totalenergy': -177.54180786, 'relativeenergy': 0.635, 'boltzmannweight': 0.006, 'conformerweights': [0.0015, 0.0015, 0.0015, 0.0015], 'rd_mol': <rdkit.Chem.rdchem.Mol object at 0x7fb939c21440>}, {'geom_id': 104751844, 'set': 5, 'degeneracy': 1, 'totalenergy': -177.54113627, 'relativeenergy': 1.057, 'boltzmannweight': 0.00074, 'conformerweights': [0.00074], 'rd_mol': <rdkit.Chem.rdchem.Mol object at 0x7fb939c23b00>}, {'geom_id': 104751845, 'set': 6, 'degeneracy': 1, 'totalenergy': -177.5408834, 'relativeenergy': 1.216, 'boltzmannweight': 0.00056, 'conformerweights': [0.00056], 'rd_mol': <rdkit.Chem.rdchem.Mol object at 0x7fb939c20090>}, {'geom_id': 104751846, 'set': 7, 'degeneracy': 1, 'totalenergy': -177.54084167, 'relativeenergy': 1.242, 'boltzmannweight': 0.00054, 'conformerweights': [0.00054], 'rd_mol': <rdkit.Chem.rdchem.Mol object at 0x7fb939c23c90>}, {'geom_id': 104751847, 'set': 8, 'degeneracy': 2, 'totalenergy': -177.54054487, 'relativeenergy': 1.428, 'boltzmannweight': 0.00077, 'conformerweights': [0.00039, 0.00038], 'rd_mol': <rdkit.Chem.rdchem.Mol object at 0x7fb939c21710>}, {'geom_id': 104751848, 'set': 9, 'degeneracy': 7, 'totalenergy': -177.54031996, 'relativeenergy': 1.569, 'boltzmannweight': 0.00205, 'conformerweights': [0.00031, 0.00031, 0.00031, 0.0003, 0.0003, 0.00026, 0.00026], 'rd_mol': <rdkit.Chem.rdchem.Mol object at 0x7fb939c22f20>}, {'geom_id': 104751849, 'set': 10, 'degeneracy': 1, 'totalenergy': -177.5402213, 'relativeenergy': 1.631, 'boltzmannweight': 0.00028, 'conformerweights': [0.00028], 'rd_mol': <rdkit.Chem.rdchem.Mol object at 0x7fb939c225c0>}, {'geom_id': 104751850, 'set': 11, 'degeneracy': 2, 'totalenergy': -177.54019402, 'relativeenergy': 1.648, 'boltzmannweight': 0.00054, 'conformerweights': [0.00027, 0.00027], 'rd_mol': <rdkit.Chem.rdchem.Mol object at 0x7fb939c21e40>}, {'geom_id': 104751851, 'set': 12, 'degeneracy': 5, 'totalenergy': -177.54012923, 'relativeenergy': 1.689, 'boltzmannweight': 0.00126, 'conformerweights': [0.00025, 0.00025, 0.00025, 0.00025, 0.00025], 'rd_mol': <rdkit.Chem.rdchem.Mol object at 0x7fb939c21a30>}, {'geom_id': 104751852, 'set': 13, 'degeneracy': 29, 'totalenergy': -177.54011669, 'relativeenergy': 1.697, 'boltzmannweight': 0.00724, 'conformerweights': [0.00025, 0.00025, 0.00025, 0.00025, 0.00025, 0.00025, 0.00025, 0.00025, 0.00025, 0.00025, 0.00025, 0.00025, 0.00025, 0.00025, 0.00025, 0.00025, 0.00025, 0.00025, 0.00025, 0.00025, 0.00025, 0.00025, 0.00025, 0.00025, 0.00025, 0.00025, 0.00025, 0.00024, 0.00024], 'rd_mol': <rdkit.Chem.rdchem.Mol object at 0x7fb939c21b70>}, {'geom_id': 104751853, 'set': 14, 'degeneracy': 10, 'totalenergy': -177.54003393, 'relativeenergy': 1.749, 'boltzmannweight': 0.0021, 'conformerweights': [0.00023, 0.00021, 0.00021, 0.00021, 0.00021, 0.00021, 0.00021, 0.00021, 0.00021, 0.0002], 'rd_mol': <rdkit.Chem.rdchem.Mol object at 0x7fb939c236f0>}, {'geom_id': 104751854, 'set': 15, 'degeneracy': 1, 'totalenergy': -177.53938802, 'relativeenergy': 2.154, 'boltzmannweight': 0.00012, 'conformerweights': [0.00012], 'rd_mol': <rdkit.Chem.rdchem.Mol object at 0x7fb939c23970>}, {'geom_id': 104751855, 'set': 16, 'degeneracy': 23, 'totalenergy': -177.53937104, 'relativeenergy': 2.165, 'boltzmannweight': 0.00261, 'conformerweights': [0.00011, 0.00011, 0.00011, 0.00011, 0.00011, 0.00011, 0.00011, 0.00011, 0.00011, 0.00011, 0.00011, 0.00011, 0.00011, 0.00011, 0.00011, 0.00011, 0.00011, 0.00011, 0.00011, 0.00011, 0.00011, 0.00011, 0.00011], 'rd_mol': <rdkit.Chem.rdchem.Mol object at 0x7fb939c2f420>}, {'geom_id': 104751856, 'set': 17, 'degeneracy': 1, 'totalenergy': -177.53927921, 'relativeenergy': 2.222, 'boltzmannweight': 0.0001, 'conformerweights': [0.0001], 'rd_mol': <rdkit.Chem.rdchem.Mol object at 0x7fb9406e4680>}, {'geom_id': 104751857, 'set': 18, 'degeneracy': 2, 'totalenergy': -177.5392294, 'relativeenergy': 2.253, 'boltzmannweight': 0.0002, 'conformerweights': [0.0001, 0.0001], 'rd_mol': <rdkit.Chem.rdchem.Mol object at 0x7fb939c2d1c0>}, {'geom_id': 104751858, 'set': 19, 'degeneracy': 1, 'totalenergy': -177.53918756, 'relativeenergy': 2.28, 'boltzmannweight': 9e-05, 'conformerweights': [9e-05], 'rd_mol': <rdkit.Chem.rdchem.Mol object at 0x7fb939c2da30>}, {'geom_id': 104751859, 'set': 20, 'degeneracy': 8, 'totalenergy': -177.5391825, 'relativeenergy': 2.283, 'boltzmannweight': 0.00073, 'conformerweights': [9e-05, 9e-05, 9e-05, 9e-05, 9e-05, 9e-05, 9e-05, 9e-05], 'rd_mol': <rdkit.Chem.rdchem.Mol object at 0x7fb9406e5ad0>}, {'geom_id': 104751860, 'set': 21, 'degeneracy': 3, 'totalenergy': -177.53916698, 'relativeenergy': 2.293, 'boltzmannweight': 0.00027, 'conformerweights': [9e-05, 9e-05, 9e-05], 'rd_mol': <rdkit.Chem.rdchem.Mol object at 0x7fb9406e5800>}, {'geom_id': 104751861, 'set': 22, 'degeneracy': 13, 'totalenergy': -177.53909811, 'relativeenergy': 2.336, 'boltzmannweight': 0.00108, 'conformerweights': [9e-05, 9e-05, 9e-05, 8e-05, 8e-05, 8e-05, 8e-05, 8e-05, 8e-05, 8e-05, 8e-05, 8e-05, 8e-05], 'rd_mol': <rdkit.Chem.rdchem.Mol object at 0x7fb9406e7dd0>}, {'geom_id': 104751862, 'set': 23, 'degeneracy': 2, 'totalenergy': -177.53908159, 'relativeenergy': 2.346, 'boltzmannweight': 0.00016, 'conformerweights': [8e-05, 8e-05], 'rd_mol': <rdkit.Chem.rdchem.Mol object at 0x7fb939be5c60>}, {'geom_id': 104751863, 'set': 24, 'degeneracy': 1, 'totalenergy': -177.53905701, 'relativeenergy': 2.362, 'boltzmannweight': 8e-05, 'conformerweights': [8e-05], 'rd_mol': <rdkit.Chem.rdchem.Mol object at 0x7fb939be7d80>}, {'geom_id': 104751864, 'set': 25, 'degeneracy': 7, 'totalenergy': -177.53901011, 'relativeenergy': 2.391, 'boltzmannweight': 0.00052, 'conformerweights': [8e-05, 8e-05, 8e-05, 8e-05, 8e-05, 7e-05, 7e-05], 'rd_mol': <rdkit.Chem.rdchem.Mol object at 0x7fb939c2d7b0>}, {'geom_id': 104751865, 'set': 26, 'degeneracy': 12, 'totalenergy': -177.53880459, 'relativeenergy': 2.52, 'boltzmannweight': 0.0007, 'conformerweights': [6e-05, 6e-05, 6e-05, 6e-05, 6e-05, 6e-05, 6e-05, 6e-05, 6e-05, 6e-05, 6e-05, 6e-05], 'rd_mol': <rdkit.Chem.rdchem.Mol object at 0x7fb940f45fd0>}, {'geom_id': 104751866, 'set': 27, 'degeneracy': 21, 'totalenergy': -177.53873595, 'relativeenergy': 2.563, 'boltzmannweight': 0.00113, 'conformerweights': [6e-05, 6e-05, 6e-05, 6e-05, 6e-05, 6e-05, 6e-05, 5e-05, 5e-05, 5e-05, 5e-05, 5e-05, 5e-05, 5e-05, 5e-05, 5e-05, 5e-05, 5e-05, 5e-05, 5e-05, 5e-05], 'rd_mol': <rdkit.Chem.rdchem.Mol object at 0x7fb939be6340>}, {'geom_id': 104751867, 'set': 28, 'degeneracy': 1, 'totalenergy': -177.53871906, 'relativeenergy': 2.574, 'boltzmannweight': 6e-05, 'conformerweights': [6e-05], 'rd_mol': <rdkit.Chem.rdchem.Mol object at 0x7fb939c2f4c0>}, {'geom_id': 104751868, 'set': 29, 'degeneracy': 32, 'totalenergy': -177.53864256, 'relativeenergy': 2.622, 'boltzmannweight': 0.00168, 'conformerweights': [5e-05, 5e-05, 5e-05, 5e-05, 5e-05, 5e-05, 5e-05, 5e-05, 5e-05, 5e-05, 5e-05, 5e-05, 5e-05, 5e-05, 5e-05, 5e-05, 5e-05, 5e-05, 5e-05, 5e-05, 5e-05, 5e-05, 5e-05, 5e-05, 5e-05, 5e-05, 5e-05, 5e-05, 5e-05, 5e-05, 5e-05, 5e-05], 'rd_mol': <rdkit.Chem.rdchem.Mol object at 0x7fb939c2c130>}, {'geom_id': 104751869, 'set': 30, 'degeneracy': 1, 'totalenergy': -177.53862252, 'relativeenergy': 2.634, 'boltzmannweight': 5e-05, 'conformerweights': [5e-05], 'rd_mol': <rdkit.Chem.rdchem.Mol object at 0x7fb939c2ea20>}, {'geom_id': 104751870, 'set': 31, 'degeneracy': 1, 'totalenergy': -177.53858971, 'relativeenergy': 2.655, 'boltzmannweight': 5e-05, 'conformerweights': [5e-05], 'rd_mol': <rdkit.Chem.rdchem.Mol object at 0x7fb939c2da80>}, {'geom_id': 104751871, 'set': 32, 'degeneracy': 2, 'totalenergy': -177.53851298, 'relativeenergy': 2.703, 'boltzmannweight': 9e-05, 'conformerweights': [5e-05, 5e-05], 'rd_mol': <rdkit.Chem.rdchem.Mol object at 0x7fb939c2cef0>}, {'geom_id': 104751872, 'set': 33, 'degeneracy': 1, 'totalenergy': -177.53849235, 'relativeenergy': 2.716, 'boltzmannweight': 4e-05, 'conformerweights': [4e-05], 'rd_mol': <rdkit.Chem.rdchem.Mol object at 0x7fb939be5c10>}, {'geom_id': 104751873, 'set': 34, 'degeneracy': 2, 'totalenergy': -177.53843229, 'relativeenergy': 2.754, 'boltzmannweight': 8e-05, 'conformerweights': [4e-05, 4e-05], 'rd_mol': <rdkit.Chem.rdchem.Mol object at 0x7fb939c2ce00>}, {'geom_id': 104751875, 'set': 35, 'degeneracy': 1, 'totalenergy': -177.53835836, 'relativeenergy': 2.8, 'boltzmannweight': 4e-05, 'conformerweights': [4e-05], 'rd_mol': <rdkit.Chem.rdchem.Mol object at 0x7fb939c2fba0>}, {'geom_id': 104751877, 'set': 36, 'degeneracy': 4, 'totalenergy': -177.53835481, 'relativeenergy': 2.802, 'boltzmannweight': 0.00015, 'conformerweights': [4e-05, 4e-05, 4e-05, 3e-05], 'rd_mol': <rdkit.Chem.rdchem.Mol object at 0x7fb939c2e610>}, {'geom_id': 104751878, 'set': 37, 'degeneracy': 8, 'totalenergy': -177.53828994, 'relativeenergy': 2.843, 'boltzmannweight': 0.00029, 'conformerweights': [4e-05, 4e-05, 4e-05, 4e-05, 4e-05, 4e-05, 3e-05, 3e-05], 'rd_mol': <rdkit.Chem.rdchem.Mol object at 0x7fb939be4310>}, {'geom_id': 104751879, 'set': 38, 'degeneracy': 3, 'totalenergy': -177.53827904, 'relativeenergy': 2.85, 'boltzmannweight': 0.00011, 'conformerweights': [4e-05, 4e-05, 3e-05], 'rd_mol': <rdkit.Chem.rdchem.Mol object at 0x7fb939be4bd0>}, {'geom_id': 104751880, 'set': 39, 'degeneracy': 11, 'totalenergy': -177.53827622, 'relativeenergy': 2.852, 'boltzmannweight': 0.00039, 'conformerweights': [4e-05, 4e-05, 4e-05, 4e-05, 4e-05, 4e-05, 4e-05, 4e-05, 4e-05, 4e-05, 3e-05], 'rd_mol': <rdkit.Chem.rdchem.Mol object at 0x7fb939c2cb30>}, {'geom_id': 104751881, 'set': 40, 'degeneracy': 3, 'totalenergy': -177.53825028, 'relativeenergy': 2.868, 'boltzmannweight': 0.0001, 'conformerweights': [3e-05, 3e-05, 3e-05], 'rd_mol': <rdkit.Chem.rdchem.Mol object at 0x7fb939c2e3e0>}, {'geom_id': 104751882, 'set': 41, 'degeneracy': 1, 'totalenergy': -177.53822182, 'relativeenergy': 2.886, 'boltzmannweight': 3e-05, 'conformerweights': [3e-05], 'rd_mol': <rdkit.Chem.rdchem.Mol object at 0x7fb939be62a0>}, {'geom_id': 104751883, 'set': 42, 'degeneracy': 1, 'totalenergy': -177.53810005, 'relativeenergy': 2.962, 'boltzmannweight': 3e-05, 'conformerweights': [3e-05], 'rd_mol': <rdkit.Chem.rdchem.Mol object at 0x7fb939c2c400>}, {'geom_id': 104751884, 'set': 43, 'degeneracy': 3, 'totalenergy': -177.53809016, 'relativeenergy': 2.968, 'boltzmannweight': 9e-05, 'conformerweights': [3e-05, 3e-05, 3e-05], 'rd_mol': <rdkit.Chem.rdchem.Mol object at 0x7fb939c2cf40>}, {'geom_id': 104751885, 'set': 44, 'degeneracy': 6, 'totalenergy': -177.53804702, 'relativeenergy': 2.995, 'boltzmannweight': 0.00015, 'conformerweights': [3e-05, 3e-05, 2e-05, 2e-05, 2e-05, 2e-05], 'rd_mol': <rdkit.Chem.rdchem.Mol object at 0x7fb939c2f970>}, {'geom_id': 104751886, 'set': 45, 'degeneracy': 1, 'totalenergy': -177.53801318, 'relativeenergy': 3.017, 'boltzmannweight': 3e-05, 'conformerweights': [3e-05], 'rd_mol': <rdkit.Chem.rdchem.Mol object at 0x7fb939c2db20>}, {'geom_id': 104751887, 'set': 46, 'degeneracy': 2, 'totalenergy': -177.53800355, 'relativeenergy': 3.023, 'boltzmannweight': 5e-05, 'conformerweights': [3e-05, 2e-05], 'rd_mol': <rdkit.Chem.rdchem.Mol object at 0x7fb939be5e40>}, {'geom_id': 104751888, 'set': 47, 'degeneracy': 9, 'totalenergy': -177.53799561, 'relativeenergy': 3.028, 'boltzmannweight': 0.00023, 'conformerweights': [3e-05, 3e-05, 3e-05, 3e-05, 3e-05, 3e-05, 3e-05, 2e-05, 2e-05], 'rd_mol': <rdkit.Chem.rdchem.Mol object at 0x7fb939be6cf0>}, {'geom_id': 104751889, 'set': 48, 'degeneracy': 1, 'totalenergy': -177.53798784, 'relativeenergy': 3.033, 'boltzmannweight': 3e-05, 'conformerweights': [3e-05], 'rd_mol': <rdkit.Chem.rdchem.Mol object at 0x7fb939c2c450>}, {'geom_id': 104751890, 'set': 49, 'degeneracy': 1, 'totalenergy': -177.53791278, 'relativeenergy': 3.08, 'boltzmannweight': 2e-05, 'conformerweights': [2e-05], 'rd_mol': <rdkit.Chem.rdchem.Mol object at 0x7fb939c2eed0>}, {'geom_id': 104751891, 'set': 50, 'degeneracy': 1, 'totalenergy': -177.53786236, 'relativeenergy': 3.111, 'boltzmannweight': 2e-05, 'conformerweights': [2e-05], 'rd_mol': <rdkit.Chem.rdchem.Mol object at 0x7fb939be53f0>}, {'geom_id': 104751892, 'set': 51, 'degeneracy': 2, 'totalenergy': -177.53786231, 'relativeenergy': 3.111, 'boltzmannweight': 5e-05, 'conformerweights': [2e-05, 2e-05], 'rd_mol': <rdkit.Chem.rdchem.Mol object at 0x7fb939be6c00>}, {'geom_id': 104751893, 'set': 52, 'degeneracy': 3, 'totalenergy': -177.53784137, 'relativeenergy': 3.124, 'boltzmannweight': 6e-05, 'conformerweights': [2e-05, 2e-05, 2e-05], 'rd_mol': <rdkit.Chem.rdchem.Mol object at 0x7fb939c2f330>}, {'geom_id': 104751894, 'set': 53, 'degeneracy': 6, 'totalenergy': -177.53782287, 'relativeenergy': 3.136, 'boltzmannweight': 0.00012, 'conformerweights': [2e-05, 2e-05, 2e-05, 2e-05, 2e-05, 2e-05], 'rd_mol': <rdkit.Chem.rdchem.Mol object at 0x7fb939c2cb80>}, {'geom_id': 104751895, 'set': 54, 'degeneracy': 1, 'totalenergy': -177.53781281, 'relativeenergy': 3.142, 'boltzmannweight': 2e-05, 'conformerweights': [2e-05], 'rd_mol': <rdkit.Chem.rdchem.Mol object at 0x7fb939c2c220>}, {'geom_id': 104751896, 'set': 55, 'degeneracy': 2, 'totalenergy': -177.5377911, 'relativeenergy': 3.156, 'boltzmannweight': 4e-05, 'conformerweights': [2e-05, 2e-05], 'rd_mol': <rdkit.Chem.rdchem.Mol object at 0x7fb939c2cd60>}, {'geom_id': 104751897, 'set': 56, 'degeneracy': 1, 'totalenergy': -177.53777718, 'relativeenergy': 3.165, 'boltzmannweight': 2e-05, 'conformerweights': [2e-05], 'rd_mol': <rdkit.Chem.rdchem.Mol object at 0x7fb939be5f80>}, {'geom_id': 104751898, 'set': 57, 'degeneracy': 1, 'totalenergy': -177.53775623, 'relativeenergy': 3.178, 'boltzmannweight': 2e-05, 'conformerweights': [2e-05], 'rd_mol': <rdkit.Chem.rdchem.Mol object at 0x7fb939be4e50>}, {'geom_id': 104751899, 'set': 58, 'degeneracy': 1, 'totalenergy': -177.53775282, 'relativeenergy': 3.18, 'boltzmannweight': 2e-05, 'conformerweights': [2e-05], 'rd_mol': <rdkit.Chem.rdchem.Mol object at 0x7fb939be54e0>}, {'geom_id': 104751900, 'set': 59, 'degeneracy': 2, 'totalenergy': -177.53773818, 'relativeenergy': 3.189, 'boltzmannweight': 4e-05, 'conformerweights': [2e-05, 2e-05], 'rd_mol': <rdkit.Chem.rdchem.Mol object at 0x7fb939c2ef20>}, {'geom_id': 104751901, 'set': 60, 'degeneracy': 4, 'totalenergy': -177.53771673, 'relativeenergy': 3.203, 'boltzmannweight': 8e-05, 'conformerweights': [2e-05, 2e-05, 2e-05, 2e-05], 'rd_mol': <rdkit.Chem.rdchem.Mol object at 0x7fb9406f6520>}, {'geom_id': 104751902, 'set': 61, 'degeneracy': 5, 'totalenergy': -177.53763831, 'relativeenergy': 3.252, 'boltzmannweight': 9e-05, 'conformerweights': [2e-05, 2e-05, 2e-05, 2e-05, 2e-05], 'rd_mol': <rdkit.Chem.rdchem.Mol object at 0x7fb939be5530>}, {'geom_id': 104751903, 'set': 62, 'degeneracy': 1, 'totalenergy': -177.53761296, 'relativeenergy': 3.268, 'boltzmannweight': 2e-05, 'conformerweights': [2e-05], 'rd_mol': <rdkit.Chem.rdchem.Mol object at 0x7fb939be4900>}, {'geom_id': 104751904, 'set': 63, 'degeneracy': 1, 'totalenergy': -177.53758889, 'relativeenergy': 3.283, 'boltzmannweight': 2e-05, 'conformerweights': [2e-05], 'rd_mol': <rdkit.Chem.rdchem.Mol object at 0x7fb939be6160>}, {'geom_id': 104751905, 'set': 64, 'degeneracy': 4, 'totalenergy': -177.53757677, 'relativeenergy': 3.29, 'boltzmannweight': 7e-05, 'conformerweights': [2e-05, 2e-05, 2e-05, 2e-05], 'rd_mol': <rdkit.Chem.rdchem.Mol object at 0x7fb940eb7420>}, {'geom_id': 104751906, 'set': 65, 'degeneracy': 16, 'totalenergy': -177.53755244, 'relativeenergy': 3.306, 'boltzmannweight': 0.00024, 'conformerweights': [2e-05, 2e-05, 2e-05, 2e-05, 2e-05, 1e-05, 1e-05, 1e-05, 1e-05, 1e-05, 1e-05, 1e-05, 1e-05, 1e-05, 1e-05, 1e-05], 'rd_mol': <rdkit.Chem.rdchem.Mol object at 0x7fb939c2ff10>}, {'geom_id': 104751907, 'set': 66, 'degeneracy': 1, 'totalenergy': -177.53753924, 'relativeenergy': 3.314, 'boltzmannweight': 2e-05, 'conformerweights': [2e-05], 'rd_mol': <rdkit.Chem.rdchem.Mol object at 0x7fb939c2fe70>}, {'geom_id': 104751908, 'set': 67, 'degeneracy': 1, 'totalenergy': -177.53753528, 'relativeenergy': 3.317, 'boltzmannweight': 2e-05, 'conformerweights': [2e-05], 'rd_mol': <rdkit.Chem.rdchem.Mol object at 0x7fb939be77e0>}, {'geom_id': 104751909, 'set': 68, 'degeneracy': 1, 'totalenergy': -177.53753344, 'relativeenergy': 3.318, 'boltzmannweight': 2e-05, 'conformerweights': [2e-05], 'rd_mol': <rdkit.Chem.rdchem.Mol object at 0x7fb939be5620>}, {'geom_id': 104751910, 'set': 69, 'degeneracy': 1, 'totalenergy': -177.53749521, 'relativeenergy': 3.342, 'boltzmannweight': 2e-05, 'conformerweights': [2e-05], 'rd_mol': <rdkit.Chem.rdchem.Mol object at 0x7fb94101ea20>}, {'geom_id': 104751911, 'set': 70, 'degeneracy': 1, 'totalenergy': -177.53748841, 'relativeenergy': 3.346, 'boltzmannweight': 2e-05, 'conformerweights': [2e-05], 'rd_mol': <rdkit.Chem.rdchem.Mol object at 0x7fb939c2d9e0>}, {'geom_id': 104751912, 'set': 71, 'degeneracy': 1, 'totalenergy': -177.53747288, 'relativeenergy': 3.356, 'boltzmannweight': 2e-05, 'conformerweights': [2e-05], 'rd_mol': <rdkit.Chem.rdchem.Mol object at 0x7fb94101e340>}, {'geom_id': 104751913, 'set': 72, 'degeneracy': 2, 'totalenergy': -177.53741035, 'relativeenergy': 3.395, 'boltzmannweight': 3e-05, 'conformerweights': [1e-05, 1e-05], 'rd_mol': <rdkit.Chem.rdchem.Mol object at 0x7fb94101f6a0>}, {'geom_id': 104751914, 'set': 73, 'degeneracy': 4, 'totalenergy': -177.53738628, 'relativeenergy': 3.41, 'boltzmannweight': 6e-05, 'conformerweights': [1e-05, 1e-05, 1e-05, 1e-05], 'rd_mol': <rdkit.Chem.rdchem.Mol object at 0x7fb939be5ad0>}, {'geom_id': 104751915, 'set': 74, 'degeneracy': 3, 'totalenergy': -177.53738394, 'relativeenergy': 3.412, 'boltzmannweight': 4e-05, 'conformerweights': [1e-05, 1e-05, 1e-05], 'rd_mol': <rdkit.Chem.rdchem.Mol object at 0x7fb939be4040>}, {'geom_id': 104751916, 'set': 75, 'degeneracy': 1, 'totalenergy': -177.5373411, 'relativeenergy': 3.438, 'boltzmannweight': 1e-05, 'conformerweights': [1e-05], 'rd_mol': <rdkit.Chem.rdchem.Mol object at 0x7fb939be7650>}, {'geom_id': 104751917, 'set': 76, 'degeneracy': 1, 'totalenergy': -177.53733574, 'relativeenergy': 3.442, 'boltzmannweight': 1e-05, 'conformerweights': [1e-05], 'rd_mol': <rdkit.Chem.rdchem.Mol object at 0x7fb939be7380>}, {'geom_id': 104751918, 'set': 77, 'degeneracy': 41, 'totalenergy': -177.53728934, 'relativeenergy': 3.471, 'boltzmannweight': 0.00051, 'conformerweights': [1e-05, 1e-05, 1e-05, 1e-05, 1e-05, 1e-05, 1e-05, 1e-05, 1e-05, 1e-05, 1e-05, 1e-05, 1e-05, 1e-05, 1e-05, 1e-05, 1e-05, 1e-05, 1e-05, 1e-05, 1e-05, 1e-05, 1e-05, 1e-05, 1e-05, 1e-05, 1e-05, 1e-05, 1e-05, 1e-05, 1e-05, 1e-05, 1e-05, 1e-05, 1e-05, 1e-05, 1e-05, 1e-05, 1e-05, 1e-05, 1e-05], 'rd_mol': <rdkit.Chem.rdchem.Mol object at 0x7fb939be6b10>}, {'geom_id': 104751919, 'set': 78, 'degeneracy': 1, 'totalenergy': -177.53727892, 'relativeenergy': 3.477, 'boltzmannweight': 1e-05, 'conformerweights': [1e-05], 'rd_mol': <rdkit.Chem.rdchem.Mol object at 0x7fb939be71f0>}, {'geom_id': 104751920, 'set': 79, 'degeneracy': 3, 'totalenergy': -177.5372679, 'relativeenergy': 3.484, 'boltzmannweight': 4e-05, 'conformerweights': [1e-05, 1e-05, 1e-05], 'rd_mol': <rdkit.Chem.rdchem.Mol object at 0x7fb939be65c0>}, {'geom_id': 104751921, 'set': 80, 'degeneracy': 1, 'totalenergy': -177.53726504, 'relativeenergy': 3.486, 'boltzmannweight': 1e-05, 'conformerweights': [1e-05], 'rd_mol': <rdkit.Chem.rdchem.Mol object at 0x7fb939be6ac0>}, {'geom_id': 104751922, 'set': 81, 'degeneracy': 1, 'totalenergy': -177.5372576, 'relativeenergy': 3.491, 'boltzmannweight': 1e-05, 'conformerweights': [1e-05], 'rd_mol': <rdkit.Chem.rdchem.Mol object at 0x7fb9406e7ec0>}, {'geom_id': 104751923, 'set': 82, 'degeneracy': 1, 'totalenergy': -177.53724996, 'relativeenergy': 3.496, 'boltzmannweight': 1e-05, 'conformerweights': [1e-05], 'rd_mol': <rdkit.Chem.rdchem.Mol object at 0x7fb939c2f240>}, {'geom_id': 104751924, 'set': 83, 'degeneracy': 6, 'totalenergy': -177.53723626, 'relativeenergy': 3.504, 'boltzmannweight': 7e-05, 'conformerweights': [1e-05, 1e-05, 1e-05, 1e-05, 1e-05, 1e-05], 'rd_mol': <rdkit.Chem.rdchem.Mol object at 0x7fb939c2d120>}, {'geom_id': 104751925, 'set': 84, 'degeneracy': 1, 'totalenergy': -177.53721908, 'relativeenergy': 3.515, 'boltzmannweight': 1e-05, 'conformerweights': [1e-05], 'rd_mol': <rdkit.Chem.rdchem.Mol object at 0x7fb939be4630>}, {'geom_id': 104751926, 'set': 85, 'degeneracy': 12, 'totalenergy': -177.53718424, 'relativeenergy': 3.537, 'boltzmannweight': 0.00013, 'conformerweights': [1e-05, 1e-05, 1e-05, 1e-05, 1e-05, 1e-05, 1e-05, 1e-05, 1e-05, 1e-05, 1e-05, 1e-05], 'rd_mol': <rdkit.Chem.rdchem.Mol object at 0x7fb939c2ede0>}, {'geom_id': 104751927, 'set': 86, 'degeneracy': 1, 'totalenergy': -177.53711757, 'relativeenergy': 3.579, 'boltzmannweight': 1e-05, 'conformerweights': [1e-05], 'rd_mol': <rdkit.Chem.rdchem.Mol object at 0x7fb939be6f70>}, {'geom_id': 104751928, 'set': 87, 'degeneracy': 5, 'totalenergy': -177.53709836, 'relativeenergy': 3.591, 'boltzmannweight': 5e-05, 'conformerweights': [1e-05, 1e-05, 1e-05, 1e-05, 1e-05], 'rd_mol': <rdkit.Chem.rdchem.Mol object at 0x7fb939be6110>}, {'geom_id': 104751929, 'set': 88, 'degeneracy': 10, 'totalenergy': -177.53705695, 'relativeenergy': 3.617, 'boltzmannweight': 9e-05, 'conformerweights': [1e-05, 1e-05, 1e-05, 1e-05, 1e-05, 1e-05, 1e-05, 1e-05, 1e-05, 1e-05], 'rd_mol': <rdkit.Chem.rdchem.Mol object at 0x7fb939c2e570>}, {'geom_id': 104751930, 'set': 89, 'degeneracy': 5, 'totalenergy': -177.53705686, 'relativeenergy': 3.617, 'boltzmannweight': 5e-05, 'conformerweights': [1e-05, 1e-05, 1e-05, 1e-05, 1e-05], 'rd_mol': <rdkit.Chem.rdchem.Mol object at 0x7fb939c2fc90>}, {'geom_id': 104751931, 'set': 90, 'degeneracy': 1, 'totalenergy': -177.53705169, 'relativeenergy': 3.62, 'boltzmannweight': 1e-05, 'conformerweights': [1e-05], 'rd_mol': <rdkit.Chem.rdchem.Mol object at 0x7fb939c2efc0>}, {'geom_id': 104751932, 'set': 91, 'degeneracy': 1, 'totalenergy': -177.53704519, 'relativeenergy': 3.624, 'boltzmannweight': 1e-05, 'conformerweights': [1e-05], 'rd_mol': <rdkit.Chem.rdchem.Mol object at 0x7fb939be6a70>}, {'geom_id': 104751933, 'set': 92, 'degeneracy': 4, 'totalenergy': -177.53702053, 'relativeenergy': 3.64, 'boltzmannweight': 4e-05, 'conformerweights': [1e-05, 1e-05, 1e-05, 1e-05], 'rd_mol': <rdkit.Chem.rdchem.Mol object at 0x7fb939c2dcb0>}, {'geom_id': 104751934, 'set': 93, 'degeneracy': 4, 'totalenergy': -177.53698603, 'relativeenergy': 3.661, 'boltzmannweight': 4e-05, 'conformerweights': [1e-05, 1e-05, 1e-05, 1e-05], 'rd_mol': <rdkit.Chem.rdchem.Mol object at 0x7fb939be63e0>}, {'geom_id': 104751935, 'set': 94, 'degeneracy': 2, 'totalenergy': -177.53697195, 'relativeenergy': 3.67, 'boltzmannweight': 2e-05, 'conformerweights': [1e-05, 1e-05], 'rd_mol': <rdkit.Chem.rdchem.Mol object at 0x7fb939c2d5d0>}, {'geom_id': 104751936, 'set': 95, 'degeneracy': 1, 'totalenergy': -177.5369565, 'relativeenergy': 3.68, 'boltzmannweight': 1e-05, 'conformerweights': [1e-05], 'rd_mol': <rdkit.Chem.rdchem.Mol object at 0x7fb939be6bb0>}, {'geom_id': 104751937, 'set': 96, 'degeneracy': 1, 'totalenergy': -177.53694631, 'relativeenergy': 3.686, 'boltzmannweight': 1e-05, 'conformerweights': [1e-05], 'rd_mol': <rdkit.Chem.rdchem.Mol object at 0x7fb939c2c720>}, {'geom_id': 104751938, 'set': 97, 'degeneracy': 1, 'totalenergy': -177.5369411, 'relativeenergy': 3.689, 'boltzmannweight': 1e-05, 'conformerweights': [1e-05], 'rd_mol': <rdkit.Chem.rdchem.Mol object at 0x7fb9406e51c0>}, {'geom_id': 104751939, 'set': 98, 'degeneracy': 6, 'totalenergy': -177.53692903, 'relativeenergy': 3.697, 'boltzmannweight': 5e-05, 'conformerweights': [1e-05, 1e-05, 1e-05, 1e-05, 1e-05, 1e-05], 'rd_mol': <rdkit.Chem.rdchem.Mol object at 0x7fb939be4f40>}, {'geom_id': 104751940, 'set': 99, 'degeneracy': 1, 'totalenergy': -177.53685278, 'relativeenergy': 3.745, 'boltzmannweight': 1e-05, 'conformerweights': [1e-05], 'rd_mol': <rdkit.Chem.rdchem.Mol object at 0x7fb939c2e9d0>}, {'geom_id': 104751941, 'set': 100, 'degeneracy': 3, 'totalenergy': -177.53681346, 'relativeenergy': 3.769, 'boltzmannweight': 2e-05, 'conformerweights': [1e-05, 1e-05, 1e-05], 'rd_mol': <rdkit.Chem.rdchem.Mol object at 0x7fb939be4220>}, {'geom_id': 104751942, 'set': 101, 'degeneracy': 1, 'totalenergy': -177.53680637, 'relativeenergy': 3.774, 'boltzmannweight': 1e-05, 'conformerweights': [1e-05], 'rd_mol': <rdkit.Chem.rdchem.Mol object at 0x7fb939c2f510>}, {'geom_id': 104751943, 'set': 102, 'degeneracy': 5, 'totalenergy': -177.53676929, 'relativeenergy': 3.797, 'boltzmannweight': 3e-05, 'conformerweights': [1e-05, 1e-05, 1e-05, 1e-05, 1e-05], 'rd_mol': <rdkit.Chem.rdchem.Mol object at 0x7fb9406e5a30>}, {'geom_id': 104751944, 'set': 103, 'degeneracy': 3, 'totalenergy': -177.53673934, 'relativeenergy': 3.816, 'boltzmannweight': 2e-05, 'conformerweights': [1e-05, 1e-05, 1e-05], 'rd_mol': <rdkit.Chem.rdchem.Mol object at 0x7fb939be68e0>}, {'geom_id': 104751945, 'set': 104, 'degeneracy': 1, 'totalenergy': -177.5367383, 'relativeenergy': 3.817, 'boltzmannweight': 1e-05, 'conformerweights': [1e-05], 'rd_mol': <rdkit.Chem.rdchem.Mol object at 0x7fb939be5260>}, {'geom_id': 104751946, 'set': 105, 'degeneracy': 3, 'totalenergy': -177.53673336, 'relativeenergy': 3.82, 'boltzmannweight': 2e-05, 'conformerweights': [1e-05, 1e-05, 1e-05], 'rd_mol': <rdkit.Chem.rdchem.Mol object at 0x7fb939be6a20>}, {'geom_id': 104751947, 'set': 106, 'degeneracy': 3, 'totalenergy': -177.5367272, 'relativeenergy': 3.824, 'boltzmannweight': 2e-05, 'conformerweights': [1e-05, 1e-05, 1e-05], 'rd_mol': <rdkit.Chem.rdchem.Mol object at 0x7fb9406c13a0>}, {'geom_id': 104751948, 'set': 107, 'degeneracy': 5, 'totalenergy': -177.53665939, 'relativeenergy': 3.866, 'boltzmannweight': 3e-05, 'conformerweights': [1e-05, 1e-05, 1e-05, 1e-05, 1e-05], 'rd_mol': <rdkit.Chem.rdchem.Mol object at 0x7fb939c20720>}, {'geom_id': 104751949, 'set': 108, 'degeneracy': 1, 'totalenergy': -177.53665313, 'relativeenergy': 3.87, 'boltzmannweight': 1e-05, 'conformerweights': [1e-05], 'rd_mol': <rdkit.Chem.rdchem.Mol object at 0x7fb9406c2a70>}, {'geom_id': 104751950, 'set': 109, 'degeneracy': 6, 'totalenergy': -177.53660189, 'relativeenergy': 3.902, 'boltzmannweight': 4e-05, 'conformerweights': [1e-05, 1e-05, 1e-05, 1e-05, 1e-05, 1e-05], 'rd_mol': <rdkit.Chem.rdchem.Mol object at 0x7fb939c2f830>}, {'geom_id': 104751951, 'set': 110, 'degeneracy': 2, 'totalenergy': -177.53658847, 'relativeenergy': 3.911, 'boltzmannweight': 1e-05, 'conformerweights': [1e-05, 1e-05], 'rd_mol': <rdkit.Chem.rdchem.Mol object at 0x7fb940faaed0>}, {'geom_id': 104751952, 'set': 111, 'degeneracy': 2, 'totalenergy': -177.53657344, 'relativeenergy': 3.92, 'boltzmannweight': 1e-05, 'conformerweights': [1e-05, 1e-05], 'rd_mol': <rdkit.Chem.rdchem.Mol object at 0x7fb939c212b0>}, {'geom_id': 104751953, 'set': 112, 'degeneracy': 2, 'totalenergy': -177.53656925, 'relativeenergy': 3.923, 'boltzmannweight': 1e-05, 'conformerweights': [1e-05, 1e-05], 'rd_mol': <rdkit.Chem.rdchem.Mol object at 0x7fb940fa8b80>}, {'geom_id': 104751954, 'set': 113, 'degeneracy': 1, 'totalenergy': -177.53654309, 'relativeenergy': 3.939, 'boltzmannweight': 1e-05, 'conformerweights': [1e-05], 'rd_mol': <rdkit.Chem.rdchem.Mol object at 0x7fb93bb62610>}, {'geom_id': 104751955, 'set': 114, 'degeneracy': 4, 'totalenergy': -177.53652511, 'relativeenergy': 3.95, 'boltzmannweight': 2e-05, 'conformerweights': [1e-05, 1e-05, 0.0, 0.0], 'rd_mol': <rdkit.Chem.rdchem.Mol object at 0x7fb94073b470>}, {'geom_id': 104751956, 'set': 115, 'degeneracy': 1, 'totalenergy': -177.53652248, 'relativeenergy': 3.952, 'boltzmannweight': 1e-05, 'conformerweights': [1e-05], 'rd_mol': <rdkit.Chem.rdchem.Mol object at 0x7fb939c209f0>}, {'geom_id': 104751957, 'set': 116, 'degeneracy': 1, 'totalenergy': -177.53648447, 'relativeenergy': 3.976, 'boltzmannweight': 1e-05, 'conformerweights': [1e-05], 'rd_mol': <rdkit.Chem.rdchem.Mol object at 0x7fb940edb380>}, {'geom_id': 104751958, 'set': 117, 'degeneracy': 2, 'totalenergy': -177.53648258, 'relativeenergy': 3.977, 'boltzmannweight': 1e-05, 'conformerweights': [1e-05, 0.0], 'rd_mol': <rdkit.Chem.rdchem.Mol object at 0x7fb940edb1f0>}, {'geom_id': 104751959, 'set': 118, 'degeneracy': 29, 'totalenergy': -177.53643912, 'relativeenergy': 4.004, 'boltzmannweight': 0.00014, 'conformerweights': [1e-05, 1e-05, 1e-05, 1e-05, 1e-05, 1e-05, 0.0, 0.0, 0.0, 0.0, 0.0, 0.0, 0.0, 0.0, 0.0, 0.0, 0.0, 0.0, 0.0, 0.0, 0.0, 0.0, 0.0, 0.0, 0.0, 0.0, 0.0, 0.0, 0.0], 'rd_mol': <rdkit.Chem.rdchem.Mol object at 0x7fb939c21da0>}, {'geom_id': 104751960, 'set': 119, 'degeneracy': 3, 'totalenergy': -177.53643304, 'relativeenergy': 4.008, 'boltzmannweight': 1e-05, 'conformerweights': [1e-05, 1e-05, 0.0], 'rd_mol': <rdkit.Chem.rdchem.Mol object at 0x7fb939c20c70>}, {'geom_id': 104751961, 'set': 120, 'degeneracy': 1, 'totalenergy': -177.53639888, 'relativeenergy': 4.03, 'boltzmannweight': 0.0, 'conformerweights': [0.0], 'rd_mol': <rdkit.Chem.rdchem.Mol object at 0x7fb939c204f0>}, {'geom_id': 104751962, 'set': 121, 'degeneracy': 1, 'totalenergy': -177.53639781, 'relativeenergy': 4.03, 'boltzmannweight': 0.0, 'conformerweights': [0.0], 'rd_mol': <rdkit.Chem.rdchem.Mol object at 0x7fb939c23e20>}, {'geom_id': 104751963, 'set': 122, 'degeneracy': 1, 'totalenergy': -177.53639269, 'relativeenergy': 4.034, 'boltzmannweight': 0.0, 'conformerweights': [0.0], 'rd_mol': <rdkit.Chem.rdchem.Mol object at 0x7fb939c23f60>}, {'geom_id': 104751964, 'set': 123, 'degeneracy': 1, 'totalenergy': -177.53639194, 'relativeenergy': 4.034, 'boltzmannweight': 0.0, 'conformerweights': [0.0], 'rd_mol': <rdkit.Chem.rdchem.Mol object at 0x7fb939d1bd80>}, {'geom_id': 104751965, 'set': 124, 'degeneracy': 2, 'totalenergy': -177.53638618, 'relativeenergy': 4.038, 'boltzmannweight': 1e-05, 'conformerweights': [0.0, 0.0], 'rd_mol': <rdkit.Chem.rdchem.Mol object at 0x7fb939c23e70>}, {'geom_id': 104751966, 'set': 125, 'degeneracy': 2, 'totalenergy': -177.53636043, 'relativeenergy': 4.054, 'boltzmannweight': 1e-05, 'conformerweights': [0.0, 0.0], 'rd_mol': <rdkit.Chem.rdchem.Mol object at 0x7fb939c23ce0>}, {'geom_id': 104751967, 'set': 126, 'degeneracy': 2, 'totalenergy': -177.53635521, 'relativeenergy': 4.057, 'boltzmannweight': 1e-05, 'conformerweights': [0.0, 0.0], 'rd_mol': <rdkit.Chem.rdchem.Mol object at 0x7fb939c20590>}, {'geom_id': 104751968, 'set': 127, 'degeneracy': 3, 'totalenergy': -177.53634803, 'relativeenergy': 4.062, 'boltzmannweight': 1e-05, 'conformerweights': [0.0, 0.0, 0.0], 'rd_mol': <rdkit.Chem.rdchem.Mol object at 0x7fb939c207c0>}, {'geom_id': 104751969, 'set': 128, 'degeneracy': 1, 'totalenergy': -177.53633123, 'relativeenergy': 4.072, 'boltzmannweight': 0.0, 'conformerweights': [0.0], 'rd_mol': <rdkit.Chem.rdchem.Mol object at 0x7fb939c20450>}, {'geom_id': 104751970, 'set': 129, 'degeneracy': 1, 'totalenergy': -177.53632479, 'relativeenergy': 4.076, 'boltzmannweight': 0.0, 'conformerweights': [0.0], 'rd_mol': <rdkit.Chem.rdchem.Mol object at 0x7fb939c20a90>}, {'geom_id': 104751971, 'set': 130, 'degeneracy': 1, 'totalenergy': -177.53631653, 'relativeenergy': 4.081, 'boltzmannweight': 0.0, 'conformerweights': [0.0], 'rd_mol': <rdkit.Chem.rdchem.Mol object at 0x7fb939c20cc0>}, {'geom_id': 104751972, 'set': 131, 'degeneracy': 1, 'totalenergy': -177.53631101, 'relativeenergy': 4.085, 'boltzmannweight': 0.0, 'conformerweights': [0.0], 'rd_mol': <rdkit.Chem.rdchem.Mol object at 0x7fb939c22bb0>}, {'geom_id': 104751973, 'set': 132, 'degeneracy': 1, 'totalenergy': -177.53627413, 'relativeenergy': 4.108, 'boltzmannweight': 0.0, 'conformerweights': [0.0], 'rd_mol': <rdkit.Chem.rdchem.Mol object at 0x7fb939c20770>}, {'geom_id': 104751974, 'set': 133, 'degeneracy': 5, 'totalenergy': -177.53627192, 'relativeenergy': 4.109, 'boltzmannweight': 2e-05, 'conformerweights': [0.0, 0.0, 0.0, 0.0, 0.0], 'rd_mol': <rdkit.Chem.rdchem.Mol object at 0x7fb939c21bc0>}, {'geom_id': 104751975, 'set': 134, 'degeneracy': 1, 'totalenergy': -177.53626653, 'relativeenergy': 4.113, 'boltzmannweight': 0.0, 'conformerweights': [0.0], 'rd_mol': <rdkit.Chem.rdchem.Mol object at 0x7fb93bbc0720>}, {'geom_id': 104751976, 'set': 135, 'degeneracy': 1, 'totalenergy': -177.53625267, 'relativeenergy': 4.121, 'boltzmannweight': 0.0, 'conformerweights': [0.0], 'rd_mol': <rdkit.Chem.rdchem.Mol object at 0x7fb939c21670>}, {'geom_id': 104751977, 'set': 136, 'degeneracy': 1, 'totalenergy': -177.53622809, 'relativeenergy': 4.137, 'boltzmannweight': 0.0, 'conformerweights': [0.0], 'rd_mol': <rdkit.Chem.rdchem.Mol object at 0x7fb939c23510>}, {'geom_id': 104751978, 'set': 137, 'degeneracy': 1, 'totalenergy': -177.53621886, 'relativeenergy': 4.143, 'boltzmannweight': 0.0, 'conformerweights': [0.0], 'rd_mol': <rdkit.Chem.rdchem.Mol object at 0x7fb939c22ca0>}, {'geom_id': 104751979, 'set': 138, 'degeneracy': 2, 'totalenergy': -177.53620983, 'relativeenergy': 4.148, 'boltzmannweight': 1e-05, 'conformerweights': [0.0, 0.0], 'rd_mol': <rdkit.Chem.rdchem.Mol object at 0x7fb939c48f90>}, {'geom_id': 104751980, 'set': 139, 'degeneracy': 1, 'totalenergy': -177.53619887, 'relativeenergy': 4.155, 'boltzmannweight': 0.0, 'conformerweights': [0.0], 'rd_mol': <rdkit.Chem.rdchem.Mol object at 0x7fb940edb470>}, {'geom_id': 104751981, 'set': 140, 'degeneracy': 1, 'totalenergy': -177.53619842, 'relativeenergy': 4.155, 'boltzmannweight': 0.0, 'conformerweights': [0.0], 'rd_mol': <rdkit.Chem.rdchem.Mol object at 0x7fb940713ab0>}, {'geom_id': 104751982, 'set': 141, 'degeneracy': 7, 'totalenergy': -177.53618529, 'relativeenergy': 4.164, 'boltzmannweight': 3e-05, 'conformerweights': [0.0, 0.0, 0.0, 0.0, 0.0, 0.0, 0.0], 'rd_mol': <rdkit.Chem.rdchem.Mol object at 0x7fb939c213f0>}, {'geom_id': 104751983, 'set': 142, 'degeneracy': 1, 'totalenergy': -177.5361567, 'relativeenergy': 4.182, 'boltzmannweight': 0.0, 'conformerweights': [0.0], 'rd_mol': <rdkit.Chem.rdchem.Mol object at 0x7fb939c22480>}, {'geom_id': 104751984, 'set': 143, 'degeneracy': 2, 'totalenergy': -177.53614011, 'relativeenergy': 4.192, 'boltzmannweight': 1e-05, 'conformerweights': [0.0, 0.0], 'rd_mol': <rdkit.Chem.rdchem.Mol object at 0x7fb939c48950>}, {'geom_id': 104751985, 'set': 144, 'degeneracy': 1, 'totalenergy': -177.53610952, 'relativeenergy': 4.211, 'boltzmannweight': 0.0, 'conformerweights': [0.0], 'rd_mol': <rdkit.Chem.rdchem.Mol object at 0x7fb939c235b0>}, {'geom_id': 104751986, 'set': 145, 'degeneracy': 1, 'totalenergy': -177.53609279, 'relativeenergy': 4.222, 'boltzmannweight': 0.0, 'conformerweights': [0.0], 'rd_mol': <rdkit.Chem.rdchem.Mol object at 0x7fb939c4aa20>}, {'geom_id': 104751987, 'set': 146, 'degeneracy': 1, 'totalenergy': -177.53602088, 'relativeenergy': 4.267, 'boltzmannweight': 0.0, 'conformerweights': [0.0], 'rd_mol': <rdkit.Chem.rdchem.Mol object at 0x7fb939d1be20>}, {'geom_id': 104751988, 'set': 147, 'degeneracy': 1, 'totalenergy': -177.53600449, 'relativeenergy': 4.277, 'boltzmannweight': 0.0, 'conformerweights': [0.0], 'rd_mol': <rdkit.Chem.rdchem.Mol object at 0x7fb939c48630>}, {'geom_id': 104751989, 'set': 148, 'degeneracy': 1, 'totalenergy': -177.5360043, 'relativeenergy': 4.277, 'boltzmannweight': 0.0, 'conformerweights': [0.0], 'rd_mol': <rdkit.Chem.rdchem.Mol object at 0x7fb940120d60>}, {'geom_id': 104751990, 'set': 149, 'degeneracy': 1, 'totalenergy': -177.53599153, 'relativeenergy': 4.285, 'boltzmannweight': 0.0, 'conformerweights': [0.0], 'rd_mol': <rdkit.Chem.rdchem.Mol object at 0x7fb939c48900>}, {'geom_id': 104751991, 'set': 150, 'degeneracy': 1, 'totalenergy': -177.53598271, 'relativeenergy': 4.291, 'boltzmannweight': 0.0, 'conformerweights': [0.0], 'rd_mol': <rdkit.Chem.rdchem.Mol object at 0x7fb939c22610>}, {'geom_id': 104751992, 'set': 151, 'degeneracy': 1, 'totalenergy': -177.5359758, 'relativeenergy': 4.295, 'boltzmannweight': 0.0, 'conformerweights': [0.0], 'rd_mol': <rdkit.Chem.rdchem.Mol object at 0x7fb939d1be70>}, {'geom_id': 104751993, 'set': 152, 'degeneracy': 1, 'totalenergy': -177.53597372, 'relativeenergy': 4.296, 'boltzmannweight': 0.0, 'conformerweights': [0.0], 'rd_mol': <rdkit.Chem.rdchem.Mol object at 0x7fb939c23f10>}, {'geom_id': 104751994, 'set': 153, 'degeneracy': 7, 'totalenergy': -177.53595549, 'relativeenergy': 4.308, 'boltzmannweight': 2e-05, 'conformerweights': [0.0, 0.0, 0.0, 0.0, 0.0, 0.0, 0.0], 'rd_mol': <rdkit.Chem.rdchem.Mol object at 0x7fb939c220c0>}, {'geom_id': 104751995, 'set': 154, 'degeneracy': 1, 'totalenergy': -177.53595243, 'relativeenergy': 4.31, 'boltzmannweight': 0.0, 'conformerweights': [0.0], 'rd_mol': <rdkit.Chem.rdchem.Mol object at 0x7fb939c48e00>}, {'geom_id': 104751996, 'set': 155, 'degeneracy': 1, 'totalenergy': -177.53594345, 'relativeenergy': 4.315, 'boltzmannweight': 0.0, 'conformerweights': [0.0], 'rd_mol': <rdkit.Chem.rdchem.Mol object at 0x7fb939c21030>}, {'geom_id': 104751997, 'set': 156, 'degeneracy': 1, 'totalenergy': -177.53594024, 'relativeenergy': 4.317, 'boltzmannweight': 0.0, 'conformerweights': [0.0], 'rd_mol': <rdkit.Chem.rdchem.Mol object at 0x7fb939c49120>}, {'geom_id': 104751998, 'set': 157, 'degeneracy': 1, 'totalenergy': -177.5359347, 'relativeenergy': 4.321, 'boltzmannweight': 0.0, 'conformerweights': [0.0], 'rd_mol': <rdkit.Chem.rdchem.Mol object at 0x7fb939c22890>}, {'geom_id': 104751999, 'set': 158, 'degeneracy': 4, 'totalenergy': -177.53592558, 'relativeenergy': 4.327, 'boltzmannweight': 1e-05, 'conformerweights': [0.0, 0.0, 0.0, 0.0], 'rd_mol': <rdkit.Chem.rdchem.Mol object at 0x7fb939c21c60>}, {'geom_id': 104752000, 'set': 159, 'degeneracy': 1, 'totalenergy': -177.53591964, 'relativeenergy': 4.33, 'boltzmannweight': 0.0, 'conformerweights': [0.0], 'rd_mol': <rdkit.Chem.rdchem.Mol object at 0x7fb939c22cf0>}, {'geom_id': 104752001, 'set': 160, 'degeneracy': 2, 'totalenergy': -177.53585728, 'relativeenergy': 4.369, 'boltzmannweight': 1e-05, 'conformerweights': [0.0, 0.0], 'rd_mol': <rdkit.Chem.rdchem.Mol object at 0x7fb939c23b50>}, {'geom_id': 104752002, 'set': 161, 'degeneracy': 1, 'totalenergy': -177.53584863, 'relativeenergy': 4.375, 'boltzmannweight': 0.0, 'conformerweights': [0.0], 'rd_mol': <rdkit.Chem.rdchem.Mol object at 0x7fb939c202c0>}, {'geom_id': 104752003, 'set': 162, 'degeneracy': 1, 'totalenergy': -177.53583085, 'relativeenergy': 4.386, 'boltzmannweight': 0.0, 'conformerweights': [0.0], 'rd_mol': <rdkit.Chem.rdchem.Mol object at 0x7fb939c20ef0>}, {'geom_id': 104752004, 'set': 163, 'degeneracy': 1, 'totalenergy': -177.53581628, 'relativeenergy': 4.395, 'boltzmannweight': 0.0, 'conformerweights': [0.0], 'rd_mol': <rdkit.Chem.rdchem.Mol object at 0x7fb939c21a80>}, {'geom_id': 104752005, 'set': 164, 'degeneracy': 3, 'totalenergy': -177.53580375, 'relativeenergy': 4.403, 'boltzmannweight': 1e-05, 'conformerweights': [0.0, 0.0, 0.0], 'rd_mol': <rdkit.Chem.rdchem.Mol object at 0x7fb939c4b6f0>}, {'geom_id': 104752006, 'set': 165, 'degeneracy': 1, 'totalenergy': -177.53579331, 'relativeenergy': 4.41, 'boltzmannweight': 0.0, 'conformerweights': [0.0], 'rd_mol': <rdkit.Chem.rdchem.Mol object at 0x7fb939c23150>}, {'geom_id': 104752007, 'set': 166, 'degeneracy': 2, 'totalenergy': -177.53578246, 'relativeenergy': 4.416, 'boltzmannweight': 0.0, 'conformerweights': [0.0, 0.0], 'rd_mol': <rdkit.Chem.rdchem.Mol object at 0x7fb939c23790>}, {'geom_id': 104752008, 'set': 167, 'degeneracy': 1, 'totalenergy': -177.53576535, 'relativeenergy': 4.427, 'boltzmannweight': 0.0, 'conformerweights': [0.0], 'rd_mol': <rdkit.Chem.rdchem.Mol object at 0x7fb939c4b420>}, {'geom_id': 104752009, 'set': 168, 'degeneracy': 1, 'totalenergy': -177.53575488, 'relativeenergy': 4.434, 'boltzmannweight': 0.0, 'conformerweights': [0.0], 'rd_mol': <rdkit.Chem.rdchem.Mol object at 0x7fb939c237e0>}, {'geom_id': 104752010, 'set': 169, 'degeneracy': 1, 'totalenergy': -177.5357479, 'relativeenergy': 4.438, 'boltzmannweight': 0.0, 'conformerweights': [0.0], 'rd_mol': <rdkit.Chem.rdchem.Mol object at 0x7fb939c493a0>}, {'geom_id': 104752011, 'set': 170, 'degeneracy': 1, 'totalenergy': -177.5357395, 'relativeenergy': 4.443, 'boltzmannweight': 0.0, 'conformerweights': [0.0], 'rd_mol': <rdkit.Chem.rdchem.Mol object at 0x7fb939c21cb0>}, {'geom_id': 104752012, 'set': 171, 'degeneracy': 1, 'totalenergy': -177.53573205, 'relativeenergy': 4.448, 'boltzmannweight': 0.0, 'conformerweights': [0.0], 'rd_mol': <rdkit.Chem.rdchem.Mol object at 0x7fb939d1bf60>}, {'geom_id': 104752013, 'set': 172, 'degeneracy': 2, 'totalenergy': -177.53572062, 'relativeenergy': 4.455, 'boltzmannweight': 0.0, 'conformerweights': [0.0, 0.0], 'rd_mol': <rdkit.Chem.rdchem.Mol object at 0x7fb9407118f0>}, {'geom_id': 104752014, 'set': 173, 'degeneracy': 3, 'totalenergy': -177.53571855, 'relativeenergy': 4.457, 'boltzmannweight': 1e-05, 'conformerweights': [0.0, 0.0, 0.0], 'rd_mol': <rdkit.Chem.rdchem.Mol object at 0x7fb939c232e0>}, {'geom_id': 104752015, 'set': 174, 'degeneracy': 1, 'totalenergy': -177.53570685, 'relativeenergy': 4.464, 'boltzmannweight': 0.0, 'conformerweights': [0.0], 'rd_mol': <rdkit.Chem.rdchem.Mol object at 0x7fb9406c3880>}, {'geom_id': 104752016, 'set': 175, 'degeneracy': 2, 'totalenergy': -177.53570359, 'relativeenergy': 4.466, 'boltzmannweight': 0.0, 'conformerweights': [0.0, 0.0], 'rd_mol': <rdkit.Chem.rdchem.Mol object at 0x7fb939c239c0>}, {'geom_id': 104752017, 'set': 176, 'degeneracy': 1, 'totalenergy': -177.5356849, 'relativeenergy': 4.478, 'boltzmannweight': 0.0, 'conformerweights': [0.0], 'rd_mol': <rdkit.Chem.rdchem.Mol object at 0x7fb939c20b80>}, {'geom_id': 104752018, 'set': 177, 'degeneracy': 1, 'totalenergy': -177.5356645, 'relativeenergy': 4.49, 'boltzmannweight': 0.0, 'conformerweights': [0.0], 'rd_mol': <rdkit.Chem.rdchem.Mol object at 0x7fb939c227a0>}, {'geom_id': 104752019, 'set': 178, 'degeneracy': 1, 'totalenergy': -177.53565664, 'relativeenergy': 4.495, 'boltzmannweight': 0.0, 'conformerweights': [0.0], 'rd_mol': <rdkit.Chem.rdchem.Mol object at 0x7fb940fa9300>}, {'geom_id': 104752020, 'set': 179, 'degeneracy': 3, 'totalenergy': -177.53565163, 'relativeenergy': 4.499, 'boltzmannweight': 1e-05, 'conformerweights': [0.0, 0.0, 0.0], 'rd_mol': <rdkit.Chem.rdchem.Mol object at 0x7fb940e52110>}, {'geom_id': 104752021, 'set': 180, 'degeneracy': 2, 'totalenergy': -177.53564749, 'relativeenergy': 4.501, 'boltzmannweight': 0.0, 'conformerweights': [0.0, 0.0], 'rd_mol': <rdkit.Chem.rdchem.Mol object at 0x7fb940edae30>}, {'geom_id': 104752022, 'set': 181, 'degeneracy': 1, 'totalenergy': -177.53563087, 'relativeenergy': 4.512, 'boltzmannweight': 0.0, 'conformerweights': [0.0], 'rd_mol': <rdkit.Chem.rdchem.Mol object at 0x7fb939c4bbf0>}, {'geom_id': 104752023, 'set': 182, 'degeneracy': 1, 'totalenergy': -177.53562283, 'relativeenergy': 4.517, 'boltzmannweight': 0.0, 'conformerweights': [0.0], 'rd_mol': <rdkit.Chem.rdchem.Mol object at 0x7fb939c48c20>}, {'geom_id': 104752024, 'set': 183, 'degeneracy': 2, 'totalenergy': -177.53562225, 'relativeenergy': 4.517, 'boltzmannweight': 0.0, 'conformerweights': [0.0, 0.0], 'rd_mol': <rdkit.Chem.rdchem.Mol object at 0x7fb939c21760>}, {'geom_id': 104752025, 'set': 184, 'degeneracy': 1, 'totalenergy': -177.53561717, 'relativeenergy': 4.52, 'boltzmannweight': 0.0, 'conformerweights': [0.0], 'rd_mol': <rdkit.Chem.rdchem.Mol object at 0x7fb939c22ed0>}, {'geom_id': 104752026, 'set': 185, 'degeneracy': 1, 'totalenergy': -177.53560572, 'relativeenergy': 4.527, 'boltzmannweight': 0.0, 'conformerweights': [0.0], 'rd_mol': <rdkit.Chem.rdchem.Mol object at 0x7fb939c20360>}, {'geom_id': 104752027, 'set': 186, 'degeneracy': 1, 'totalenergy': -177.53560567, 'relativeenergy': 4.527, 'boltzmannweight': 0.0, 'conformerweights': [0.0], 'rd_mol': <rdkit.Chem.rdchem.Mol object at 0x7fb939c22700>}, {'geom_id': 104752028, 'set': 187, 'degeneracy': 4, 'totalenergy': -177.53557323, 'relativeenergy': 4.548, 'boltzmannweight': 1e-05, 'conformerweights': [0.0, 0.0, 0.0, 0.0], 'rd_mol': <rdkit.Chem.rdchem.Mol object at 0x7fb939c211c0>}, {'geom_id': 104752029, 'set': 188, 'degeneracy': 3, 'totalenergy': -177.53553596, 'relativeenergy': 4.571, 'boltzmannweight': 1e-05, 'conformerweights': [0.0, 0.0, 0.0], 'rd_mol': <rdkit.Chem.rdchem.Mol object at 0x7fb939c22f70>}, {'geom_id': 104752030, 'set': 189, 'degeneracy': 1, 'totalenergy': -177.53547944, 'relativeenergy': 4.607, 'boltzmannweight': 0.0, 'conformerweights': [0.0], 'rd_mol': <rdkit.Chem.rdchem.Mol object at 0x7fb939c498a0>}, {'geom_id': 104752031, 'set': 190, 'degeneracy': 1, 'totalenergy': -177.53547434, 'relativeenergy': 4.61, 'boltzmannweight': 0.0, 'conformerweights': [0.0], 'rd_mol': <rdkit.Chem.rdchem.Mol object at 0x7fb939c22160>}, {'geom_id': 104752032, 'set': 191, 'degeneracy': 1, 'totalenergy': -177.53546751, 'relativeenergy': 4.614, 'boltzmannweight': 0.0, 'conformerweights': [0.0], 'rd_mol': <rdkit.Chem.rdchem.Mol object at 0x7fb939c22660>}, {'geom_id': 104752033, 'set': 192, 'degeneracy': 1, 'totalenergy': -177.53545868, 'relativeenergy': 4.62, 'boltzmannweight': 0.0, 'conformerweights': [0.0], 'rd_mol': <rdkit.Chem.rdchem.Mol object at 0x7fb939c22980>}, {'geom_id': 104752034, 'set': 193, 'degeneracy': 2, 'totalenergy': -177.53544832, 'relativeenergy': 4.626, 'boltzmannweight': 0.0, 'conformerweights': [0.0, 0.0], 'rd_mol': <rdkit.Chem.rdchem.Mol object at 0x7fb940fa92b0>}, {'geom_id': 104752035, 'set': 194, 'degeneracy': 1, 'totalenergy': -177.53543718, 'relativeenergy': 4.633, 'boltzmannweight': 0.0, 'conformerweights': [0.0], 'rd_mol': <rdkit.Chem.rdchem.Mol object at 0x7fb939c21e90>}, {'geom_id': 104752036, 'set': 195, 'degeneracy': 4, 'totalenergy': -177.53542513, 'relativeenergy': 4.641, 'boltzmannweight': 1e-05, 'conformerweights': [0.0, 0.0, 0.0, 0.0], 'rd_mol': <rdkit.Chem.rdchem.Mol object at 0x7fb939c22840>}, {'geom_id': 104752037, 'set': 196, 'degeneracy': 1, 'totalenergy': -177.53539788, 'relativeenergy': 4.658, 'boltzmannweight': 0.0, 'conformerweights': [0.0], 'rd_mol': <rdkit.Chem.rdchem.Mol object at 0x7fb939c488b0>}, {'geom_id': 104752038, 'set': 197, 'degeneracy': 1, 'totalenergy': -177.53537966, 'relativeenergy': 4.669, 'boltzmannweight': 0.0, 'conformerweights': [0.0], 'rd_mol': <rdkit.Chem.rdchem.Mol object at 0x7fb939c22c50>}, {'geom_id': 104752039, 'set': 198, 'degeneracy': 2, 'totalenergy': -177.53537075, 'relativeenergy': 4.675, 'boltzmannweight': 0.0, 'conformerweights': [0.0, 0.0], 'rd_mol': <rdkit.Chem.rdchem.Mol object at 0x7fb939c22930>}, {'geom_id': 104752040, 'set': 199, 'degeneracy': 1, 'totalenergy': -177.53535734, 'relativeenergy': 4.683, 'boltzmannweight': 0.0, 'conformerweights': [0.0], 'rd_mol': <rdkit.Chem.rdchem.Mol object at 0x7fb939c209a0>}, {'geom_id': 104752041, 'set': 200, 'degeneracy': 1, 'totalenergy': -177.53532273, 'relativeenergy': 4.705, 'boltzmannweight': 0.0, 'conformerweights': [0.0], 'rd_mol': <rdkit.Chem.rdchem.Mol object at 0x7fb94073aa70>}, {'geom_id': 104752042, 'set': 201, 'degeneracy': 1, 'totalenergy': -177.53531307, 'relativeenergy': 4.711, 'boltzmannweight': 0.0, 'conformerweights': [0.0], 'rd_mol': <rdkit.Chem.rdchem.Mol object at 0x7fb939c20b30>}, {'geom_id': 104752043, 'set': 202, 'degeneracy': 1, 'totalenergy': -177.53529873, 'relativeenergy': 4.72, 'boltzmannweight': 0.0, 'conformerweights': [0.0], 'rd_mol': <rdkit.Chem.rdchem.Mol object at 0x7fb939c49080>}, {'geom_id': 104752044, 'set': 203, 'degeneracy': 2, 'totalenergy': -177.5352984, 'relativeenergy': 4.72, 'boltzmannweight': 0.0, 'conformerweights': [0.0, 0.0], 'rd_mol': <rdkit.Chem.rdchem.Mol object at 0x7fb939c21530>}, {'geom_id': 104752045, 'set': 204, 'degeneracy': 6, 'totalenergy': -177.53528697, 'relativeenergy': 4.727, 'boltzmannweight': 1e-05, 'conformerweights': [0.0, 0.0, 0.0, 0.0, 0.0, 0.0], 'rd_mol': <rdkit.Chem.rdchem.Mol object at 0x7fb939c233d0>}, {'geom_id': 104752046, 'set': 205, 'degeneracy': 1, 'totalenergy': -177.53528636, 'relativeenergy': 4.728, 'boltzmannweight': 0.0, 'conformerweights': [0.0], 'rd_mol': <rdkit.Chem.rdchem.Mol object at 0x7fb939c4a8e0>}, {'geom_id': 104752047, 'set': 206, 'degeneracy': 1, 'totalenergy': -177.5352303, 'relativeenergy': 4.763, 'boltzmannweight': 0.0, 'conformerweights': [0.0], 'rd_mol': <rdkit.Chem.rdchem.Mol object at 0x7fb939c20bd0>}, {'geom_id': 104752048, 'set': 207, 'degeneracy': 1, 'totalenergy': -177.53522521, 'relativeenergy': 4.766, 'boltzmannweight': 0.0, 'conformerweights': [0.0], 'rd_mol': <rdkit.Chem.rdchem.Mol object at 0x7fb939c4a070>}, {'geom_id': 104752049, 'set': 208, 'degeneracy': 1, 'totalenergy': -177.53520325, 'relativeenergy': 4.78, 'boltzmannweight': 0.0, 'conformerweights': [0.0], 'rd_mol': <rdkit.Chem.rdchem.Mol object at 0x7fb939c21580>}, {'geom_id': 104752050, 'set': 209, 'degeneracy': 1, 'totalenergy': -177.53517805, 'relativeenergy': 4.796, 'boltzmannweight': 0.0, 'conformerweights': [0.0], 'rd_mol': <rdkit.Chem.rdchem.Mol object at 0x7fb939c21800>}, {'geom_id': 104752051, 'set': 210, 'degeneracy': 2, 'totalenergy': -177.53516745, 'relativeenergy': 4.802, 'boltzmannweight': 0.0, 'conformerweights': [0.0, 0.0], 'rd_mol': <rdkit.Chem.rdchem.Mol object at 0x7fb939c21990>}, {'geom_id': 104752052, 'set': 211, 'degeneracy': 1, 'totalenergy': -177.53514893, 'relativeenergy': 4.814, 'boltzmannweight': 0.0, 'conformerweights': [0.0], 'rd_mol': <rdkit.Chem.rdchem.Mol object at 0x7fb940f761b0>}, {'geom_id': 104752053, 'set': 212, 'degeneracy': 1, 'totalenergy': -177.53513631, 'relativeenergy': 4.822, 'boltzmannweight': 0.0, 'conformerweights': [0.0], 'rd_mol': <rdkit.Chem.rdchem.Mol object at 0x7fb939c2e2f0>}, {'geom_id': 104752054, 'set': 213, 'degeneracy': 13, 'totalenergy': -177.53505454, 'relativeenergy': 4.873, 'boltzmannweight': 1e-05, 'conformerweights': [0.0, 0.0, 0.0, 0.0, 0.0, 0.0, 0.0, 0.0, 0.0, 0.0, 0.0, 0.0, 0.0], 'rd_mol': <rdkit.Chem.rdchem.Mol object at 0x7fb939be7f10>}, {'geom_id': 104752055, 'set': 214, 'degeneracy': 1, 'totalenergy': -177.53505429, 'relativeenergy': 4.873, 'boltzmannweight': 0.0, 'conformerweights': [0.0], 'rd_mol': <rdkit.Chem.rdchem.Mol object at 0x7fb939c2e890>}, {'geom_id': 104752056, 'set': 215, 'degeneracy': 1, 'totalenergy': -177.53502638, 'relativeenergy': 4.891, 'boltzmannweight': 0.0, 'conformerweights': [0.0], 'rd_mol': <rdkit.Chem.rdchem.Mol object at 0x7fb939c4b5b0>}, {'geom_id': 104752057, 'set': 216, 'degeneracy': 1, 'totalenergy': -177.53501104, 'relativeenergy': 4.901, 'boltzmannweight': 0.0, 'conformerweights': [0.0], 'rd_mol': <rdkit.Chem.rdchem.Mol object at 0x7fb939c4a7a0>}, {'geom_id': 104752058, 'set': 217, 'degeneracy': 1, 'totalenergy': -177.53499243, 'relativeenergy': 4.912, 'boltzmannweight': 0.0, 'conformerweights': [0.0], 'rd_mol': <rdkit.Chem.rdchem.Mol object at 0x7fb940edb6f0>}, {'geom_id': 104752059, 'set': 218, 'degeneracy': 1, 'totalenergy': -177.53495821, 'relativeenergy': 4.934, 'boltzmannweight': 0.0, 'conformerweights': [0.0], 'rd_mol': <rdkit.Chem.rdchem.Mol object at 0x7fb939c4b650>}, {'geom_id': 104752060, 'set': 219, 'degeneracy': 3, 'totalenergy': -177.53492333, 'relativeenergy': 4.956, 'boltzmannweight': 0.0, 'conformerweights': [0.0, 0.0, 0.0], 'rd_mol': <rdkit.Chem.rdchem.Mol object at 0x7fb939c053a0>}, {'geom_id': 104752061, 'set': 220, 'degeneracy': 1, 'totalenergy': -177.53491323, 'relativeenergy': 4.962, 'boltzmannweight': 0.0, 'conformerweights': [0.0], 'rd_mol': <rdkit.Chem.rdchem.Mol object at 0x7fb939be7100>}, {'geom_id': 104752062, 'set': 221, 'degeneracy': 4, 'totalenergy': -177.53490468, 'relativeenergy': 4.967, 'boltzmannweight': 0.0, 'conformerweights': [0.0, 0.0, 0.0, 0.0], 'rd_mol': <rdkit.Chem.rdchem.Mol object at 0x7fb939c058a0>}, {'geom_id': 104752063, 'set': 222, 'degeneracy': 2, 'totalenergy': -177.53484195, 'relativeenergy': 5.007, 'boltzmannweight': 0.0, 'conformerweights': [0.0, 0.0], 'rd_mol': <rdkit.Chem.rdchem.Mol object at 0x7fb939c4b600>}, {'geom_id': 104752064, 'set': 223, 'degeneracy': 2, 'totalenergy': -177.53484127, 'relativeenergy': 5.007, 'boltzmannweight': 0.0, 'conformerweights': [0.0, 0.0], 'rd_mol': <rdkit.Chem.rdchem.Mol object at 0x7fb939c4ab60>}, {'geom_id': 104752065, 'set': 224, 'degeneracy': 1, 'totalenergy': -177.53482661, 'relativeenergy': 5.016, 'boltzmannweight': 0.0, 'conformerweights': [0.0], 'rd_mol': <rdkit.Chem.rdchem.Mol object at 0x7fb939c4b830>}, {'geom_id': 104752066, 'set': 225, 'degeneracy': 1, 'totalenergy': -177.53480981, 'relativeenergy': 5.027, 'boltzmannweight': 0.0, 'conformerweights': [0.0], 'rd_mol': <rdkit.Chem.rdchem.Mol object at 0x7fb939c4a5c0>}, {'geom_id': 104752067, 'set': 226, 'degeneracy': 2, 'totalenergy': -177.53480498, 'relativeenergy': 5.03, 'boltzmannweight': 0.0, 'conformerweights': [0.0, 0.0], 'rd_mol': <rdkit.Chem.rdchem.Mol object at 0x7fb939c49b70>}, {'geom_id': 104752068, 'set': 227, 'degeneracy': 1, 'totalenergy': -177.53479846, 'relativeenergy': 5.034, 'boltzmannweight': 0.0, 'conformerweights': [0.0], 'rd_mol': <rdkit.Chem.rdchem.Mol object at 0x7fb939c4a3e0>}, {'geom_id': 104752069, 'set': 228, 'degeneracy': 1, 'totalenergy': -177.53477362, 'relativeenergy': 5.05, 'boltzmannweight': 0.0, 'conformerweights': [0.0], 'rd_mol': <rdkit.Chem.rdchem.Mol object at 0x7fb939c49b20>}, {'geom_id': 104752070, 'set': 229, 'degeneracy': 1, 'totalenergy': -177.53475648, 'relativeenergy': 5.06, 'boltzmannweight': 0.0, 'conformerweights': [0.0], 'rd_mol': <rdkit.Chem.rdchem.Mol object at 0x7fb940ff36f0>}, {'geom_id': 104752071, 'set': 230, 'degeneracy': 1, 'totalenergy': -177.53475559, 'relativeenergy': 5.061, 'boltzmannweight': 0.0, 'conformerweights': [0.0], 'rd_mol': <rdkit.Chem.rdchem.Mol object at 0x7fb940faade0>}, {'geom_id': 104752072, 'set': 231, 'degeneracy': 1, 'totalenergy': -177.5347497, 'relativeenergy': 5.065, 'boltzmannweight': 0.0, 'conformerweights': [0.0], 'rd_mol': <rdkit.Chem.rdchem.Mol object at 0x7fb939c4be70>}, {'geom_id': 104752073, 'set': 232, 'degeneracy': 3, 'totalenergy': -177.5347282, 'relativeenergy': 5.078, 'boltzmannweight': 0.0, 'conformerweights': [0.0, 0.0, 0.0], 'rd_mol': <rdkit.Chem.rdchem.Mol object at 0x7fb939c213a0>}, {'geom_id': 104752074, 'set': 233, 'degeneracy': 1, 'totalenergy': -177.5347268, 'relativeenergy': 5.079, 'boltzmannweight': 0.0, 'conformerweights': [0.0], 'rd_mol': <rdkit.Chem.rdchem.Mol object at 0x7fb939c20e00>}, {'geom_id': 104752075, 'set': 234, 'degeneracy': 3, 'totalenergy': -177.53468531, 'relativeenergy': 5.105, 'boltzmannweight': 0.0, 'conformerweights': [0.0, 0.0, 0.0], 'rd_mol': <rdkit.Chem.rdchem.Mol object at 0x7fb939c228e0>}, {'geom_id': 104752076, 'set': 235, 'degeneracy': 1, 'totalenergy': -177.53468312, 'relativeenergy': 5.106, 'boltzmannweight': 0.0, 'conformerweights': [0.0], 'rd_mol': <rdkit.Chem.rdchem.Mol object at 0x7fb939c4a930>}, {'geom_id': 104752077, 'set': 236, 'degeneracy': 2, 'totalenergy': -177.5346747, 'relativeenergy': 5.112, 'boltzmannweight': 0.0, 'conformerweights': [0.0, 0.0], 'rd_mol': <rdkit.Chem.rdchem.Mol object at 0x7fb939c4a980>}, {'geom_id': 104752078, 'set': 237, 'degeneracy': 1, 'totalenergy': -177.53464424, 'relativeenergy': 5.131, 'boltzmannweight': 0.0, 'conformerweights': [0.0], 'rd_mol': <rdkit.Chem.rdchem.Mol object at 0x7fb939c4be20>}, {'geom_id': 104752079, 'set': 238, 'degeneracy': 1, 'totalenergy': -177.53459199, 'relativeenergy': 5.163, 'boltzmannweight': 0.0, 'conformerweights': [0.0], 'rd_mol': <rdkit.Chem.rdchem.Mol object at 0x7fb939c23ba0>}, {'geom_id': 104752080, 'set': 239, 'degeneracy': 2, 'totalenergy': -177.5345804, 'relativeenergy': 5.171, 'boltzmannweight': 0.0, 'conformerweights': [0.0, 0.0], 'rd_mol': <rdkit.Chem.rdchem.Mol object at 0x7fb939c4b880>}, {'geom_id': 104752081, 'set': 240, 'degeneracy': 1, 'totalenergy': -177.53457232, 'relativeenergy': 5.176, 'boltzmannweight': 0.0, 'conformerweights': [0.0], 'rd_mol': <rdkit.Chem.rdchem.Mol object at 0x7fb939c4bab0>}, {'geom_id': 104752082, 'set': 241, 'degeneracy': 2, 'totalenergy': -177.53455163, 'relativeenergy': 5.189, 'boltzmannweight': 0.0, 'conformerweights': [0.0, 0.0], 'rd_mol': <rdkit.Chem.rdchem.Mol object at 0x7fb939c4af70>}, {'geom_id': 104752083, 'set': 242, 'degeneracy': 1, 'totalenergy': -177.53453226, 'relativeenergy': 5.201, 'boltzmannweight': 0.0, 'conformerweights': [0.0], 'rd_mol': <rdkit.Chem.rdchem.Mol object at 0x7fb939c498f0>}, {'geom_id': 104752084, 'set': 243, 'degeneracy': 1, 'totalenergy': -177.53452419, 'relativeenergy': 5.206, 'boltzmannweight': 0.0, 'conformerweights': [0.0], 'rd_mol': <rdkit.Chem.rdchem.Mol object at 0x7fb939c4a0c0>}, {'geom_id': 104752085, 'set': 244, 'degeneracy': 1, 'totalenergy': -177.53451832, 'relativeenergy': 5.21, 'boltzmannweight': 0.0, 'conformerweights': [0.0], 'rd_mol': <rdkit.Chem.rdchem.Mol object at 0x7fb939c23060>}, {'geom_id': 104752086, 'set': 245, 'degeneracy': 3, 'totalenergy': -177.53451445, 'relativeenergy': 5.212, 'boltzmannweight': 0.0, 'conformerweights': [0.0, 0.0, 0.0], 'rd_mol': <rdkit.Chem.rdchem.Mol object at 0x7fb939c20ae0>}, {'geom_id': 104752087, 'set': 246, 'degeneracy': 1, 'totalenergy': -177.53451163, 'relativeenergy': 5.214, 'boltzmannweight': 0.0, 'conformerweights': [0.0], 'rd_mol': <rdkit.Chem.rdchem.Mol object at 0x7fb939c20130>}, {'geom_id': 104752088, 'set': 247, 'degeneracy': 1, 'totalenergy': -177.53449427, 'relativeenergy': 5.225, 'boltzmannweight': 0.0, 'conformerweights': [0.0], 'rd_mol': <rdkit.Chem.rdchem.Mol object at 0x7fb939c4a840>}, {'geom_id': 104752089, 'set': 248, 'degeneracy': 1, 'totalenergy': -177.53447972, 'relativeenergy': 5.234, 'boltzmannweight': 0.0, 'conformerweights': [0.0], 'rd_mol': <rdkit.Chem.rdchem.Mol object at 0x7fb939c21260>}, {'geom_id': 104752090, 'set': 249, 'degeneracy': 1, 'totalenergy': -177.53446308, 'relativeenergy': 5.244, 'boltzmannweight': 0.0, 'conformerweights': [0.0], 'rd_mol': <rdkit.Chem.rdchem.Mol object at 0x7fb939c23330>}, {'geom_id': 104752091, 'set': 250, 'degeneracy': 1, 'totalenergy': -177.53441197, 'relativeenergy': 5.276, 'boltzmannweight': 0.0, 'conformerweights': [0.0], 'rd_mol': <rdkit.Chem.rdchem.Mol object at 0x7fb939c49800>}, {'geom_id': 104752092, 'set': 251, 'degeneracy': 1, 'totalenergy': -177.53440698, 'relativeenergy': 5.28, 'boltzmannweight': 0.0, 'conformerweights': [0.0], 'rd_mol': <rdkit.Chem.rdchem.Mol object at 0x7fb939c48d60>}, {'geom_id': 104752093, 'set': 252, 'degeneracy': 1, 'totalenergy': -177.53439932, 'relativeenergy': 5.284, 'boltzmannweight': 0.0, 'conformerweights': [0.0], 'rd_mol': <rdkit.Chem.rdchem.Mol object at 0x7fb939c21080>}, {'geom_id': 104752094, 'set': 253, 'degeneracy': 1, 'totalenergy': -177.53439635, 'relativeenergy': 5.286, 'boltzmannweight': 0.0, 'conformerweights': [0.0], 'rd_mol': <rdkit.Chem.rdchem.Mol object at 0x7fb939c4a660>}, {'geom_id': 104752095, 'set': 254, 'degeneracy': 1, 'totalenergy': -177.53438943, 'relativeenergy': 5.291, 'boltzmannweight': 0.0, 'conformerweights': [0.0], 'rd_mol': <rdkit.Chem.rdchem.Mol object at 0x7fb939c22e80>}, {'geom_id': 104752096, 'set': 255, 'degeneracy': 1, 'totalenergy': -177.53437191, 'relativeenergy': 5.302, 'boltzmannweight': 0.0, 'conformerweights': [0.0], 'rd_mol': <rdkit.Chem.rdchem.Mol object at 0x7fb939c22020>}, {'geom_id': 104752097, 'set': 256, 'degeneracy': 1, 'totalenergy': -177.53435398, 'relativeenergy': 5.313, 'boltzmannweight': 0.0, 'conformerweights': [0.0], 'rd_mol': <rdkit.Chem.rdchem.Mol object at 0x7fb939c49a80>}, {'geom_id': 104752098, 'set': 257, 'degeneracy': 1, 'totalenergy': -177.53435117, 'relativeenergy': 5.315, 'boltzmannweight': 0.0, 'conformerweights': [0.0], 'rd_mol': <rdkit.Chem.rdchem.Mol object at 0x7fb939c4bf60>}, {'geom_id': 104752099, 'set': 258, 'degeneracy': 1, 'totalenergy': -177.53431629, 'relativeenergy': 5.336, 'boltzmannweight': 0.0, 'conformerweights': [0.0], 'rd_mol': <rdkit.Chem.rdchem.Mol object at 0x7fb939c22200>}, {'geom_id': 104752100, 'set': 259, 'degeneracy': 1, 'totalenergy': -177.53430334, 'relativeenergy': 5.345, 'boltzmannweight': 0.0, 'conformerweights': [0.0], 'rd_mol': <rdkit.Chem.rdchem.Mol object at 0x7fb939c20a40>}, {'geom_id': 104752101, 'set': 260, 'degeneracy': 1, 'totalenergy': -177.53425541, 'relativeenergy': 5.375, 'boltzmannweight': 0.0, 'conformerweights': [0.0], 'rd_mol': <rdkit.Chem.rdchem.Mol object at 0x7fb939c4b380>}, {'geom_id': 104752102, 'set': 261, 'degeneracy': 1, 'totalenergy': -177.53424261, 'relativeenergy': 5.383, 'boltzmannweight': 0.0, 'conformerweights': [0.0], 'rd_mol': <rdkit.Chem.rdchem.Mol object at 0x7fb939c21940>}, {'geom_id': 104752103, 'set': 262, 'degeneracy': 1, 'totalenergy': -177.53423944, 'relativeenergy': 5.385, 'boltzmannweight': 0.0, 'conformerweights': [0.0], 'rd_mol': <rdkit.Chem.rdchem.Mol object at 0x7fb939c20c20>}, {'geom_id': 104752104, 'set': 263, 'degeneracy': 1, 'totalenergy': -177.53423795, 'relativeenergy': 5.386, 'boltzmannweight': 0.0, 'conformerweights': [0.0], 'rd_mol': <rdkit.Chem.rdchem.Mol object at 0x7fb939c22340>}, {'geom_id': 104752105, 'set': 264, 'degeneracy': 1, 'totalenergy': -177.53423199, 'relativeenergy': 5.389, 'boltzmannweight': 0.0, 'conformerweights': [0.0], 'rd_mol': <rdkit.Chem.rdchem.Mol object at 0x7fb939c49ee0>}, {'geom_id': 104752106, 'set': 265, 'degeneracy': 1, 'totalenergy': -177.53423158, 'relativeenergy': 5.39, 'boltzmannweight': 0.0, 'conformerweights': [0.0], 'rd_mol': <rdkit.Chem.rdchem.Mol object at 0x7fb940fab560>}, {'geom_id': 104752107, 'set': 266, 'degeneracy': 1, 'totalenergy': -177.53422726, 'relativeenergy': 5.392, 'boltzmannweight': 0.0, 'conformerweights': [0.0], 'rd_mol': <rdkit.Chem.rdchem.Mol object at 0x7fb939c4bec0>}, {'geom_id': 104752108, 'set': 267, 'degeneracy': 1, 'totalenergy': -177.5342126, 'relativeenergy': 5.402, 'boltzmannweight': 0.0, 'conformerweights': [0.0], 'rd_mol': <rdkit.Chem.rdchem.Mol object at 0x7fb939c222a0>}, {'geom_id': 104752109, 'set': 268, 'degeneracy': 1, 'totalenergy': -177.53419665, 'relativeenergy': 5.412, 'boltzmannweight': 0.0, 'conformerweights': [0.0], 'rd_mol': <rdkit.Chem.rdchem.Mol object at 0x7fb939c49440>}, {'geom_id': 104752110, 'set': 269, 'degeneracy': 1, 'totalenergy': -177.53415046, 'relativeenergy': 5.441, 'boltzmannweight': 0.0, 'conformerweights': [0.0], 'rd_mol': <rdkit.Chem.rdchem.Mol object at 0x7fb939c49990>}, {'geom_id': 104752111, 'set': 270, 'degeneracy': 1, 'totalenergy': -177.534143, 'relativeenergy': 5.445, 'boltzmannweight': 0.0, 'conformerweights': [0.0], 'rd_mol': <rdkit.Chem.rdchem.Mol object at 0x7fb93bb61c10>}, {'geom_id': 104752112, 'set': 271, 'degeneracy': 5, 'totalenergy': -177.53408248, 'relativeenergy': 5.483, 'boltzmannweight': 0.0, 'conformerweights': [0.0, 0.0, 0.0, 0.0, 0.0], 'rd_mol': <rdkit.Chem.rdchem.Mol object at 0x7fb939c21fd0>}, {'geom_id': 104752113, 'set': 272, 'degeneracy': 1, 'totalenergy': -177.53405784, 'relativeenergy': 5.499, 'boltzmannweight': 0.0, 'conformerweights': [0.0], 'rd_mol': <rdkit.Chem.rdchem.Mol object at 0x7fb940692070>}, {'geom_id': 104752114, 'set': 273, 'degeneracy': 1, 'totalenergy': -177.53405155, 'relativeenergy': 5.503, 'boltzmannweight': 0.0, 'conformerweights': [0.0], 'rd_mol': <rdkit.Chem.rdchem.Mol object at 0x7fb939c221b0>}, {'geom_id': 104752115, 'set': 274, 'degeneracy': 1, 'totalenergy': -177.5340406, 'relativeenergy': 5.509, 'boltzmannweight': 0.0, 'conformerweights': [0.0], 'rd_mol': <rdkit.Chem.rdchem.Mol object at 0x7fb939c4a390>}, {'geom_id': 104752116, 'set': 275, 'degeneracy': 2, 'totalenergy': -177.53402032, 'relativeenergy': 5.522, 'boltzmannweight': 0.0, 'conformerweights': [0.0, 0.0], 'rd_mol': <rdkit.Chem.rdchem.Mol object at 0x7fb939c4a7f0>}, {'geom_id': 104752117, 'set': 276, 'degeneracy': 1, 'totalenergy': -177.53401165, 'relativeenergy': 5.528, 'boltzmannweight': 0.0, 'conformerweights': [0.0], 'rd_mol': <rdkit.Chem.rdchem.Mol object at 0x7fb939c229d0>}, {'geom_id': 104752118, 'set': 277, 'degeneracy': 1, 'totalenergy': -177.53398996, 'relativeenergy': 5.541, 'boltzmannweight': 0.0, 'conformerweights': [0.0], 'rd_mol': <rdkit.Chem.rdchem.Mol object at 0x7fb939c4aa70>}, {'geom_id': 104752119, 'set': 278, 'degeneracy': 1, 'totalenergy': -177.53398853, 'relativeenergy': 5.542, 'boltzmannweight': 0.0, 'conformerweights': [0.0], 'rd_mol': <rdkit.Chem.rdchem.Mol object at 0x7fb939c4abb0>}, {'geom_id': 104752120, 'set': 279, 'degeneracy': 1, 'totalenergy': -177.53398028, 'relativeenergy': 5.547, 'boltzmannweight': 0.0, 'conformerweights': [0.0], 'rd_mol': <rdkit.Chem.rdchem.Mol object at 0x7fb939c4aed0>}, {'geom_id': 104752121, 'set': 280, 'degeneracy': 1, 'totalenergy': -177.53397691, 'relativeenergy': 5.549, 'boltzmannweight': 0.0, 'conformerweights': [0.0], 'rd_mol': <rdkit.Chem.rdchem.Mol object at 0x7fb939c4b150>}, {'geom_id': 104752122, 'set': 281, 'degeneracy': 1, 'totalenergy': -177.53397112, 'relativeenergy': 5.553, 'boltzmannweight': 0.0, 'conformerweights': [0.0], 'rd_mol': <rdkit.Chem.rdchem.Mol object at 0x7fb939c4b3d0>}, {'geom_id': 104752123, 'set': 282, 'degeneracy': 1, 'totalenergy': -177.53396957, 'relativeenergy': 5.554, 'boltzmannweight': 0.0, 'conformerweights': [0.0], 'rd_mol': <rdkit.Chem.rdchem.Mol object at 0x7fb940ff3650>}, {'geom_id': 104752124, 'set': 283, 'degeneracy': 1, 'totalenergy': -177.53396855, 'relativeenergy': 5.555, 'boltzmannweight': 0.0, 'conformerweights': [0.0], 'rd_mol': <rdkit.Chem.rdchem.Mol object at 0x7fb939c4b8d0>}, {'geom_id': 104752125, 'set': 284, 'degeneracy': 2, 'totalenergy': -177.53394694, 'relativeenergy': 5.568, 'boltzmannweight': 0.0, 'conformerweights': [0.0, 0.0], 'rd_mol': <rdkit.Chem.rdchem.Mol object at 0x7fb939c4bb50>}, {'geom_id': 104752126, 'set': 285, 'degeneracy': 1, 'totalenergy': -177.53393447, 'relativeenergy': 5.576, 'boltzmannweight': 0.0, 'conformerweights': [0.0], 'rd_mol': <rdkit.Chem.rdchem.Mol object at 0x7fb939c23dd0>}, {'geom_id': 104752127, 'set': 286, 'degeneracy': 1, 'totalenergy': -177.53391465, 'relativeenergy': 5.589, 'boltzmannweight': 0.0, 'conformerweights': [0.0], 'rd_mol': <rdkit.Chem.rdchem.Mol object at 0x7fb939c48090>}, {'geom_id': 104752128, 'set': 287, 'degeneracy': 1, 'totalenergy': -177.53391185, 'relativeenergy': 5.59, 'boltzmannweight': 0.0, 'conformerweights': [0.0], 'rd_mol': <rdkit.Chem.rdchem.Mol object at 0x7fb939c20310>}, {'geom_id': 104752129, 'set': 288, 'degeneracy': 1, 'totalenergy': -177.53390057, 'relativeenergy': 5.597, 'boltzmannweight': 0.0, 'conformerweights': [0.0], 'rd_mol': <rdkit.Chem.rdchem.Mol object at 0x7fb939c4b470>}, {'geom_id': 104752130, 'set': 289, 'degeneracy': 1, 'totalenergy': -177.53389127, 'relativeenergy': 5.603, 'boltzmannweight': 0.0, 'conformerweights': [0.0], 'rd_mol': <rdkit.Chem.rdchem.Mol object at 0x7fb940e53920>}, {'geom_id': 104752131, 'set': 290, 'degeneracy': 3, 'totalenergy': -177.53388111, 'relativeenergy': 5.61, 'boltzmannweight': 0.0, 'conformerweights': [0.0, 0.0, 0.0], 'rd_mol': <rdkit.Chem.rdchem.Mol object at 0x7fb939c4a750>}, {'geom_id': 104752132, 'set': 291, 'degeneracy': 1, 'totalenergy': -177.53385615, 'relativeenergy': 5.625, 'boltzmannweight': 0.0, 'conformerweights': [0.0], 'rd_mol': <rdkit.Chem.rdchem.Mol object at 0x7fb9406d9da0>}, {'geom_id': 104752133, 'set': 292, 'degeneracy': 1, 'totalenergy': -177.53385044, 'relativeenergy': 5.629, 'boltzmannweight': 0.0, 'conformerweights': [0.0], 'rd_mol': <rdkit.Chem.rdchem.Mol object at 0x7fb939c4a110>}, {'geom_id': 104752134, 'set': 293, 'degeneracy': 2, 'totalenergy': -177.53382528, 'relativeenergy': 5.645, 'boltzmannweight': 0.0, 'conformerweights': [0.0, 0.0], 'rd_mol': <rdkit.Chem.rdchem.Mol object at 0x7fb939c48590>}, {'geom_id': 104752135, 'set': 294, 'degeneracy': 2, 'totalenergy': -177.53381091, 'relativeenergy': 5.654, 'boltzmannweight': 0.0, 'conformerweights': [0.0, 0.0], 'rd_mol': <rdkit.Chem.rdchem.Mol object at 0x7fb939c40770>}, {'geom_id': 104752136, 'set': 295, 'degeneracy': 1, 'totalenergy': -177.53380348, 'relativeenergy': 5.658, 'boltzmannweight': 0.0, 'conformerweights': [0.0], 'rd_mol': <rdkit.Chem.rdchem.Mol object at 0x7fb939c40950>}, {'geom_id': 104752137, 'set': 296, 'degeneracy': 2, 'totalenergy': -177.53379252, 'relativeenergy': 5.665, 'boltzmannweight': 0.0, 'conformerweights': [0.0, 0.0], 'rd_mol': <rdkit.Chem.rdchem.Mol object at 0x7fb939c217b0>}, {'geom_id': 104752138, 'set': 297, 'degeneracy': 1, 'totalenergy': -177.53377101, 'relativeenergy': 5.679, 'boltzmannweight': 0.0, 'conformerweights': [0.0], 'rd_mol': <rdkit.Chem.rdchem.Mol object at 0x7fb939c200e0>}, {'geom_id': 104752139, 'set': 298, 'degeneracy': 1, 'totalenergy': -177.53375573, 'relativeenergy': 5.688, 'boltzmannweight': 0.0, 'conformerweights': [0.0], 'rd_mol': <rdkit.Chem.rdchem.Mol object at 0x7fb939c20220>}, {'geom_id': 104752140, 'set': 299, 'degeneracy': 1, 'totalenergy': -177.53367363, 'relativeenergy': 5.74, 'boltzmannweight': 0.0, 'conformerweights': [0.0], 'rd_mol': <rdkit.Chem.rdchem.Mol object at 0x7fb939c48360>}, {'geom_id': 104752141, 'set': 300, 'degeneracy': 1, 'totalenergy': -177.53366559, 'relativeenergy': 5.745, 'boltzmannweight': 0.0, 'conformerweights': [0.0], 'rd_mol': <rdkit.Chem.rdchem.Mol object at 0x7fb939c204a0>}, {'geom_id': 104752142, 'set': 301, 'degeneracy': 2, 'totalenergy': -177.53364971, 'relativeenergy': 5.755, 'boltzmannweight': 0.0, 'conformerweights': [0.0, 0.0], 'rd_mol': <rdkit.Chem.rdchem.Mol object at 0x7fb939c205e0>}, {'geom_id': 104752143, 'set': 302, 'degeneracy': 1, 'totalenergy': -177.53364718, 'relativeenergy': 5.756, 'boltzmannweight': 0.0, 'conformerweights': [0.0], 'rd_mol': <rdkit.Chem.rdchem.Mol object at 0x7fb939c48720>}, {'geom_id': 104752144, 'set': 303, 'degeneracy': 2, 'totalenergy': -177.53364433, 'relativeenergy': 5.758, 'boltzmannweight': 0.0, 'conformerweights': [0.0, 0.0], 'rd_mol': <rdkit.Chem.rdchem.Mol object at 0x7fb939c20860>}, {'geom_id': 104752145, 'set': 304, 'degeneracy': 1, 'totalenergy': -177.53364088, 'relativeenergy': 5.76, 'boltzmannweight': 0.0, 'conformerweights': [0.0], 'rd_mol': <rdkit.Chem.rdchem.Mol object at 0x7fb939c20900>}, {'geom_id': 104752146, 'set': 305, 'degeneracy': 2, 'totalenergy': -177.53363776, 'relativeenergy': 5.762, 'boltzmannweight': 0.0, 'conformerweights': [0.0, 0.0], 'rd_mol': <rdkit.Chem.rdchem.Mol object at 0x7fb939c48a90>}, {'geom_id': 104752147, 'set': 306, 'degeneracy': 1, 'totalenergy': -177.53355087, 'relativeenergy': 5.817, 'boltzmannweight': 0.0, 'conformerweights': [0.0], 'rd_mol': <rdkit.Chem.rdchem.Mol object at 0x7fb939c48bd0>}, {'geom_id': 104752148, 'set': 307, 'degeneracy': 1, 'totalenergy': -177.53354568, 'relativeenergy': 5.82, 'boltzmannweight': 0.0, 'conformerweights': [0.0], 'rd_mol': <rdkit.Chem.rdchem.Mol object at 0x7fb939c40db0>}, {'geom_id': 104752149, 'set': 308, 'degeneracy': 1, 'totalenergy': -177.53351775, 'relativeenergy': 5.838, 'boltzmannweight': 0.0, 'conformerweights': [0.0], 'rd_mol': <rdkit.Chem.rdchem.Mol object at 0x7fb939c48ef0>}, {'geom_id': 104752150, 'set': 309, 'degeneracy': 1, 'totalenergy': -177.53351062, 'relativeenergy': 5.842, 'boltzmannweight': 0.0, 'conformerweights': [0.0], 'rd_mol': <rdkit.Chem.rdchem.Mol object at 0x7fb939c49030>}, {'geom_id': 104752151, 'set': 310, 'degeneracy': 1, 'totalenergy': -177.53349873, 'relativeenergy': 5.85, 'boltzmannweight': 0.0, 'conformerweights': [0.0], 'rd_mol': <rdkit.Chem.rdchem.Mol object at 0x7fb939c21170>}, {'geom_id': 104752152, 'set': 311, 'degeneracy': 1, 'totalenergy': -177.53348051, 'relativeenergy': 5.861, 'boltzmannweight': 0.0, 'conformerweights': [0.0], 'rd_mol': <rdkit.Chem.rdchem.Mol object at 0x7fb939c492b0>}, {'geom_id': 104752153, 'set': 312, 'degeneracy': 1, 'totalenergy': -177.53344433, 'relativeenergy': 5.884, 'boltzmannweight': 0.0, 'conformerweights': [0.0], 'rd_mol': <rdkit.Chem.rdchem.Mol object at 0x7fb939c493f0>}, {'geom_id': 104752154, 'set': 313, 'degeneracy': 1, 'totalenergy': -177.53344423, 'relativeenergy': 5.884, 'boltzmannweight': 0.0, 'conformerweights': [0.0], 'rd_mol': <rdkit.Chem.rdchem.Mol object at 0x7fb939c49530>}, {'geom_id': 104752155, 'set': 314, 'degeneracy': 4, 'totalenergy': -177.53344254, 'relativeenergy': 5.885, 'boltzmannweight': 0.0, 'conformerweights': [0.0, 0.0, 0.0, 0.0], 'rd_mol': <rdkit.Chem.rdchem.Mol object at 0x7fb939c215d0>}, {'geom_id': 104752156, 'set': 315, 'degeneracy': 1, 'totalenergy': -177.53344182, 'relativeenergy': 5.885, 'boltzmannweight': 0.0, 'conformerweights': [0.0], 'rd_mol': <rdkit.Chem.rdchem.Mol object at 0x7fb939c49760>}, {'geom_id': 104752157, 'set': 316, 'degeneracy': 1, 'totalenergy': -177.53344054, 'relativeenergy': 5.886, 'boltzmannweight': 0.0, 'conformerweights': [0.0], 'rd_mol': <rdkit.Chem.rdchem.Mol object at 0x7fb939be4450>}, {'geom_id': 104752158, 'set': 317, 'degeneracy': 1, 'totalenergy': -177.53342248, 'relativeenergy': 5.897, 'boltzmannweight': 0.0, 'conformerweights': [0.0], 'rd_mol': <rdkit.Chem.rdchem.Mol object at 0x7fb940cbf3d0>}, {'geom_id': 104752159, 'set': 318, 'degeneracy': 1, 'totalenergy': -177.53339911, 'relativeenergy': 5.912, 'boltzmannweight': 0.0, 'conformerweights': [0.0], 'rd_mol': <rdkit.Chem.rdchem.Mol object at 0x7fb939c2e840>}, {'geom_id': 104752160, 'set': 319, 'degeneracy': 2, 'totalenergy': -177.53339881, 'relativeenergy': 5.912, 'boltzmannweight': 0.0, 'conformerweights': [0.0, 0.0], 'rd_mol': <rdkit.Chem.rdchem.Mol object at 0x7fb939c04f90>}, {'geom_id': 104752161, 'set': 320, 'degeneracy': 1, 'totalenergy': -177.53337419, 'relativeenergy': 5.928, 'boltzmannweight': 0.0, 'conformerweights': [0.0], 'rd_mol': <rdkit.Chem.rdchem.Mol object at 0x7fb939c04a90>}, {'geom_id': 104752162, 'set': 321, 'degeneracy': 2, 'totalenergy': -177.53336938, 'relativeenergy': 5.931, 'boltzmannweight': 0.0, 'conformerweights': [0.0, 0.0], 'rd_mol': <rdkit.Chem.rdchem.Mol object at 0x7fb939be6430>}, {'geom_id': 104752163, 'set': 322, 'degeneracy': 3, 'totalenergy': -177.53336291, 'relativeenergy': 5.935, 'boltzmannweight': 0.0, 'conformerweights': [0.0, 0.0, 0.0], 'rd_mol': <rdkit.Chem.rdchem.Mol object at 0x7fb939be6e30>}, {'geom_id': 104752164, 'set': 323, 'degeneracy': 1, 'totalenergy': -177.53336072, 'relativeenergy': 5.936, 'boltzmannweight': 0.0, 'conformerweights': [0.0], 'rd_mol': <rdkit.Chem.rdchem.Mol object at 0x7fb939c05cb0>}, {'geom_id': 104752165, 'set': 324, 'degeneracy': 1, 'totalenergy': -177.53335643, 'relativeenergy': 5.939, 'boltzmannweight': 0.0, 'conformerweights': [0.0], 'rd_mol': <rdkit.Chem.rdchem.Mol object at 0x7fb939be5d00>}, {'geom_id': 104752166, 'set': 325, 'degeneracy': 1, 'totalenergy': -177.53334343, 'relativeenergy': 5.947, 'boltzmannweight': 0.0, 'conformerweights': [0.0], 'rd_mol': <rdkit.Chem.rdchem.Mol object at 0x7fb94071d3a0>}, {'geom_id': 104752167, 'set': 326, 'degeneracy': 3, 'totalenergy': -177.53328158, 'relativeenergy': 5.986, 'boltzmannweight': 0.0, 'conformerweights': [0.0, 0.0, 0.0], 'rd_mol': <rdkit.Chem.rdchem.Mol object at 0x7fb94071d8a0>}, {'geom_id': 104752168, 'set': 327, 'degeneracy': 1, 'totalenergy': -177.53327414, 'relativeenergy': 5.99, 'boltzmannweight': 0.0, 'conformerweights': [0.0], 'rd_mol': <rdkit.Chem.rdchem.Mol object at 0x7fb939c23010>}], 'smiles': 'C[C@H]1O[C@@H](O[C@H]2[C@@H](O)C[C@H](O[C@H]3[C@@H](O)C[C@H](O[C@H]4CC[C@]5(C)[C@H]6C[C@@H](O)[C@]7(C)[C@@H](C8=CC(=O)OC8)CC[C@]7(O)[C@@H]6CC[C@@H]5C4)O[C@@H]3C)O[C@@H]2C)C[C@H](O)[C@@H]1O'}\n"
     ]
    },
    {
     "name": "stderr",
     "output_type": "stream",
     "text": [
      "7866it [03:40, 18.39it/s]"
     ]
    },
    {
     "name": "stdout",
     "output_type": "stream",
     "text": [
      "{'sars_cov_one_pl_protease_active': 0, 'sars_cov_one_cl_protease_active': 0, 'charge': 0, 'datasets': ['aid1706', 'plpro'], 'conformers': [{'geom_id': 93759471, 'set': 1, 'degeneracy': 15, 'totalenergy': -67.99477349, 'relativeenergy': 0.0, 'boltzmannweight': 0.37711, 'conformerweights': [0.0252, 0.02519, 0.02519, 0.02519, 0.02518, 0.02517, 0.02516, 0.02514, 0.02513, 0.02513, 0.02512, 0.02512, 0.02507, 0.02506, 0.02505], 'rd_mol': <rdkit.Chem.rdchem.Mol object at 0x7fb940eb6cf0>}, {'geom_id': 93759474, 'set': 2, 'degeneracy': 13, 'totalenergy': -67.99446447, 'relativeenergy': 0.194, 'boltzmannweight': 0.23572, 'conformerweights': [0.01817, 0.01817, 0.01817, 0.01816, 0.01815, 0.01815, 0.01815, 0.01814, 0.01814, 0.01811, 0.01811, 0.01806, 0.01806], 'rd_mol': <rdkit.Chem.rdchem.Mol object at 0x7fb93bd3e890>}, {'geom_id': 93759476, 'set': 3, 'degeneracy': 8, 'totalenergy': -67.99445565, 'relativeenergy': 0.199, 'boltzmannweight': 0.14365, 'conformerweights': [0.018, 0.01799, 0.01798, 0.01798, 0.01796, 0.01795, 0.01793, 0.01786], 'rd_mol': <rdkit.Chem.rdchem.Mol object at 0x7fb9406918a0>}, {'geom_id': 93759478, 'set': 4, 'degeneracy': 3, 'totalenergy': -67.99332958, 'relativeenergy': 0.906, 'boltzmannweight': 0.01639, 'conformerweights': [0.00547, 0.00546, 0.00546], 'rd_mol': <rdkit.Chem.rdchem.Mol object at 0x7fb940692700>}, {'geom_id': 93759480, 'set': 5, 'degeneracy': 2, 'totalenergy': -67.99326464, 'relativeenergy': 0.947, 'boltzmannweight': 0.01015, 'conformerweights': [0.0051, 0.00505], 'rd_mol': <rdkit.Chem.rdchem.Mol object at 0x7fb93bdac360>}, {'geom_id': 93759482, 'set': 6, 'degeneracy': 1, 'totalenergy': -67.9927789, 'relativeenergy': 1.252, 'boltzmannweight': 0.00305, 'conformerweights': [0.00305], 'rd_mol': <rdkit.Chem.rdchem.Mol object at 0x7fb940ea4720>}, {'geom_id': 93759484, 'set': 7, 'degeneracy': 9, 'totalenergy': -67.99266762, 'relativeenergy': 1.321, 'boltzmannweight': 0.02382, 'conformerweights': [0.00271, 0.00271, 0.00271, 0.00271, 0.0027, 0.00268, 0.00255, 0.00253, 0.00253], 'rd_mol': <rdkit.Chem.rdchem.Mol object at 0x7fb940f761b0>}, {'geom_id': 93759486, 'set': 8, 'degeneracy': 1, 'totalenergy': -67.99249604, 'relativeenergy': 1.429, 'boltzmannweight': 0.00226, 'conformerweights': [0.00226], 'rd_mol': <rdkit.Chem.rdchem.Mol object at 0x7fb9406c13a0>}, {'geom_id': 93759488, 'set': 9, 'degeneracy': 1, 'totalenergy': -67.99241938, 'relativeenergy': 1.477, 'boltzmannweight': 0.00209, 'conformerweights': [0.00209], 'rd_mol': <rdkit.Chem.rdchem.Mol object at 0x7fb9406c2a70>}, {'geom_id': 93759490, 'set': 10, 'degeneracy': 5, 'totalenergy': -67.9923843, 'relativeenergy': 1.499, 'boltzmannweight': 0.01001, 'conformerweights': [0.00201, 0.00201, 0.00201, 0.002, 0.00199], 'rd_mol': <rdkit.Chem.rdchem.Mol object at 0x7fb940ff3060>}, {'geom_id': 93759492, 'set': 11, 'degeneracy': 6, 'totalenergy': -67.99233025, 'relativeenergy': 1.533, 'boltzmannweight': 0.01132, 'conformerweights': [0.0019, 0.0019, 0.00189, 0.00189, 0.00188, 0.00187], 'rd_mol': <rdkit.Chem.rdchem.Mol object at 0x7fb940ff31f0>}, {'geom_id': 93759494, 'set': 12, 'degeneracy': 1, 'totalenergy': -67.99230337, 'relativeenergy': 1.55, 'boltzmannweight': 0.00185, 'conformerweights': [0.00185], 'rd_mol': <rdkit.Chem.rdchem.Mol object at 0x7fb940ff1620>}, {'geom_id': 93759496, 'set': 13, 'degeneracy': 1, 'totalenergy': -67.99229872, 'relativeenergy': 1.553, 'boltzmannweight': 0.00184, 'conformerweights': [0.00184], 'rd_mol': <rdkit.Chem.rdchem.Mol object at 0x7fb940ff3330>}, {'geom_id': 93759498, 'set': 14, 'degeneracy': 1, 'totalenergy': -67.99226645, 'relativeenergy': 1.573, 'boltzmannweight': 0.00177, 'conformerweights': [0.00177], 'rd_mol': <rdkit.Chem.rdchem.Mol object at 0x7fb940e53920>}, {'geom_id': 93759500, 'set': 15, 'degeneracy': 6, 'totalenergy': -67.99225766, 'relativeenergy': 1.579, 'boltzmannweight': 0.01054, 'conformerweights': [0.00176, 0.00176, 0.00176, 0.00176, 0.00176, 0.00175], 'rd_mol': <rdkit.Chem.rdchem.Mol object at 0x7fb940ff37e0>}, {'geom_id': 93759502, 'set': 16, 'degeneracy': 4, 'totalenergy': -67.99225686, 'relativeenergy': 1.579, 'boltzmannweight': 0.00701, 'conformerweights': [0.00176, 0.00176, 0.00175, 0.00174], 'rd_mol': <rdkit.Chem.rdchem.Mol object at 0x7fb940684900>}, {'geom_id': 93759504, 'set': 17, 'degeneracy': 3, 'totalenergy': -67.99221905, 'relativeenergy': 1.603, 'boltzmannweight': 0.00506, 'conformerweights': [0.00169, 0.00169, 0.00168], 'rd_mol': <rdkit.Chem.rdchem.Mol object at 0x7fb939be6700>}, {'geom_id': 93759506, 'set': 18, 'degeneracy': 2, 'totalenergy': -67.99221323, 'relativeenergy': 1.607, 'boltzmannweight': 0.00334, 'conformerweights': [0.00168, 0.00167], 'rd_mol': <rdkit.Chem.rdchem.Mol object at 0x7fb93bd3fe20>}, {'geom_id': 93759508, 'set': 19, 'degeneracy': 1, 'totalenergy': -67.99220726, 'relativeenergy': 1.61, 'boltzmannweight': 0.00167, 'conformerweights': [0.00167], 'rd_mol': <rdkit.Chem.rdchem.Mol object at 0x7fb939be7790>}, {'geom_id': 93759510, 'set': 20, 'degeneracy': 1, 'totalenergy': -67.9921887, 'relativeenergy': 1.622, 'boltzmannweight': 0.00163, 'conformerweights': [0.00163], 'rd_mol': <rdkit.Chem.rdchem.Mol object at 0x7fb939be63e0>}, {'geom_id': 93759512, 'set': 21, 'degeneracy': 8, 'totalenergy': -67.99211537, 'relativeenergy': 1.668, 'boltzmannweight': 0.01205, 'conformerweights': [0.00151, 0.00151, 0.00151, 0.00151, 0.00151, 0.00151, 0.0015, 0.0015], 'rd_mol': <rdkit.Chem.rdchem.Mol object at 0x7fb939be5a80>}, {'geom_id': 93759514, 'set': 22, 'degeneracy': 1, 'totalenergy': -67.99208662, 'relativeenergy': 1.686, 'boltzmannweight': 0.00147, 'conformerweights': [0.00147], 'rd_mol': <rdkit.Chem.rdchem.Mol object at 0x7fb939be58a0>}, {'geom_id': 93759516, 'set': 23, 'degeneracy': 1, 'totalenergy': -67.99198543, 'relativeenergy': 1.75, 'boltzmannweight': 0.00132, 'conformerweights': [0.00132], 'rd_mol': <rdkit.Chem.rdchem.Mol object at 0x7fb939be7150>}, {'geom_id': 93759518, 'set': 24, 'degeneracy': 4, 'totalenergy': -67.99192692, 'relativeenergy': 1.786, 'boltzmannweight': 0.00495, 'conformerweights': [0.00124, 0.00124, 0.00124, 0.00123], 'rd_mol': <rdkit.Chem.rdchem.Mol object at 0x7fb939be7d80>}, {'geom_id': 93759520, 'set': 25, 'degeneracy': 5, 'totalenergy': -67.99190597, 'relativeenergy': 1.799, 'boltzmannweight': 0.00601, 'conformerweights': [0.00121, 0.00121, 0.00121, 0.0012, 0.00118], 'rd_mol': <rdkit.Chem.rdchem.Mol object at 0x7fb939be76a0>}, {'geom_id': 93759522, 'set': 26, 'degeneracy': 1, 'totalenergy': -67.99185693, 'relativeenergy': 1.83, 'boltzmannweight': 0.00115, 'conformerweights': [0.00115], 'rd_mol': <rdkit.Chem.rdchem.Mol object at 0x7fb939be5940>}, {'geom_id': 93759524, 'set': 27, 'degeneracy': 1, 'totalenergy': -67.99183929, 'relativeenergy': 1.841, 'boltzmannweight': 0.00113, 'conformerweights': [0.00113], 'rd_mol': <rdkit.Chem.rdchem.Mol object at 0x7fb939be4e00>}, {'geom_id': 93759526, 'set': 28, 'degeneracy': 2, 'totalenergy': -67.99182434, 'relativeenergy': 1.851, 'boltzmannweight': 0.00219, 'conformerweights': [0.00111, 0.00108], 'rd_mol': <rdkit.Chem.rdchem.Mol object at 0x7fb939be6570>}, {'geom_id': 93759528, 'set': 29, 'degeneracy': 1, 'totalenergy': -67.99181689, 'relativeenergy': 1.855, 'boltzmannweight': 0.0011, 'conformerweights': [0.0011], 'rd_mol': <rdkit.Chem.rdchem.Mol object at 0x7fb939be76f0>}, {'geom_id': 93759530, 'set': 30, 'degeneracy': 2, 'totalenergy': -67.99176615, 'relativeenergy': 1.887, 'boltzmannweight': 0.00208, 'conformerweights': [0.00105, 0.00103], 'rd_mol': <rdkit.Chem.rdchem.Mol object at 0x7fb939be4540>}, {'geom_id': 93759532, 'set': 31, 'degeneracy': 1, 'totalenergy': -67.99174285, 'relativeenergy': 1.902, 'boltzmannweight': 0.00102, 'conformerweights': [0.00102], 'rd_mol': <rdkit.Chem.rdchem.Mol object at 0x7fb939be7290>}, {'geom_id': 93759534, 'set': 32, 'degeneracy': 4, 'totalenergy': -67.99168217, 'relativeenergy': 1.94, 'boltzmannweight': 0.00381, 'conformerweights': [0.00096, 0.00096, 0.00095, 0.00095], 'rd_mol': <rdkit.Chem.rdchem.Mol object at 0x7fb939be6750>}, {'geom_id': 93759536, 'set': 33, 'degeneracy': 2, 'totalenergy': -67.99163553, 'relativeenergy': 1.969, 'boltzmannweight': 0.00181, 'conformerweights': [0.00091, 0.0009], 'rd_mol': <rdkit.Chem.rdchem.Mol object at 0x7fb940eb7830>}, {'geom_id': 93759538, 'set': 34, 'degeneracy': 5, 'totalenergy': -67.99162676, 'relativeenergy': 1.975, 'boltzmannweight': 0.00407, 'conformerweights': [0.0009, 0.00089, 0.00083, 0.00074, 0.00071], 'rd_mol': <rdkit.Chem.rdchem.Mol object at 0x7fb9406e5800>}, {'geom_id': 93759540, 'set': 35, 'degeneracy': 2, 'totalenergy': -67.99159767, 'relativeenergy': 1.993, 'boltzmannweight': 0.00174, 'conformerweights': [0.00087, 0.00087], 'rd_mol': <rdkit.Chem.rdchem.Mol object at 0x7fb939be7b00>}, {'geom_id': 93759542, 'set': 36, 'degeneracy': 1, 'totalenergy': -67.99149689, 'relativeenergy': 2.056, 'boltzmannweight': 0.00079, 'conformerweights': [0.00079], 'rd_mol': <rdkit.Chem.rdchem.Mol object at 0x7fb940687bf0>}, {'geom_id': 93759544, 'set': 37, 'degeneracy': 3, 'totalenergy': -67.99145516, 'relativeenergy': 2.082, 'boltzmannweight': 0.00225, 'conformerweights': [0.00075, 0.00075, 0.00075], 'rd_mol': <rdkit.Chem.rdchem.Mol object at 0x7fb939be4360>}, {'geom_id': 93759546, 'set': 38, 'degeneracy': 1, 'totalenergy': -67.99145369, 'relativeenergy': 2.083, 'boltzmannweight': 0.00075, 'conformerweights': [0.00075], 'rd_mol': <rdkit.Chem.rdchem.Mol object at 0x7fb939be67a0>}, {'geom_id': 93759548, 'set': 39, 'degeneracy': 3, 'totalenergy': -67.99144177, 'relativeenergy': 2.091, 'boltzmannweight': 0.0022, 'conformerweights': [0.00074, 0.00074, 0.00072], 'rd_mol': <rdkit.Chem.rdchem.Mol object at 0x7fb939be5120>}, {'geom_id': 93759550, 'set': 40, 'degeneracy': 1, 'totalenergy': -67.99143992, 'relativeenergy': 2.092, 'boltzmannweight': 0.00074, 'conformerweights': [0.00074], 'rd_mol': <rdkit.Chem.rdchem.Mol object at 0x7fb939be5850>}, {'geom_id': 93759552, 'set': 41, 'degeneracy': 3, 'totalenergy': -67.99141653, 'relativeenergy': 2.107, 'boltzmannweight': 0.00215, 'conformerweights': [0.00072, 0.00072, 0.00071], 'rd_mol': <rdkit.Chem.rdchem.Mol object at 0x7fb939be4f40>}, {'geom_id': 93759554, 'set': 42, 'degeneracy': 1, 'totalenergy': -67.99133939, 'relativeenergy': 2.155, 'boltzmannweight': 0.00067, 'conformerweights': [0.00067], 'rd_mol': <rdkit.Chem.rdchem.Mol object at 0x7fb939be73d0>}, {'geom_id': 93759556, 'set': 43, 'degeneracy': 4, 'totalenergy': -67.99133785, 'relativeenergy': 2.156, 'boltzmannweight': 0.00265, 'conformerweights': [0.00066, 0.00066, 0.00066, 0.00066], 'rd_mol': <rdkit.Chem.rdchem.Mol object at 0x7fb939be4d60>}, {'geom_id': 93759558, 'set': 44, 'degeneracy': 2, 'totalenergy': -67.99131506, 'relativeenergy': 2.17, 'boltzmannweight': 0.00128, 'conformerweights': [0.00065, 0.00063], 'rd_mol': <rdkit.Chem.rdchem.Mol object at 0x7fb939be4860>}, {'geom_id': 93759561, 'set': 45, 'degeneracy': 1, 'totalenergy': -67.99130884, 'relativeenergy': 2.174, 'boltzmannweight': 0.00064, 'conformerweights': [0.00064], 'rd_mol': <rdkit.Chem.rdchem.Mol object at 0x7fb939be7a10>}, {'geom_id': 93759564, 'set': 46, 'degeneracy': 2, 'totalenergy': -67.99130765, 'relativeenergy': 2.175, 'boltzmannweight': 0.00128, 'conformerweights': [0.00064, 0.00064], 'rd_mol': <rdkit.Chem.rdchem.Mol object at 0x7fb939be4950>}, {'geom_id': 93759567, 'set': 47, 'degeneracy': 1, 'totalenergy': -67.99130156, 'relativeenergy': 2.179, 'boltzmannweight': 0.00064, 'conformerweights': [0.00064], 'rd_mol': <rdkit.Chem.rdchem.Mol object at 0x7fb939be50d0>}, {'geom_id': 93759570, 'set': 48, 'degeneracy': 4, 'totalenergy': -67.99127454, 'relativeenergy': 2.196, 'boltzmannweight': 0.00248, 'conformerweights': [0.00062, 0.00062, 0.00062, 0.00062], 'rd_mol': <rdkit.Chem.rdchem.Mol object at 0x7fb939be53f0>}, {'geom_id': 93759573, 'set': 49, 'degeneracy': 1, 'totalenergy': -67.99125874, 'relativeenergy': 2.206, 'boltzmannweight': 0.00061, 'conformerweights': [0.00061], 'rd_mol': <rdkit.Chem.rdchem.Mol object at 0x7fb939be6520>}, {'geom_id': 93759576, 'set': 50, 'degeneracy': 2, 'totalenergy': -67.99124606, 'relativeenergy': 2.213, 'boltzmannweight': 0.0012, 'conformerweights': [0.0006, 0.0006], 'rd_mol': <rdkit.Chem.rdchem.Mol object at 0x7fb939be7100>}, {'geom_id': 93759579, 'set': 51, 'degeneracy': 3, 'totalenergy': -67.99124605, 'relativeenergy': 2.213, 'boltzmannweight': 0.00169, 'conformerweights': [0.0006, 0.00054, 0.00054], 'rd_mol': <rdkit.Chem.rdchem.Mol object at 0x7fb939be6250>}, {'geom_id': 93759582, 'set': 52, 'degeneracy': 4, 'totalenergy': -67.9912006, 'relativeenergy': 2.242, 'boltzmannweight': 0.00229, 'conformerweights': [0.00057, 0.00057, 0.00057, 0.00057], 'rd_mol': <rdkit.Chem.rdchem.Mol object at 0x7fb939be4b30>}, {'geom_id': 93759585, 'set': 53, 'degeneracy': 1, 'totalenergy': -67.99109384, 'relativeenergy': 2.309, 'boltzmannweight': 0.00051, 'conformerweights': [0.00051], 'rd_mol': <rdkit.Chem.rdchem.Mol object at 0x7fb939be7dd0>}, {'geom_id': 93759588, 'set': 54, 'degeneracy': 9, 'totalenergy': -67.9910805, 'relativeenergy': 2.317, 'boltzmannweight': 0.00454, 'conformerweights': [0.00051, 0.00051, 0.0005, 0.0005, 0.0005, 0.0005, 0.0005, 0.0005, 0.0005], 'rd_mol': <rdkit.Chem.rdchem.Mol object at 0x7fb939be70b0>}, {'geom_id': 93759591, 'set': 55, 'degeneracy': 3, 'totalenergy': -67.99104024, 'relativeenergy': 2.343, 'boltzmannweight': 0.00145, 'conformerweights': [0.00048, 0.00048, 0.00048], 'rd_mol': <rdkit.Chem.rdchem.Mol object at 0x7fb939be5ad0>}, {'geom_id': 93759594, 'set': 56, 'degeneracy': 1, 'totalenergy': -67.99103666, 'relativeenergy': 2.345, 'boltzmannweight': 0.00048, 'conformerweights': [0.00048], 'rd_mol': <rdkit.Chem.rdchem.Mol object at 0x7fb939be71f0>}, {'geom_id': 93759597, 'set': 57, 'degeneracy': 6, 'totalenergy': -67.99102986, 'relativeenergy': 2.349, 'boltzmannweight': 0.00287, 'conformerweights': [0.00048, 0.00048, 0.00048, 0.00048, 0.00048, 0.00047], 'rd_mol': <rdkit.Chem.rdchem.Mol object at 0x7fb939be66b0>}, {'geom_id': 93759600, 'set': 58, 'degeneracy': 2, 'totalenergy': -67.99100337, 'relativeenergy': 2.366, 'boltzmannweight': 0.00093, 'conformerweights': [0.00047, 0.00046], 'rd_mol': <rdkit.Chem.rdchem.Mol object at 0x7fb939be4270>}, {'geom_id': 93759603, 'set': 59, 'degeneracy': 2, 'totalenergy': -67.99096428, 'relativeenergy': 2.39, 'boltzmannweight': 0.00086, 'conformerweights': [0.00045, 0.00042], 'rd_mol': <rdkit.Chem.rdchem.Mol object at 0x7fb939be4cc0>}, {'geom_id': 93759606, 'set': 60, 'degeneracy': 3, 'totalenergy': -67.99096293, 'relativeenergy': 2.391, 'boltzmannweight': 0.00124, 'conformerweights': [0.00045, 0.00043, 0.00037], 'rd_mol': <rdkit.Chem.rdchem.Mol object at 0x7fb939be5b20>}, {'geom_id': 93759609, 'set': 61, 'degeneracy': 3, 'totalenergy': -67.99095893, 'relativeenergy': 2.394, 'boltzmannweight': 0.00133, 'conformerweights': [0.00044, 0.00044, 0.00044], 'rd_mol': <rdkit.Chem.rdchem.Mol object at 0x7fb939be6020>}, {'geom_id': 93759613, 'set': 62, 'degeneracy': 1, 'totalenergy': -67.99092867, 'relativeenergy': 2.413, 'boltzmannweight': 0.00043, 'conformerweights': [0.00043], 'rd_mol': <rdkit.Chem.rdchem.Mol object at 0x7fb940f762a0>}, {'geom_id': 93759618, 'set': 63, 'degeneracy': 1, 'totalenergy': -67.99092819, 'relativeenergy': 2.413, 'boltzmannweight': 0.00043, 'conformerweights': [0.00043], 'rd_mol': <rdkit.Chem.rdchem.Mol object at 0x7fb939be6b60>}, {'geom_id': 93759622, 'set': 64, 'degeneracy': 1, 'totalenergy': -67.9909226, 'relativeenergy': 2.416, 'boltzmannweight': 0.00043, 'conformerweights': [0.00043], 'rd_mol': <rdkit.Chem.rdchem.Mol object at 0x7fb939be71a0>}, {'geom_id': 93759626, 'set': 65, 'degeneracy': 1, 'totalenergy': -67.99092218, 'relativeenergy': 2.417, 'boltzmannweight': 0.00043, 'conformerweights': [0.00043], 'rd_mol': <rdkit.Chem.rdchem.Mol object at 0x7fb939be74c0>}, {'geom_id': 93759630, 'set': 66, 'degeneracy': 3, 'totalenergy': -67.99091128, 'relativeenergy': 2.424, 'boltzmannweight': 0.00126, 'conformerweights': [0.00042, 0.00042, 0.00042], 'rd_mol': <rdkit.Chem.rdchem.Mol object at 0x7fb939be7c40>}, {'geom_id': 93759634, 'set': 67, 'degeneracy': 1, 'totalenergy': -67.99091078, 'relativeenergy': 2.424, 'boltzmannweight': 0.00042, 'conformerweights': [0.00042], 'rd_mol': <rdkit.Chem.rdchem.Mol object at 0x7fb940eb7fb0>}, {'geom_id': 93759638, 'set': 68, 'degeneracy': 1, 'totalenergy': -67.9908976, 'relativeenergy': 2.432, 'boltzmannweight': 0.00042, 'conformerweights': [0.00042], 'rd_mol': <rdkit.Chem.rdchem.Mol object at 0x7fb939be60c0>}, {'geom_id': 93759642, 'set': 69, 'degeneracy': 3, 'totalenergy': -67.99084551, 'relativeenergy': 2.465, 'boltzmannweight': 0.00116, 'conformerweights': [0.00039, 0.00039, 0.00037], 'rd_mol': <rdkit.Chem.rdchem.Mol object at 0x7fb939be55d0>}, {'geom_id': 93759646, 'set': 70, 'degeneracy': 8, 'totalenergy': -67.99084045, 'relativeenergy': 2.468, 'boltzmannweight': 0.0031, 'conformerweights': [0.00039, 0.00039, 0.00039, 0.00039, 0.00039, 0.00039, 0.00039, 0.00038], 'rd_mol': <rdkit.Chem.rdchem.Mol object at 0x7fb939be64d0>}, {'geom_id': 93759650, 'set': 71, 'degeneracy': 2, 'totalenergy': -67.99081381, 'relativeenergy': 2.485, 'boltzmannweight': 0.00073, 'conformerweights': [0.00038, 0.00035], 'rd_mol': <rdkit.Chem.rdchem.Mol object at 0x7fb939be7ec0>}, {'geom_id': 93759654, 'set': 72, 'degeneracy': 1, 'totalenergy': -67.99080507, 'relativeenergy': 2.49, 'boltzmannweight': 0.00038, 'conformerweights': [0.00038], 'rd_mol': <rdkit.Chem.rdchem.Mol object at 0x7fb939be4590>}, {'geom_id': 93759658, 'set': 73, 'degeneracy': 1, 'totalenergy': -67.99077664, 'relativeenergy': 2.508, 'boltzmannweight': 0.00037, 'conformerweights': [0.00037], 'rd_mol': <rdkit.Chem.rdchem.Mol object at 0x7fb939becd60>}, {'geom_id': 93759662, 'set': 74, 'degeneracy': 1, 'totalenergy': -67.99073842, 'relativeenergy': 2.532, 'boltzmannweight': 0.00035, 'conformerweights': [0.00035], 'rd_mol': <rdkit.Chem.rdchem.Mol object at 0x7fb939be44f0>}, {'geom_id': 93759666, 'set': 75, 'degeneracy': 1, 'totalenergy': -67.99073507, 'relativeenergy': 2.534, 'boltzmannweight': 0.00035, 'conformerweights': [0.00035], 'rd_mol': <rdkit.Chem.rdchem.Mol object at 0x7fb939bec900>}, {'geom_id': 93759670, 'set': 76, 'degeneracy': 1, 'totalenergy': -67.99072357, 'relativeenergy': 2.541, 'boltzmannweight': 0.00035, 'conformerweights': [0.00035], 'rd_mol': <rdkit.Chem.rdchem.Mol object at 0x7fb939beddf0>}, {'geom_id': 93759674, 'set': 77, 'degeneracy': 1, 'totalenergy': -67.99071089, 'relativeenergy': 2.549, 'boltzmannweight': 0.00034, 'conformerweights': [0.00034], 'rd_mol': <rdkit.Chem.rdchem.Mol object at 0x7fb939be6390>}, {'geom_id': 93759678, 'set': 78, 'degeneracy': 1, 'totalenergy': -67.99067928, 'relativeenergy': 2.569, 'boltzmannweight': 0.00033, 'conformerweights': [0.00033], 'rd_mol': <rdkit.Chem.rdchem.Mol object at 0x7fb939bee110>}, {'geom_id': 93759682, 'set': 79, 'degeneracy': 1, 'totalenergy': -67.99064594, 'relativeenergy': 2.59, 'boltzmannweight': 0.00032, 'conformerweights': [0.00032], 'rd_mol': <rdkit.Chem.rdchem.Mol object at 0x7fb939be7c90>}, {'geom_id': 93759686, 'set': 80, 'degeneracy': 1, 'totalenergy': -67.99062787, 'relativeenergy': 2.601, 'boltzmannweight': 0.00031, 'conformerweights': [0.00031], 'rd_mol': <rdkit.Chem.rdchem.Mol object at 0x7fb939be4180>}, {'geom_id': 93759690, 'set': 81, 'degeneracy': 2, 'totalenergy': -67.99061359, 'relativeenergy': 2.61, 'boltzmannweight': 0.00057, 'conformerweights': [0.00031, 0.00026], 'rd_mol': <rdkit.Chem.rdchem.Mol object at 0x7fb939be6c00>}, {'geom_id': 93759694, 'set': 82, 'degeneracy': 1, 'totalenergy': -67.99060936, 'relativeenergy': 2.613, 'boltzmannweight': 0.00031, 'conformerweights': [0.00031], 'rd_mol': <rdkit.Chem.rdchem.Mol object at 0x7fb939be44a0>}, {'geom_id': 93759698, 'set': 83, 'degeneracy': 1, 'totalenergy': -67.99060017, 'relativeenergy': 2.619, 'boltzmannweight': 0.0003, 'conformerweights': [0.0003], 'rd_mol': <rdkit.Chem.rdchem.Mol object at 0x7fb939be4c20>}, {'geom_id': 93759702, 'set': 84, 'degeneracy': 1, 'totalenergy': -67.99058295, 'relativeenergy': 2.63, 'boltzmannweight': 0.0003, 'conformerweights': [0.0003], 'rd_mol': <rdkit.Chem.rdchem.Mol object at 0x7fb939be4ae0>}, {'geom_id': 93759706, 'set': 85, 'degeneracy': 1, 'totalenergy': -67.99057409, 'relativeenergy': 2.635, 'boltzmannweight': 0.0003, 'conformerweights': [0.0003], 'rd_mol': <rdkit.Chem.rdchem.Mol object at 0x7fb939be54e0>}, {'geom_id': 93759710, 'set': 86, 'degeneracy': 2, 'totalenergy': -67.99056828, 'relativeenergy': 2.639, 'boltzmannweight': 0.00059, 'conformerweights': [0.00029, 0.00029], 'rd_mol': <rdkit.Chem.rdchem.Mol object at 0x7fb939bed940>}, {'geom_id': 93759714, 'set': 87, 'degeneracy': 5, 'totalenergy': -67.99049222, 'relativeenergy': 2.687, 'boltzmannweight': 0.00134, 'conformerweights': [0.00027, 0.00027, 0.00027, 0.00027, 0.00027], 'rd_mol': <rdkit.Chem.rdchem.Mol object at 0x7fb939bee250>}, {'geom_id': 93759718, 'set': 88, 'degeneracy': 4, 'totalenergy': -67.99048635, 'relativeenergy': 2.69, 'boltzmannweight': 0.00098, 'conformerweights': [0.00027, 0.00024, 0.00024, 0.00024], 'rd_mol': <rdkit.Chem.rdchem.Mol object at 0x7fb939bee750>}, {'geom_id': 93759722, 'set': 89, 'degeneracy': 1, 'totalenergy': -67.99047643, 'relativeenergy': 2.696, 'boltzmannweight': 0.00027, 'conformerweights': [0.00027], 'rd_mol': <rdkit.Chem.rdchem.Mol object at 0x7fb939bef3d0>}, {'geom_id': 93759726, 'set': 90, 'degeneracy': 2, 'totalenergy': -67.99045965, 'relativeenergy': 2.707, 'boltzmannweight': 0.00052, 'conformerweights': [0.00026, 0.00026], 'rd_mol': <rdkit.Chem.rdchem.Mol object at 0x7fb9406e7290>}, {'geom_id': 93759730, 'set': 91, 'degeneracy': 1, 'totalenergy': -67.99044367, 'relativeenergy': 2.717, 'boltzmannweight': 0.00026, 'conformerweights': [0.00026], 'rd_mol': <rdkit.Chem.rdchem.Mol object at 0x7fb939be7470>}, {'geom_id': 93759734, 'set': 92, 'degeneracy': 2, 'totalenergy': -67.99044309, 'relativeenergy': 2.717, 'boltzmannweight': 0.00051, 'conformerweights': [0.00026, 0.00025], 'rd_mol': <rdkit.Chem.rdchem.Mol object at 0x7fb939be7b50>}, {'geom_id': 93759739, 'set': 93, 'degeneracy': 2, 'totalenergy': -67.99043106, 'relativeenergy': 2.725, 'boltzmannweight': 0.00051, 'conformerweights': [0.00025, 0.00025], 'rd_mol': <rdkit.Chem.rdchem.Mol object at 0x7fb939bec6d0>}, {'geom_id': 93759743, 'set': 94, 'degeneracy': 1, 'totalenergy': -67.99042193, 'relativeenergy': 2.731, 'boltzmannweight': 0.00025, 'conformerweights': [0.00025], 'rd_mol': <rdkit.Chem.rdchem.Mol object at 0x7fb939bec770>}, {'geom_id': 93759746, 'set': 95, 'degeneracy': 1, 'totalenergy': -67.99038572, 'relativeenergy': 2.753, 'boltzmannweight': 0.00024, 'conformerweights': [0.00024], 'rd_mol': <rdkit.Chem.rdchem.Mol object at 0x7fb939be5030>}, {'geom_id': 93759749, 'set': 96, 'degeneracy': 2, 'totalenergy': -67.99037051, 'relativeenergy': 2.763, 'boltzmannweight': 0.00048, 'conformerweights': [0.00024, 0.00024], 'rd_mol': <rdkit.Chem.rdchem.Mol object at 0x7fb939be4ef0>}, {'geom_id': 93759752, 'set': 97, 'degeneracy': 1, 'totalenergy': -67.99035653, 'relativeenergy': 2.772, 'boltzmannweight': 0.00024, 'conformerweights': [0.00024], 'rd_mol': <rdkit.Chem.rdchem.Mol object at 0x7fb939be5490>}, {'geom_id': 93759755, 'set': 98, 'degeneracy': 1, 'totalenergy': -67.99034987, 'relativeenergy': 2.776, 'boltzmannweight': 0.00023, 'conformerweights': [0.00023], 'rd_mol': <rdkit.Chem.rdchem.Mol object at 0x7fb939bedc10>}, {'geom_id': 93759758, 'set': 99, 'degeneracy': 2, 'totalenergy': -67.99033276, 'relativeenergy': 2.787, 'boltzmannweight': 0.00046, 'conformerweights': [0.00023, 0.00023], 'rd_mol': <rdkit.Chem.rdchem.Mol object at 0x7fb9406e7f60>}, {'geom_id': 93759761, 'set': 100, 'degeneracy': 1, 'totalenergy': -67.99030948, 'relativeenergy': 2.801, 'boltzmannweight': 0.00022, 'conformerweights': [0.00022], 'rd_mol': <rdkit.Chem.rdchem.Mol object at 0x7fb940eb7880>}, {'geom_id': 93759764, 'set': 101, 'degeneracy': 1, 'totalenergy': -67.99028586, 'relativeenergy': 2.816, 'boltzmannweight': 0.00022, 'conformerweights': [0.00022], 'rd_mol': <rdkit.Chem.rdchem.Mol object at 0x7fb939be6340>}, {'geom_id': 93759767, 'set': 102, 'degeneracy': 5, 'totalenergy': -67.99028319, 'relativeenergy': 2.818, 'boltzmannweight': 0.00096, 'conformerweights': [0.00022, 0.0002, 0.0002, 0.00018, 0.00016], 'rd_mol': <rdkit.Chem.rdchem.Mol object at 0x7fb939be5d50>}, {'geom_id': 93759770, 'set': 103, 'degeneracy': 1, 'totalenergy': -67.99027098, 'relativeenergy': 2.825, 'boltzmannweight': 0.00021, 'conformerweights': [0.00021], 'rd_mol': <rdkit.Chem.rdchem.Mol object at 0x7fb939bedbc0>}, {'geom_id': 93759773, 'set': 104, 'degeneracy': 1, 'totalenergy': -67.99026442, 'relativeenergy': 2.829, 'boltzmannweight': 0.00021, 'conformerweights': [0.00021], 'rd_mol': <rdkit.Chem.rdchem.Mol object at 0x7fb939be5f80>}, {'geom_id': 93759776, 'set': 105, 'degeneracy': 1, 'totalenergy': -67.99025414, 'relativeenergy': 2.836, 'boltzmannweight': 0.00021, 'conformerweights': [0.00021], 'rd_mol': <rdkit.Chem.rdchem.Mol object at 0x7fb939be5f30>}, {'geom_id': 93759779, 'set': 106, 'degeneracy': 1, 'totalenergy': -67.99024696, 'relativeenergy': 2.84, 'boltzmannweight': 0.00021, 'conformerweights': [0.00021], 'rd_mol': <rdkit.Chem.rdchem.Mol object at 0x7fb939be45e0>}, {'geom_id': 93759781, 'set': 107, 'degeneracy': 1, 'totalenergy': -67.99018527, 'relativeenergy': 2.879, 'boltzmannweight': 0.0002, 'conformerweights': [0.0002], 'rd_mol': <rdkit.Chem.rdchem.Mol object at 0x7fb939be62a0>}, {'geom_id': 93759784, 'set': 108, 'degeneracy': 3, 'totalenergy': -67.99017733, 'relativeenergy': 2.884, 'boltzmannweight': 0.00053, 'conformerweights': [0.00019, 0.00018, 0.00016], 'rd_mol': <rdkit.Chem.rdchem.Mol object at 0x7fb940f762f0>}, {'geom_id': 93759787, 'set': 109, 'degeneracy': 1, 'totalenergy': -67.9901583, 'relativeenergy': 2.896, 'boltzmannweight': 0.00019, 'conformerweights': [0.00019], 'rd_mol': <rdkit.Chem.rdchem.Mol object at 0x7fb939be6200>}, {'geom_id': 93759790, 'set': 110, 'degeneracy': 1, 'totalenergy': -67.99013143, 'relativeenergy': 2.913, 'boltzmannweight': 0.00019, 'conformerweights': [0.00019], 'rd_mol': <rdkit.Chem.rdchem.Mol object at 0x7fb939bef1a0>}, {'geom_id': 93759793, 'set': 111, 'degeneracy': 1, 'totalenergy': -67.99005711, 'relativeenergy': 2.96, 'boltzmannweight': 0.00017, 'conformerweights': [0.00017], 'rd_mol': <rdkit.Chem.rdchem.Mol object at 0x7fb939bef380>}, {'geom_id': 93759796, 'set': 112, 'degeneracy': 1, 'totalenergy': -67.98999414, 'relativeenergy': 2.999, 'boltzmannweight': 0.00016, 'conformerweights': [0.00016], 'rd_mol': <rdkit.Chem.rdchem.Mol object at 0x7fb939be7ba0>}, {'geom_id': 93759799, 'set': 113, 'degeneracy': 3, 'totalenergy': -67.98998215, 'relativeenergy': 3.007, 'boltzmannweight': 0.00047, 'conformerweights': [0.00016, 0.00016, 0.00016], 'rd_mol': <rdkit.Chem.rdchem.Mol object at 0x7fb939be7010>}, {'geom_id': 93759802, 'set': 114, 'degeneracy': 3, 'totalenergy': -67.98996419, 'relativeenergy': 3.018, 'boltzmannweight': 0.00045, 'conformerweights': [0.00016, 0.00015, 0.00015], 'rd_mol': <rdkit.Chem.rdchem.Mol object at 0x7fb939be48b0>}, {'geom_id': 93759805, 'set': 115, 'degeneracy': 1, 'totalenergy': -67.9898951, 'relativeenergy': 3.061, 'boltzmannweight': 0.00014, 'conformerweights': [0.00014], 'rd_mol': <rdkit.Chem.rdchem.Mol object at 0x7fb93bdac720>}, {'geom_id': 93759808, 'set': 116, 'degeneracy': 1, 'totalenergy': -67.98988658, 'relativeenergy': 3.067, 'boltzmannweight': 0.00014, 'conformerweights': [0.00014], 'rd_mol': <rdkit.Chem.rdchem.Mol object at 0x7fb939be5210>}, {'geom_id': 93759811, 'set': 117, 'degeneracy': 1, 'totalenergy': -67.98986333, 'relativeenergy': 3.081, 'boltzmannweight': 0.00014, 'conformerweights': [0.00014], 'rd_mol': <rdkit.Chem.rdchem.Mol object at 0x7fb939bed6c0>}, {'geom_id': 93759814, 'set': 118, 'degeneracy': 1, 'totalenergy': -67.98982719, 'relativeenergy': 3.104, 'boltzmannweight': 0.00013, 'conformerweights': [0.00013], 'rd_mol': <rdkit.Chem.rdchem.Mol object at 0x7fb939be4680>}, {'geom_id': 93759817, 'set': 119, 'degeneracy': 1, 'totalenergy': -67.98982638, 'relativeenergy': 3.104, 'boltzmannweight': 0.00013, 'conformerweights': [0.00013], 'rd_mol': <rdkit.Chem.rdchem.Mol object at 0x7fb939beccc0>}, {'geom_id': 93759820, 'set': 120, 'degeneracy': 1, 'totalenergy': -67.98982223, 'relativeenergy': 3.107, 'boltzmannweight': 0.00013, 'conformerweights': [0.00013], 'rd_mol': <rdkit.Chem.rdchem.Mol object at 0x7fb939be6ed0>}, {'geom_id': 93759823, 'set': 121, 'degeneracy': 1, 'totalenergy': -67.98980198, 'relativeenergy': 3.12, 'boltzmannweight': 0.00013, 'conformerweights': [0.00013], 'rd_mol': <rdkit.Chem.rdchem.Mol object at 0x7fb939be75b0>}, {'geom_id': 93759826, 'set': 122, 'degeneracy': 1, 'totalenergy': -67.98979569, 'relativeenergy': 3.124, 'boltzmannweight': 0.00013, 'conformerweights': [0.00013], 'rd_mol': <rdkit.Chem.rdchem.Mol object at 0x7fb9406e7dd0>}, {'geom_id': 93759829, 'set': 123, 'degeneracy': 1, 'totalenergy': -67.98976611, 'relativeenergy': 3.142, 'boltzmannweight': 0.00013, 'conformerweights': [0.00013], 'rd_mol': <rdkit.Chem.rdchem.Mol object at 0x7fb9406e57b0>}, {'geom_id': 93759832, 'set': 124, 'degeneracy': 1, 'totalenergy': -67.98973457, 'relativeenergy': 3.162, 'boltzmannweight': 0.00012, 'conformerweights': [0.00012], 'rd_mol': <rdkit.Chem.rdchem.Mol object at 0x7fb939be4bd0>}, {'geom_id': 93759835, 'set': 125, 'degeneracy': 1, 'totalenergy': -67.98972504, 'relativeenergy': 3.168, 'boltzmannweight': 0.00012, 'conformerweights': [0.00012], 'rd_mol': <rdkit.Chem.rdchem.Mol object at 0x7fb939be7d30>}, {'geom_id': 93759838, 'set': 126, 'degeneracy': 1, 'totalenergy': -67.98971994, 'relativeenergy': 3.171, 'boltzmannweight': 0.00012, 'conformerweights': [0.00012], 'rd_mol': <rdkit.Chem.rdchem.Mol object at 0x7fb939be6a70>}, {'geom_id': 93759841, 'set': 127, 'degeneracy': 1, 'totalenergy': -67.98970318, 'relativeenergy': 3.182, 'boltzmannweight': 0.00012, 'conformerweights': [0.00012], 'rd_mol': <rdkit.Chem.rdchem.Mol object at 0x7fb939be6480>}, {'geom_id': 93759844, 'set': 128, 'degeneracy': 1, 'totalenergy': -67.98969761, 'relativeenergy': 3.185, 'boltzmannweight': 0.00012, 'conformerweights': [0.00012], 'rd_mol': <rdkit.Chem.rdchem.Mol object at 0x7fb939be6cf0>}, {'geom_id': 93759847, 'set': 129, 'degeneracy': 1, 'totalenergy': -67.98967654, 'relativeenergy': 3.198, 'boltzmannweight': 0.00011, 'conformerweights': [0.00011], 'rd_mol': <rdkit.Chem.rdchem.Mol object at 0x7fb939be79c0>}, {'geom_id': 93759851, 'set': 130, 'degeneracy': 1, 'totalenergy': -67.9896626, 'relativeenergy': 3.207, 'boltzmannweight': 0.00011, 'conformerweights': [0.00011], 'rd_mol': <rdkit.Chem.rdchem.Mol object at 0x7fb939be4fe0>}, {'geom_id': 93759854, 'set': 131, 'degeneracy': 1, 'totalenergy': -67.98964917, 'relativeenergy': 3.216, 'boltzmannweight': 0.00011, 'conformerweights': [0.00011], 'rd_mol': <rdkit.Chem.rdchem.Mol object at 0x7fb939be7a60>}, {'geom_id': 93759857, 'set': 132, 'degeneracy': 3, 'totalenergy': -67.98963657, 'relativeenergy': 3.223, 'boltzmannweight': 0.00032, 'conformerweights': [0.00011, 0.00011, 0.0001], 'rd_mol': <rdkit.Chem.rdchem.Mol object at 0x7fb940686610>}, {'geom_id': 93759860, 'set': 133, 'degeneracy': 1, 'totalenergy': -67.98959687, 'relativeenergy': 3.248, 'boltzmannweight': 0.00011, 'conformerweights': [0.00011], 'rd_mol': <rdkit.Chem.rdchem.Mol object at 0x7fb939be7e20>}, {'geom_id': 93759863, 'set': 134, 'degeneracy': 9, 'totalenergy': -67.98959521, 'relativeenergy': 3.249, 'boltzmannweight': 0.00088, 'conformerweights': [0.00011, 0.0001, 0.0001, 0.0001, 0.0001, 0.0001, 9e-05, 9e-05, 9e-05], 'rd_mol': <rdkit.Chem.rdchem.Mol object at 0x7fb939bec090>}, {'geom_id': 93759866, 'set': 135, 'degeneracy': 4, 'totalenergy': -67.98958516, 'relativeenergy': 3.256, 'boltzmannweight': 0.00037, 'conformerweights': [0.0001, 9e-05, 9e-05, 9e-05], 'rd_mol': <rdkit.Chem.rdchem.Mol object at 0x7fb939be5670>}, {'geom_id': 93759869, 'set': 136, 'degeneracy': 1, 'totalenergy': -67.98953018, 'relativeenergy': 3.29, 'boltzmannweight': 0.0001, 'conformerweights': [0.0001], 'rd_mol': <rdkit.Chem.rdchem.Mol object at 0x7fb939beeac0>}, {'geom_id': 93759872, 'set': 137, 'degeneracy': 2, 'totalenergy': -67.98951896, 'relativeenergy': 3.297, 'boltzmannweight': 0.00018, 'conformerweights': [0.0001, 8e-05], 'rd_mol': <rdkit.Chem.rdchem.Mol object at 0x7fb939be7240>}, {'geom_id': 93759875, 'set': 138, 'degeneracy': 1, 'totalenergy': -67.98950904, 'relativeenergy': 3.303, 'boltzmannweight': 0.0001, 'conformerweights': [0.0001], 'rd_mol': <rdkit.Chem.rdchem.Mol object at 0x7fb939bef830>}, {'geom_id': 93759878, 'set': 139, 'degeneracy': 18, 'totalenergy': -67.98948118, 'relativeenergy': 3.321, 'boltzmannweight': 0.0015, 'conformerweights': [9e-05, 9e-05, 9e-05, 9e-05, 9e-05, 9e-05, 9e-05, 9e-05, 9e-05, 9e-05, 8e-05, 8e-05, 8e-05, 8e-05, 8e-05, 7e-05, 6e-05, 6e-05], 'rd_mol': <rdkit.Chem.rdchem.Mol object at 0x7fb939bef330>}, {'geom_id': 93759882, 'set': 140, 'degeneracy': 8, 'totalenergy': -67.98946763, 'relativeenergy': 3.329, 'boltzmannweight': 0.00066, 'conformerweights': [9e-05, 9e-05, 9e-05, 9e-05, 9e-05, 8e-05, 7e-05, 7e-05], 'rd_mol': <rdkit.Chem.rdchem.Mol object at 0x7fb939bee570>}, {'geom_id': 93759885, 'set': 141, 'degeneracy': 1, 'totalenergy': -67.98944861, 'relativeenergy': 3.341, 'boltzmannweight': 9e-05, 'conformerweights': [9e-05], 'rd_mol': <rdkit.Chem.rdchem.Mol object at 0x7fb939be7bf0>}, {'geom_id': 93759888, 'set': 142, 'degeneracy': 4, 'totalenergy': -67.98944613, 'relativeenergy': 3.343, 'boltzmannweight': 0.00036, 'conformerweights': [9e-05, 9e-05, 9e-05, 9e-05], 'rd_mol': <rdkit.Chem.rdchem.Mol object at 0x7fb939befe70>}, {'geom_id': 93759890, 'set': 143, 'degeneracy': 3, 'totalenergy': -67.98944258, 'relativeenergy': 3.345, 'boltzmannweight': 0.00024, 'conformerweights': [9e-05, 8e-05, 7e-05], 'rd_mol': <rdkit.Chem.rdchem.Mol object at 0x7fb939bee1b0>}, {'geom_id': 93759893, 'set': 144, 'degeneracy': 4, 'totalenergy': -67.98942091, 'relativeenergy': 3.359, 'boltzmannweight': 0.00035, 'conformerweights': [9e-05, 9e-05, 9e-05, 9e-05], 'rd_mol': <rdkit.Chem.rdchem.Mol object at 0x7fb939bec400>}, {'geom_id': 93759896, 'set': 145, 'degeneracy': 1, 'totalenergy': -67.98942024, 'relativeenergy': 3.359, 'boltzmannweight': 9e-05, 'conformerweights': [9e-05], 'rd_mol': <rdkit.Chem.rdchem.Mol object at 0x7fb939bed260>}, {'geom_id': 93759899, 'set': 146, 'degeneracy': 1, 'totalenergy': -67.98941225, 'relativeenergy': 3.364, 'boltzmannweight': 9e-05, 'conformerweights': [9e-05], 'rd_mol': <rdkit.Chem.rdchem.Mol object at 0x7fb939be59e0>}, {'geom_id': 93759902, 'set': 147, 'degeneracy': 1, 'totalenergy': -67.98940451, 'relativeenergy': 3.369, 'boltzmannweight': 9e-05, 'conformerweights': [9e-05], 'rd_mol': <rdkit.Chem.rdchem.Mol object at 0x7fb940f763e0>}, {'geom_id': 93759905, 'set': 148, 'degeneracy': 1, 'totalenergy': -67.98938846, 'relativeenergy': 3.379, 'boltzmannweight': 8e-05, 'conformerweights': [8e-05], 'rd_mol': <rdkit.Chem.rdchem.Mol object at 0x7fb939beea20>}, {'geom_id': 93759908, 'set': 149, 'degeneracy': 1, 'totalenergy': -67.98937868, 'relativeenergy': 3.385, 'boltzmannweight': 8e-05, 'conformerweights': [8e-05], 'rd_mol': <rdkit.Chem.rdchem.Mol object at 0x7fb939be7060>}, {'geom_id': 93759911, 'set': 150, 'degeneracy': 1, 'totalenergy': -67.98937791, 'relativeenergy': 3.386, 'boltzmannweight': 8e-05, 'conformerweights': [8e-05], 'rd_mol': <rdkit.Chem.rdchem.Mol object at 0x7fb939bece50>}, {'geom_id': 93759914, 'set': 151, 'degeneracy': 1, 'totalenergy': -67.9893574, 'relativeenergy': 3.399, 'boltzmannweight': 8e-05, 'conformerweights': [8e-05], 'rd_mol': <rdkit.Chem.rdchem.Mol object at 0x7fb939bee700>}, {'geom_id': 93759917, 'set': 152, 'degeneracy': 8, 'totalenergy': -67.98934564, 'relativeenergy': 3.406, 'boltzmannweight': 0.00056, 'conformerweights': [8e-05, 8e-05, 8e-05, 7e-05, 7e-05, 7e-05, 6e-05, 6e-05], 'rd_mol': <rdkit.Chem.rdchem.Mol object at 0x7fb939bee430>}, {'geom_id': 93759920, 'set': 153, 'degeneracy': 2, 'totalenergy': -67.98932652, 'relativeenergy': 3.418, 'boltzmannweight': 0.00015, 'conformerweights': [8e-05, 8e-05], 'rd_mol': <rdkit.Chem.rdchem.Mol object at 0x7fb940eb7420>}, {'geom_id': 93759923, 'set': 154, 'degeneracy': 1, 'totalenergy': -67.98931306, 'relativeenergy': 3.426, 'boltzmannweight': 8e-05, 'conformerweights': [8e-05], 'rd_mol': <rdkit.Chem.rdchem.Mol object at 0x7fb940cbf3d0>}, {'geom_id': 93759926, 'set': 155, 'degeneracy': 1, 'totalenergy': -67.98929487, 'relativeenergy': 3.438, 'boltzmannweight': 8e-05, 'conformerweights': [8e-05], 'rd_mol': <rdkit.Chem.rdchem.Mol object at 0x7fb939beecf0>}, {'geom_id': 93759929, 'set': 156, 'degeneracy': 3, 'totalenergy': -67.9892742, 'relativeenergy': 3.451, 'boltzmannweight': 0.0002, 'conformerweights': [7e-05, 7e-05, 6e-05], 'rd_mol': <rdkit.Chem.rdchem.Mol object at 0x7fb939bee4d0>}, {'geom_id': 93759932, 'set': 157, 'degeneracy': 1, 'totalenergy': -67.98924949, 'relativeenergy': 3.466, 'boltzmannweight': 7e-05, 'conformerweights': [7e-05], 'rd_mol': <rdkit.Chem.rdchem.Mol object at 0x7fb9417b4a90>}, {'geom_id': 93759935, 'set': 158, 'degeneracy': 1, 'totalenergy': -67.98921847, 'relativeenergy': 3.486, 'boltzmannweight': 7e-05, 'conformerweights': [7e-05], 'rd_mol': <rdkit.Chem.rdchem.Mol object at 0x7fb939bee840>}, {'geom_id': 93759938, 'set': 159, 'degeneracy': 1, 'totalenergy': -67.98920934, 'relativeenergy': 3.492, 'boltzmannweight': 7e-05, 'conformerweights': [7e-05], 'rd_mol': <rdkit.Chem.rdchem.Mol object at 0x7fb939be46d0>}, {'geom_id': 93759941, 'set': 160, 'degeneracy': 1, 'totalenergy': -67.98919785, 'relativeenergy': 3.499, 'boltzmannweight': 7e-05, 'conformerweights': [7e-05], 'rd_mol': <rdkit.Chem.rdchem.Mol object at 0x7fb939be4450>}, {'geom_id': 93759944, 'set': 161, 'degeneracy': 1, 'totalenergy': -67.98918885, 'relativeenergy': 3.504, 'boltzmannweight': 7e-05, 'conformerweights': [7e-05], 'rd_mol': <rdkit.Chem.rdchem.Mol object at 0x7fb939d1bdd0>}, {'geom_id': 93759947, 'set': 162, 'degeneracy': 1, 'totalenergy': -67.98918089, 'relativeenergy': 3.509, 'boltzmannweight': 7e-05, 'conformerweights': [7e-05], 'rd_mol': <rdkit.Chem.rdchem.Mol object at 0x7fb940123d30>}, {'geom_id': 93759949, 'set': 163, 'degeneracy': 1, 'totalenergy': -67.98915745, 'relativeenergy': 3.524, 'boltzmannweight': 7e-05, 'conformerweights': [7e-05], 'rd_mol': <rdkit.Chem.rdchem.Mol object at 0x7fb939d1be20>}, {'geom_id': 93759951, 'set': 164, 'degeneracy': 1, 'totalenergy': -67.98915535, 'relativeenergy': 3.525, 'boltzmannweight': 7e-05, 'conformerweights': [7e-05], 'rd_mol': <rdkit.Chem.rdchem.Mol object at 0x7fb939d1bf10>}, {'geom_id': 93759953, 'set': 165, 'degeneracy': 1, 'totalenergy': -67.9891484, 'relativeenergy': 3.53, 'boltzmannweight': 7e-05, 'conformerweights': [7e-05], 'rd_mol': <rdkit.Chem.rdchem.Mol object at 0x7fb94073acf0>}, {'geom_id': 93759955, 'set': 166, 'degeneracy': 4, 'totalenergy': -67.98914569, 'relativeenergy': 3.531, 'boltzmannweight': 0.00026, 'conformerweights': [7e-05, 6e-05, 6e-05, 6e-05], 'rd_mol': <rdkit.Chem.rdchem.Mol object at 0x7fb9407135b0>}, {'geom_id': 93759957, 'set': 167, 'degeneracy': 1, 'totalenergy': -67.98913745, 'relativeenergy': 3.537, 'boltzmannweight': 6e-05, 'conformerweights': [6e-05], 'rd_mol': <rdkit.Chem.rdchem.Mol object at 0x7fb940712e30>}, {'geom_id': 93759959, 'set': 168, 'degeneracy': 1, 'totalenergy': -67.98911942, 'relativeenergy': 3.548, 'boltzmannweight': 6e-05, 'conformerweights': [6e-05], 'rd_mol': <rdkit.Chem.rdchem.Mol object at 0x7fb940fab560>}, {'geom_id': 93759961, 'set': 169, 'degeneracy': 1, 'totalenergy': -67.98910772, 'relativeenergy': 3.555, 'boltzmannweight': 6e-05, 'conformerweights': [6e-05], 'rd_mol': <rdkit.Chem.rdchem.Mol object at 0x7fb940faade0>}, {'geom_id': 93759963, 'set': 170, 'degeneracy': 2, 'totalenergy': -67.98910379, 'relativeenergy': 3.558, 'boltzmannweight': 0.00012, 'conformerweights': [6e-05, 6e-05], 'rd_mol': <rdkit.Chem.rdchem.Mol object at 0x7fb940faaed0>}, {'geom_id': 93759965, 'set': 171, 'degeneracy': 1, 'totalenergy': -67.9890738, 'relativeenergy': 3.577, 'boltzmannweight': 6e-05, 'conformerweights': [6e-05], 'rd_mol': <rdkit.Chem.rdchem.Mol object at 0x7fb940f20360>}, {'geom_id': 93759967, 'set': 172, 'degeneracy': 1, 'totalenergy': -67.98906599, 'relativeenergy': 3.582, 'boltzmannweight': 6e-05, 'conformerweights': [6e-05], 'rd_mol': <rdkit.Chem.rdchem.Mol object at 0x7fb940f20b80>}, {'geom_id': 93759969, 'set': 173, 'degeneracy': 1, 'totalenergy': -67.98905719, 'relativeenergy': 3.587, 'boltzmannweight': 6e-05, 'conformerweights': [6e-05], 'rd_mol': <rdkit.Chem.rdchem.Mol object at 0x7fb939be84f0>}, {'geom_id': 93759971, 'set': 174, 'degeneracy': 2, 'totalenergy': -67.98903815, 'relativeenergy': 3.599, 'boltzmannweight': 0.00012, 'conformerweights': [6e-05, 6e-05], 'rd_mol': <rdkit.Chem.rdchem.Mol object at 0x7fb940fa8ae0>}, {'geom_id': 93759973, 'set': 175, 'degeneracy': 5, 'totalenergy': -67.98899454, 'relativeenergy': 3.626, 'boltzmannweight': 0.00028, 'conformerweights': [6e-05, 6e-05, 6e-05, 6e-05, 5e-05], 'rd_mol': <rdkit.Chem.rdchem.Mol object at 0x7fb9407118f0>}, {'geom_id': 93759975, 'set': 176, 'degeneracy': 1, 'totalenergy': -67.98898885, 'relativeenergy': 3.63, 'boltzmannweight': 6e-05, 'conformerweights': [6e-05], 'rd_mol': <rdkit.Chem.rdchem.Mol object at 0x7fb939d1bce0>}, {'geom_id': 93759977, 'set': 177, 'degeneracy': 2, 'totalenergy': -67.9889793, 'relativeenergy': 3.636, 'boltzmannweight': 0.0001, 'conformerweights': [5e-05, 5e-05], 'rd_mol': <rdkit.Chem.rdchem.Mol object at 0x7fb940ff35b0>}, {'geom_id': 93759979, 'set': 178, 'degeneracy': 2, 'totalenergy': -67.98897846, 'relativeenergy': 3.636, 'boltzmannweight': 0.00011, 'conformerweights': [5e-05, 5e-05], 'rd_mol': <rdkit.Chem.rdchem.Mol object at 0x7fb93bd6bba0>}, {'geom_id': 93759981, 'set': 179, 'degeneracy': 1, 'totalenergy': -67.98897339, 'relativeenergy': 3.64, 'boltzmannweight': 5e-05, 'conformerweights': [5e-05], 'rd_mol': <rdkit.Chem.rdchem.Mol object at 0x7fb939be8680>}, {'geom_id': 93759983, 'set': 180, 'degeneracy': 21, 'totalenergy': -67.98896356, 'relativeenergy': 3.646, 'boltzmannweight': 0.00095, 'conformerweights': [5e-05, 5e-05, 5e-05, 5e-05, 5e-05, 5e-05, 5e-05, 5e-05, 5e-05, 5e-05, 4e-05, 4e-05, 4e-05, 4e-05, 4e-05, 4e-05, 4e-05, 4e-05, 4e-05, 4e-05, 3e-05], 'rd_mol': <rdkit.Chem.rdchem.Mol object at 0x7fb939be89f0>}, {'geom_id': 93759985, 'set': 181, 'degeneracy': 2, 'totalenergy': -67.98894824, 'relativeenergy': 3.655, 'boltzmannweight': 0.00011, 'conformerweights': [5e-05, 5e-05], 'rd_mol': <rdkit.Chem.rdchem.Mol object at 0x7fb939be8db0>}, {'geom_id': 93759987, 'set': 182, 'degeneracy': 1, 'totalenergy': -67.9889473, 'relativeenergy': 3.656, 'boltzmannweight': 5e-05, 'conformerweights': [5e-05], 'rd_mol': <rdkit.Chem.rdchem.Mol object at 0x7fb939be9170>}, {'geom_id': 93759989, 'set': 183, 'degeneracy': 1, 'totalenergy': -67.98893249, 'relativeenergy': 3.665, 'boltzmannweight': 5e-05, 'conformerweights': [5e-05], 'rd_mol': <rdkit.Chem.rdchem.Mol object at 0x7fb939be9530>}, {'geom_id': 93759991, 'set': 184, 'degeneracy': 12, 'totalenergy': -67.98892641, 'relativeenergy': 3.669, 'boltzmannweight': 0.00057, 'conformerweights': [5e-05, 5e-05, 5e-05, 5e-05, 5e-05, 5e-05, 5e-05, 5e-05, 5e-05, 4e-05, 4e-05, 3e-05], 'rd_mol': <rdkit.Chem.rdchem.Mol object at 0x7fb939be9760>}, {'geom_id': 93759993, 'set': 185, 'degeneracy': 2, 'totalenergy': -67.98891546, 'relativeenergy': 3.676, 'boltzmannweight': 0.0001, 'conformerweights': [5e-05, 5e-05], 'rd_mol': <rdkit.Chem.rdchem.Mol object at 0x7fb939be9bc0>}, {'geom_id': 93759995, 'set': 186, 'degeneracy': 1, 'totalenergy': -67.98889133, 'relativeenergy': 3.691, 'boltzmannweight': 5e-05, 'conformerweights': [5e-05], 'rd_mol': <rdkit.Chem.rdchem.Mol object at 0x7fb939be9ee0>}, {'geom_id': 93759997, 'set': 187, 'degeneracy': 1, 'totalenergy': -67.98887024, 'relativeenergy': 3.704, 'boltzmannweight': 5e-05, 'conformerweights': [5e-05], 'rd_mol': <rdkit.Chem.rdchem.Mol object at 0x7fb939bea2a0>}, {'geom_id': 93759999, 'set': 188, 'degeneracy': 4, 'totalenergy': -67.98885318, 'relativeenergy': 3.715, 'boltzmannweight': 0.00019, 'conformerweights': [5e-05, 5e-05, 5e-05, 5e-05], 'rd_mol': <rdkit.Chem.rdchem.Mol object at 0x7fb939bea660>}, {'geom_id': 93760001, 'set': 189, 'degeneracy': 1, 'totalenergy': -67.98884242, 'relativeenergy': 3.722, 'boltzmannweight': 5e-05, 'conformerweights': [5e-05], 'rd_mol': <rdkit.Chem.rdchem.Mol object at 0x7fb939bea980>}, {'geom_id': 93760003, 'set': 190, 'degeneracy': 1, 'totalenergy': -67.98883413, 'relativeenergy': 3.727, 'boltzmannweight': 5e-05, 'conformerweights': [5e-05], 'rd_mol': <rdkit.Chem.rdchem.Mol object at 0x7fb939bead40>}, {'geom_id': 93760005, 'set': 191, 'degeneracy': 3, 'totalenergy': -67.98877896, 'relativeenergy': 3.762, 'boltzmannweight': 0.00013, 'conformerweights': [4e-05, 4e-05, 4e-05], 'rd_mol': <rdkit.Chem.rdchem.Mol object at 0x7fb939beb100>}, {'geom_id': 93760007, 'set': 192, 'degeneracy': 1, 'totalenergy': -67.98877474, 'relativeenergy': 3.764, 'boltzmannweight': 4e-05, 'conformerweights': [4e-05], 'rd_mol': <rdkit.Chem.rdchem.Mol object at 0x7fb940693380>}, {'geom_id': 93760009, 'set': 193, 'degeneracy': 2, 'totalenergy': -67.98876055, 'relativeenergy': 3.773, 'boltzmannweight': 8e-05, 'conformerweights': [4e-05, 4e-05], 'rd_mol': <rdkit.Chem.rdchem.Mol object at 0x7fb939beb740>}, {'geom_id': 93760011, 'set': 194, 'degeneracy': 1, 'totalenergy': -67.98875985, 'relativeenergy': 3.774, 'boltzmannweight': 4e-05, 'conformerweights': [4e-05], 'rd_mol': <rdkit.Chem.rdchem.Mol object at 0x7fb939bebb00>}, {'geom_id': 93760013, 'set': 195, 'degeneracy': 2, 'totalenergy': -67.98875934, 'relativeenergy': 3.774, 'boltzmannweight': 9e-05, 'conformerweights': [4e-05, 4e-05], 'rd_mol': <rdkit.Chem.rdchem.Mol object at 0x7fb939d1bd80>}, {'geom_id': 93760015, 'set': 196, 'degeneracy': 6, 'totalenergy': -67.98874182, 'relativeenergy': 3.785, 'boltzmannweight': 0.00025, 'conformerweights': [4e-05, 4e-05, 4e-05, 4e-05, 4e-05, 4e-05], 'rd_mol': <rdkit.Chem.rdchem.Mol object at 0x7fb940ff3290>}, {'geom_id': 93760017, 'set': 197, 'degeneracy': 1, 'totalenergy': -67.98873669, 'relativeenergy': 3.788, 'boltzmannweight': 4e-05, 'conformerweights': [4e-05], 'rd_mol': <rdkit.Chem.rdchem.Mol object at 0x7fb940ff36f0>}, {'geom_id': 93760019, 'set': 198, 'degeneracy': 2, 'totalenergy': -67.98872334, 'relativeenergy': 3.797, 'boltzmannweight': 8e-05, 'conformerweights': [4e-05, 4e-05], 'rd_mol': <rdkit.Chem.rdchem.Mol object at 0x7fb940ff3f10>}, {'geom_id': 93760021, 'set': 199, 'degeneracy': 4, 'totalenergy': -67.98869776, 'relativeenergy': 3.813, 'boltzmannweight': 0.00015, 'conformerweights': [4e-05, 4e-05, 4e-05, 3e-05], 'rd_mol': <rdkit.Chem.rdchem.Mol object at 0x7fb939beaca0>}, {'geom_id': 93760023, 'set': 200, 'degeneracy': 1, 'totalenergy': -67.98868689, 'relativeenergy': 3.819, 'boltzmannweight': 4e-05, 'conformerweights': [4e-05], 'rd_mol': <rdkit.Chem.rdchem.Mol object at 0x7fb939be8810>}, {'geom_id': 93760025, 'set': 201, 'degeneracy': 15, 'totalenergy': -67.98867011, 'relativeenergy': 3.83, 'boltzmannweight': 0.00054, 'conformerweights': [4e-05, 4e-05, 4e-05, 4e-05, 4e-05, 4e-05, 4e-05, 4e-05, 4e-05, 4e-05, 4e-05, 3e-05, 3e-05, 3e-05, 3e-05], 'rd_mol': <rdkit.Chem.rdchem.Mol object at 0x7fb940fa8bd0>}, {'geom_id': 93760027, 'set': 202, 'degeneracy': 2, 'totalenergy': -67.98866702, 'relativeenergy': 3.832, 'boltzmannweight': 8e-05, 'conformerweights': [4e-05, 4e-05], 'rd_mol': <rdkit.Chem.rdchem.Mol object at 0x7fb939be8950>}, {'geom_id': 93760029, 'set': 203, 'degeneracy': 2, 'totalenergy': -67.98866072, 'relativeenergy': 3.836, 'boltzmannweight': 8e-05, 'conformerweights': [4e-05, 4e-05], 'rd_mol': <rdkit.Chem.rdchem.Mol object at 0x7fb939beb650>}, {'geom_id': 93760031, 'set': 204, 'degeneracy': 1, 'totalenergy': -67.98865909, 'relativeenergy': 3.837, 'boltzmannweight': 4e-05, 'conformerweights': [4e-05], 'rd_mol': <rdkit.Chem.rdchem.Mol object at 0x7fb939be9080>}, {'geom_id': 93760033, 'set': 205, 'degeneracy': 1, 'totalenergy': -67.98865817, 'relativeenergy': 3.837, 'boltzmannweight': 4e-05, 'conformerweights': [4e-05], 'rd_mol': <rdkit.Chem.rdchem.Mol object at 0x7fb939be9120>}, {'geom_id': 93760035, 'set': 206, 'degeneracy': 3, 'totalenergy': -67.98862518, 'relativeenergy': 3.858, 'boltzmannweight': 0.00011, 'conformerweights': [4e-05, 4e-05, 4e-05], 'rd_mol': <rdkit.Chem.rdchem.Mol object at 0x7fb939bea930>}, {'geom_id': 93760037, 'set': 207, 'degeneracy': 1, 'totalenergy': -67.98857391, 'relativeenergy': 3.89, 'boltzmannweight': 4e-05, 'conformerweights': [4e-05], 'rd_mol': <rdkit.Chem.rdchem.Mol object at 0x7fb939be9440>}, {'geom_id': 93760039, 'set': 208, 'degeneracy': 2, 'totalenergy': -67.98856738, 'relativeenergy': 3.894, 'boltzmannweight': 7e-05, 'conformerweights': [4e-05, 4e-05], 'rd_mol': <rdkit.Chem.rdchem.Mol object at 0x7fb939be8e00>}, {'geom_id': 93760041, 'set': 209, 'degeneracy': 1, 'totalenergy': -67.98855969, 'relativeenergy': 3.899, 'boltzmannweight': 4e-05, 'conformerweights': [4e-05], 'rd_mol': <rdkit.Chem.rdchem.Mol object at 0x7fb939bebfb0>}, {'geom_id': 93760043, 'set': 210, 'degeneracy': 2, 'totalenergy': -67.98854908, 'relativeenergy': 3.906, 'boltzmannweight': 7e-05, 'conformerweights': [3e-05, 3e-05], 'rd_mol': <rdkit.Chem.rdchem.Mol object at 0x7fb939be9710>}, {'geom_id': 93760045, 'set': 211, 'degeneracy': 1, 'totalenergy': -67.98850662, 'relativeenergy': 3.933, 'boltzmannweight': 3e-05, 'conformerweights': [3e-05], 'rd_mol': <rdkit.Chem.rdchem.Mol object at 0x7fb939be9b70>}, {'geom_id': 93760047, 'set': 212, 'degeneracy': 2, 'totalenergy': -67.98849976, 'relativeenergy': 3.937, 'boltzmannweight': 6e-05, 'conformerweights': [3e-05, 3e-05], 'rd_mol': <rdkit.Chem.rdchem.Mol object at 0x7fb939be9300>}, {'geom_id': 93760049, 'set': 213, 'degeneracy': 1, 'totalenergy': -67.98847535, 'relativeenergy': 3.952, 'boltzmannweight': 3e-05, 'conformerweights': [3e-05], 'rd_mol': <rdkit.Chem.rdchem.Mol object at 0x7fb939bebd30>}, {'geom_id': 93760052, 'set': 214, 'degeneracy': 5, 'totalenergy': -67.98847341, 'relativeenergy': 3.953, 'boltzmannweight': 0.00014, 'conformerweights': [3e-05, 3e-05, 3e-05, 3e-05, 3e-05], 'rd_mol': <rdkit.Chem.rdchem.Mol object at 0x7fb939bea9d0>}, {'geom_id': 93760055, 'set': 215, 'degeneracy': 1, 'totalenergy': -67.98847219, 'relativeenergy': 3.954, 'boltzmannweight': 3e-05, 'conformerweights': [3e-05], 'rd_mol': <rdkit.Chem.rdchem.Mol object at 0x7fb939be87c0>}, {'geom_id': 93760058, 'set': 216, 'degeneracy': 2, 'totalenergy': -67.98846673, 'relativeenergy': 3.958, 'boltzmannweight': 6e-05, 'conformerweights': [3e-05, 3e-05], 'rd_mol': <rdkit.Chem.rdchem.Mol object at 0x7fb939be9fd0>}, {'geom_id': 93760062, 'set': 217, 'degeneracy': 1, 'totalenergy': -67.98846531, 'relativeenergy': 3.958, 'boltzmannweight': 3e-05, 'conformerweights': [3e-05], 'rd_mol': <rdkit.Chem.rdchem.Mol object at 0x7fb939be9c10>}, {'geom_id': 93760065, 'set': 218, 'degeneracy': 1, 'totalenergy': -67.9884611, 'relativeenergy': 3.961, 'boltzmannweight': 3e-05, 'conformerweights': [3e-05], 'rd_mol': <rdkit.Chem.rdchem.Mol object at 0x7fb939bebab0>}, {'geom_id': 93760070, 'set': 219, 'degeneracy': 2, 'totalenergy': -67.98842718, 'relativeenergy': 3.982, 'boltzmannweight': 6e-05, 'conformerweights': [3e-05, 3e-05], 'rd_mol': <rdkit.Chem.rdchem.Mol object at 0x7fb939beb330>}, {'geom_id': 93760074, 'set': 220, 'degeneracy': 1, 'totalenergy': -67.98841437, 'relativeenergy': 3.99, 'boltzmannweight': 3e-05, 'conformerweights': [3e-05], 'rd_mol': <rdkit.Chem.rdchem.Mol object at 0x7fb939be9620>}, {'geom_id': 93760078, 'set': 221, 'degeneracy': 1, 'totalenergy': -67.9884134, 'relativeenergy': 3.991, 'boltzmannweight': 3e-05, 'conformerweights': [3e-05], 'rd_mol': <rdkit.Chem.rdchem.Mol object at 0x7fb939beaed0>}, {'geom_id': 93760082, 'set': 222, 'degeneracy': 1, 'totalenergy': -67.98837368, 'relativeenergy': 4.016, 'boltzmannweight': 3e-05, 'conformerweights': [3e-05], 'rd_mol': <rdkit.Chem.rdchem.Mol object at 0x7fb939bea110>}, {'geom_id': 93760085, 'set': 223, 'degeneracy': 1, 'totalenergy': -67.9883706, 'relativeenergy': 4.018, 'boltzmannweight': 3e-05, 'conformerweights': [3e-05], 'rd_mol': <rdkit.Chem.rdchem.Mol object at 0x7fb940f201d0>}, {'geom_id': 93760088, 'set': 224, 'degeneracy': 1, 'totalenergy': -67.9883015, 'relativeenergy': 4.061, 'boltzmannweight': 3e-05, 'conformerweights': [3e-05], 'rd_mol': <rdkit.Chem.rdchem.Mol object at 0x7fb939be8590>}, {'geom_id': 93760091, 'set': 225, 'degeneracy': 1, 'totalenergy': -67.98829391, 'relativeenergy': 4.066, 'boltzmannweight': 3e-05, 'conformerweights': [3e-05], 'rd_mol': <rdkit.Chem.rdchem.Mol object at 0x7fb939be9ad0>}, {'geom_id': 93760094, 'set': 226, 'degeneracy': 2, 'totalenergy': -67.98828603, 'relativeenergy': 4.071, 'boltzmannweight': 5e-05, 'conformerweights': [3e-05, 3e-05], 'rd_mol': <rdkit.Chem.rdchem.Mol object at 0x7fb939be91c0>}, {'geom_id': 93760097, 'set': 227, 'degeneracy': 1, 'totalenergy': -67.98826722, 'relativeenergy': 4.083, 'boltzmannweight': 3e-05, 'conformerweights': [3e-05], 'rd_mol': <rdkit.Chem.rdchem.Mol object at 0x7fb939be8a40>}, {'geom_id': 93760100, 'set': 228, 'degeneracy': 1, 'totalenergy': -67.98826572, 'relativeenergy': 4.084, 'boltzmannweight': 3e-05, 'conformerweights': [3e-05], 'rd_mol': <rdkit.Chem.rdchem.Mol object at 0x7fb939be8ea0>}, {'geom_id': 93760103, 'set': 229, 'degeneracy': 7, 'totalenergy': -67.98826344, 'relativeenergy': 4.085, 'boltzmannweight': 0.00017, 'conformerweights': [3e-05, 3e-05, 3e-05, 3e-05, 2e-05, 2e-05, 2e-05], 'rd_mol': <rdkit.Chem.rdchem.Mol object at 0x7fb939beba10>}, {'geom_id': 93760106, 'set': 230, 'degeneracy': 2, 'totalenergy': -67.98826331, 'relativeenergy': 4.085, 'boltzmannweight': 5e-05, 'conformerweights': [3e-05, 2e-05], 'rd_mol': <rdkit.Chem.rdchem.Mol object at 0x7fb939beb9c0>}, {'geom_id': 93760109, 'set': 231, 'degeneracy': 1, 'totalenergy': -67.98825647, 'relativeenergy': 4.089, 'boltzmannweight': 3e-05, 'conformerweights': [3e-05], 'rd_mol': <rdkit.Chem.rdchem.Mol object at 0x7fb939beac00>}, {'geom_id': 93760111, 'set': 232, 'degeneracy': 1, 'totalenergy': -67.98823304, 'relativeenergy': 4.104, 'boltzmannweight': 2e-05, 'conformerweights': [2e-05], 'rd_mol': <rdkit.Chem.rdchem.Mol object at 0x7fb939bea520>}, {'geom_id': 93760113, 'set': 233, 'degeneracy': 1, 'totalenergy': -67.98822805, 'relativeenergy': 4.107, 'boltzmannweight': 2e-05, 'conformerweights': [2e-05], 'rd_mol': <rdkit.Chem.rdchem.Mol object at 0x7fb939be9d00>}, {'geom_id': 93760115, 'set': 234, 'degeneracy': 1, 'totalenergy': -67.98821407, 'relativeenergy': 4.116, 'boltzmannweight': 2e-05, 'conformerweights': [2e-05], 'rd_mol': <rdkit.Chem.rdchem.Mol object at 0x7fb939be8c70>}, {'geom_id': 93760117, 'set': 235, 'degeneracy': 1, 'totalenergy': -67.98820354, 'relativeenergy': 4.123, 'boltzmannweight': 2e-05, 'conformerweights': [2e-05], 'rd_mol': <rdkit.Chem.rdchem.Mol object at 0x7fb939be81d0>}, {'geom_id': 93760119, 'set': 236, 'degeneracy': 1, 'totalenergy': -67.98820232, 'relativeenergy': 4.123, 'boltzmannweight': 2e-05, 'conformerweights': [2e-05], 'rd_mol': <rdkit.Chem.rdchem.Mol object at 0x7fb940ff3fb0>}, {'geom_id': 93760121, 'set': 237, 'degeneracy': 3, 'totalenergy': -67.9881997, 'relativeenergy': 4.125, 'boltzmannweight': 7e-05, 'conformerweights': [2e-05, 2e-05, 2e-05], 'rd_mol': <rdkit.Chem.rdchem.Mol object at 0x7fb939bebdd0>}, {'geom_id': 93760123, 'set': 238, 'degeneracy': 6, 'totalenergy': -67.9881996, 'relativeenergy': 4.125, 'boltzmannweight': 0.00014, 'conformerweights': [2e-05, 2e-05, 2e-05, 2e-05, 2e-05, 2e-05], 'rd_mol': <rdkit.Chem.rdchem.Mol object at 0x7fb940f204f0>}, {'geom_id': 93760125, 'set': 239, 'degeneracy': 1, 'totalenergy': -67.98819145, 'relativeenergy': 4.13, 'boltzmannweight': 2e-05, 'conformerweights': [2e-05], 'rd_mol': <rdkit.Chem.rdchem.Mol object at 0x7fb939be3560>}, {'geom_id': 93760127, 'set': 240, 'degeneracy': 1, 'totalenergy': -67.98819035, 'relativeenergy': 4.131, 'boltzmannweight': 2e-05, 'conformerweights': [2e-05], 'rd_mol': <rdkit.Chem.rdchem.Mol object at 0x7fb939bea840>}, {'geom_id': 93760129, 'set': 241, 'degeneracy': 1, 'totalenergy': -67.98818273, 'relativeenergy': 4.136, 'boltzmannweight': 2e-05, 'conformerweights': [2e-05], 'rd_mol': <rdkit.Chem.rdchem.Mol object at 0x7fb939be9800>}, {'geom_id': 93760131, 'set': 242, 'degeneracy': 2, 'totalenergy': -67.98815723, 'relativeenergy': 4.152, 'boltzmannweight': 5e-05, 'conformerweights': [2e-05, 2e-05], 'rd_mol': <rdkit.Chem.rdchem.Mol object at 0x7fb939beb6f0>}, {'geom_id': 93760133, 'set': 243, 'degeneracy': 10, 'totalenergy': -67.98815537, 'relativeenergy': 4.153, 'boltzmannweight': 0.00018, 'conformerweights': [2e-05, 2e-05, 2e-05, 2e-05, 2e-05, 2e-05, 2e-05, 2e-05, 2e-05, 2e-05], 'rd_mol': <rdkit.Chem.rdchem.Mol object at 0x7fb939be0180>}, {'geom_id': 93760135, 'set': 244, 'degeneracy': 1, 'totalenergy': -67.98814726, 'relativeenergy': 4.158, 'boltzmannweight': 2e-05, 'conformerweights': [2e-05], 'rd_mol': <rdkit.Chem.rdchem.Mol object at 0x7fb940690360>}, {'geom_id': 93760137, 'set': 245, 'degeneracy': 1, 'totalenergy': -67.98814582, 'relativeenergy': 4.159, 'boltzmannweight': 2e-05, 'conformerweights': [2e-05], 'rd_mol': <rdkit.Chem.rdchem.Mol object at 0x7fb939bea700>}, {'geom_id': 93760139, 'set': 246, 'degeneracy': 1, 'totalenergy': -67.98813335, 'relativeenergy': 4.167, 'boltzmannweight': 2e-05, 'conformerweights': [2e-05], 'rd_mol': <rdkit.Chem.rdchem.Mol object at 0x7fb940690f90>}, {'geom_id': 93760141, 'set': 247, 'degeneracy': 1, 'totalenergy': -67.98811128, 'relativeenergy': 4.181, 'boltzmannweight': 2e-05, 'conformerweights': [2e-05], 'rd_mol': <rdkit.Chem.rdchem.Mol object at 0x7fb939d1bd30>}, {'geom_id': 93760143, 'set': 248, 'degeneracy': 2, 'totalenergy': -67.98809102, 'relativeenergy': 4.193, 'boltzmannweight': 4e-05, 'conformerweights': [2e-05, 2e-05], 'rd_mol': <rdkit.Chem.rdchem.Mol object at 0x7fb939be86d0>}, {'geom_id': 93760145, 'set': 249, 'degeneracy': 1, 'totalenergy': -67.98807873, 'relativeenergy': 4.201, 'boltzmannweight': 2e-05, 'conformerweights': [2e-05], 'rd_mol': <rdkit.Chem.rdchem.Mol object at 0x7fb939be0a90>}, {'geom_id': 93760147, 'set': 250, 'degeneracy': 1, 'totalenergy': -67.98805445, 'relativeenergy': 4.216, 'boltzmannweight': 2e-05, 'conformerweights': [2e-05], 'rd_mol': <rdkit.Chem.rdchem.Mol object at 0x7fb939be8d10>}, {'geom_id': 93760149, 'set': 251, 'degeneracy': 1, 'totalenergy': -67.98803627, 'relativeenergy': 4.228, 'boltzmannweight': 2e-05, 'conformerweights': [2e-05], 'rd_mol': <rdkit.Chem.rdchem.Mol object at 0x7fb939be90d0>}, {'geom_id': 93760151, 'set': 252, 'degeneracy': 1, 'totalenergy': -67.98802961, 'relativeenergy': 4.232, 'boltzmannweight': 2e-05, 'conformerweights': [2e-05], 'rd_mol': <rdkit.Chem.rdchem.Mol object at 0x7fb939be9350>}, {'geom_id': 93760153, 'set': 253, 'degeneracy': 5, 'totalenergy': -67.9879678, 'relativeenergy': 4.271, 'boltzmannweight': 9e-05, 'conformerweights': [2e-05, 2e-05, 2e-05, 2e-05, 2e-05], 'rd_mol': <rdkit.Chem.rdchem.Mol object at 0x7fb939be9670>}, {'geom_id': 93760155, 'set': 254, 'degeneracy': 2, 'totalenergy': -67.98795359, 'relativeenergy': 4.28, 'boltzmannweight': 3e-05, 'conformerweights': [2e-05, 2e-05], 'rd_mol': <rdkit.Chem.rdchem.Mol object at 0x7fb939be99e0>}, {'geom_id': 93760157, 'set': 255, 'degeneracy': 1, 'totalenergy': -67.98795019, 'relativeenergy': 4.282, 'boltzmannweight': 2e-05, 'conformerweights': [2e-05], 'rd_mol': <rdkit.Chem.rdchem.Mol object at 0x7fb939be9c60>}, {'geom_id': 93760158, 'set': 256, 'degeneracy': 2, 'totalenergy': -67.98794991, 'relativeenergy': 4.282, 'boltzmannweight': 4e-05, 'conformerweights': [2e-05, 2e-05], 'rd_mol': <rdkit.Chem.rdchem.Mol object at 0x7fb939bea0c0>}, {'geom_id': 93760159, 'set': 257, 'degeneracy': 1, 'totalenergy': -67.98793998, 'relativeenergy': 4.288, 'boltzmannweight': 2e-05, 'conformerweights': [2e-05], 'rd_mol': <rdkit.Chem.rdchem.Mol object at 0x7fb939bea340>}, {'geom_id': 93760160, 'set': 258, 'degeneracy': 2, 'totalenergy': -67.98793261, 'relativeenergy': 4.293, 'boltzmannweight': 4e-05, 'conformerweights': [2e-05, 2e-05], 'rd_mol': <rdkit.Chem.rdchem.Mol object at 0x7fb939bea5c0>}, {'geom_id': 93760161, 'set': 259, 'degeneracy': 8, 'totalenergy': -67.98792445, 'relativeenergy': 4.298, 'boltzmannweight': 0.00013, 'conformerweights': [2e-05, 2e-05, 2e-05, 2e-05, 2e-05, 2e-05, 1e-05, 1e-05], 'rd_mol': <rdkit.Chem.rdchem.Mol object at 0x7fb939beab60>}, {'geom_id': 93760162, 'set': 260, 'degeneracy': 8, 'totalenergy': -67.9879191, 'relativeenergy': 4.301, 'boltzmannweight': 0.00012, 'conformerweights': [2e-05, 2e-05, 1e-05, 1e-05, 1e-05, 1e-05, 1e-05, 1e-05], 'rd_mol': <rdkit.Chem.rdchem.Mol object at 0x7fb939be2f20>}, {'geom_id': 93760163, 'set': 261, 'degeneracy': 2, 'totalenergy': -67.98791848, 'relativeenergy': 4.302, 'boltzmannweight': 4e-05, 'conformerweights': [2e-05, 2e-05], 'rd_mol': <rdkit.Chem.rdchem.Mol object at 0x7fb939beb1a0>}, {'geom_id': 93760164, 'set': 262, 'degeneracy': 2, 'totalenergy': -67.98791214, 'relativeenergy': 4.306, 'boltzmannweight': 3e-05, 'conformerweights': [2e-05, 2e-05], 'rd_mol': <rdkit.Chem.rdchem.Mol object at 0x7fb939beb420>}, {'geom_id': 93760165, 'set': 263, 'degeneracy': 1, 'totalenergy': -67.98790164, 'relativeenergy': 4.312, 'boltzmannweight': 2e-05, 'conformerweights': [2e-05], 'rd_mol': <rdkit.Chem.rdchem.Mol object at 0x7fb940e537e0>}, {'geom_id': 93760166, 'set': 264, 'degeneracy': 2, 'totalenergy': -67.98788104, 'relativeenergy': 4.325, 'boltzmannweight': 3e-05, 'conformerweights': [2e-05, 2e-05], 'rd_mol': <rdkit.Chem.rdchem.Mol object at 0x7fb939be3f60>}, {'geom_id': 93760167, 'set': 265, 'degeneracy': 1, 'totalenergy': -67.98787839, 'relativeenergy': 4.327, 'boltzmannweight': 2e-05, 'conformerweights': [2e-05], 'rd_mol': <rdkit.Chem.rdchem.Mol object at 0x7fb940ff3c40>}, {'geom_id': 93760168, 'set': 266, 'degeneracy': 2, 'totalenergy': -67.98785464, 'relativeenergy': 4.342, 'boltzmannweight': 3e-05, 'conformerweights': [2e-05, 2e-05], 'rd_mol': <rdkit.Chem.rdchem.Mol object at 0x7fb939be1030>}, {'geom_id': 93760169, 'set': 267, 'degeneracy': 1, 'totalenergy': -67.98785364, 'relativeenergy': 4.342, 'boltzmannweight': 2e-05, 'conformerweights': [2e-05], 'rd_mol': <rdkit.Chem.rdchem.Mol object at 0x7fb939be8400>}, {'geom_id': 93760170, 'set': 268, 'degeneracy': 1, 'totalenergy': -67.98784146, 'relativeenergy': 4.35, 'boltzmannweight': 2e-05, 'conformerweights': [2e-05], 'rd_mol': <rdkit.Chem.rdchem.Mol object at 0x7fb939beb150>}, {'geom_id': 93760171, 'set': 269, 'degeneracy': 4, 'totalenergy': -67.9878327, 'relativeenergy': 4.355, 'boltzmannweight': 6e-05, 'conformerweights': [2e-05, 2e-05, 1e-05, 1e-05], 'rd_mol': <rdkit.Chem.rdchem.Mol object at 0x7fb939be30b0>}, {'geom_id': 93760172, 'set': 270, 'degeneracy': 1, 'totalenergy': -67.98783136, 'relativeenergy': 4.356, 'boltzmannweight': 2e-05, 'conformerweights': [2e-05], 'rd_mol': <rdkit.Chem.rdchem.Mol object at 0x7fb939be2750>}, {'geom_id': 93760173, 'set': 271, 'degeneracy': 2, 'totalenergy': -67.9878261, 'relativeenergy': 4.36, 'boltzmannweight': 3e-05, 'conformerweights': [2e-05, 2e-05], 'rd_mol': <rdkit.Chem.rdchem.Mol object at 0x7fb940e52110>}, {'geom_id': 93760174, 'set': 272, 'degeneracy': 1, 'totalenergy': -67.98782604, 'relativeenergy': 4.36, 'boltzmannweight': 2e-05, 'conformerweights': [2e-05], 'rd_mol': <rdkit.Chem.rdchem.Mol object at 0x7fb939be9da0>}, {'geom_id': 93760175, 'set': 273, 'degeneracy': 5, 'totalenergy': -67.98782005, 'relativeenergy': 4.363, 'boltzmannweight': 8e-05, 'conformerweights': [2e-05, 2e-05, 2e-05, 2e-05, 2e-05], 'rd_mol': <rdkit.Chem.rdchem.Mol object at 0x7fb939d1bc90>}, {'geom_id': 93760176, 'set': 274, 'degeneracy': 1, 'totalenergy': -67.98781802, 'relativeenergy': 4.365, 'boltzmannweight': 2e-05, 'conformerweights': [2e-05], 'rd_mol': <rdkit.Chem.rdchem.Mol object at 0x7fb9406c22a0>}, {'geom_id': 93760177, 'set': 275, 'degeneracy': 1, 'totalenergy': -67.98781539, 'relativeenergy': 4.366, 'boltzmannweight': 2e-05, 'conformerweights': [2e-05], 'rd_mol': <rdkit.Chem.rdchem.Mol object at 0x7fb93bd68220>}, {'geom_id': 93760178, 'set': 276, 'degeneracy': 1, 'totalenergy': -67.98780681, 'relativeenergy': 4.372, 'boltzmannweight': 2e-05, 'conformerweights': [2e-05], 'rd_mol': <rdkit.Chem.rdchem.Mol object at 0x7fb939be3ce0>}, {'geom_id': 93760179, 'set': 277, 'degeneracy': 1, 'totalenergy': -67.98780414, 'relativeenergy': 4.373, 'boltzmannweight': 2e-05, 'conformerweights': [2e-05], 'rd_mol': <rdkit.Chem.rdchem.Mol object at 0x7fb939beaf70>}, {'geom_id': 93760181, 'set': 278, 'degeneracy': 1, 'totalenergy': -67.9877871, 'relativeenergy': 4.384, 'boltzmannweight': 2e-05, 'conformerweights': [2e-05], 'rd_mol': <rdkit.Chem.rdchem.Mol object at 0x7fb940fa92b0>}, {'geom_id': 93760183, 'set': 279, 'degeneracy': 1, 'totalenergy': -67.98778515, 'relativeenergy': 4.385, 'boltzmannweight': 2e-05, 'conformerweights': [2e-05], 'rd_mol': <rdkit.Chem.rdchem.Mol object at 0x7fb939beafc0>}, {'geom_id': 93760185, 'set': 280, 'degeneracy': 3, 'totalenergy': -67.98777017, 'relativeenergy': 4.395, 'boltzmannweight': 5e-05, 'conformerweights': [2e-05, 2e-05, 2e-05], 'rd_mol': <rdkit.Chem.rdchem.Mol object at 0x7fb93bd6bec0>}, {'geom_id': 93760187, 'set': 281, 'degeneracy': 5, 'totalenergy': -67.98776895, 'relativeenergy': 4.395, 'boltzmannweight': 7e-05, 'conformerweights': [2e-05, 2e-05, 2e-05, 1e-05, 1e-05], 'rd_mol': <rdkit.Chem.rdchem.Mol object at 0x7fb940739df0>}, {'geom_id': 93760189, 'set': 282, 'degeneracy': 2, 'totalenergy': -67.98776028, 'relativeenergy': 4.401, 'boltzmannweight': 3e-05, 'conformerweights': [2e-05, 1e-05], 'rd_mol': <rdkit.Chem.rdchem.Mol object at 0x7fb939bea890>}, {'geom_id': 93760191, 'set': 283, 'degeneracy': 1, 'totalenergy': -67.98771604, 'relativeenergy': 4.429, 'boltzmannweight': 1e-05, 'conformerweights': [1e-05], 'rd_mol': <rdkit.Chem.rdchem.Mol object at 0x7fb939be80e0>}, {'geom_id': 93760193, 'set': 284, 'degeneracy': 3, 'totalenergy': -67.98771416, 'relativeenergy': 4.43, 'boltzmannweight': 4e-05, 'conformerweights': [1e-05, 1e-05, 1e-05], 'rd_mol': <rdkit.Chem.rdchem.Mol object at 0x7fb939be89a0>}, {'geom_id': 93760195, 'set': 285, 'degeneracy': 1, 'totalenergy': -67.98770766, 'relativeenergy': 4.434, 'boltzmannweight': 1e-05, 'conformerweights': [1e-05], 'rd_mol': <rdkit.Chem.rdchem.Mol object at 0x7fb939beb1f0>}, {'geom_id': 93760197, 'set': 286, 'degeneracy': 5, 'totalenergy': -67.98767523, 'relativeenergy': 4.454, 'boltzmannweight': 7e-05, 'conformerweights': [1e-05, 1e-05, 1e-05, 1e-05, 1e-05], 'rd_mol': <rdkit.Chem.rdchem.Mol object at 0x7fb939be97b0>}, {'geom_id': 93760199, 'set': 287, 'degeneracy': 1, 'totalenergy': -67.98765112, 'relativeenergy': 4.469, 'boltzmannweight': 1e-05, 'conformerweights': [1e-05], 'rd_mol': <rdkit.Chem.rdchem.Mol object at 0x7fb939be8540>}, {'geom_id': 93760201, 'set': 288, 'degeneracy': 1, 'totalenergy': -67.98761994, 'relativeenergy': 4.489, 'boltzmannweight': 1e-05, 'conformerweights': [1e-05], 'rd_mol': <rdkit.Chem.rdchem.Mol object at 0x7fb939bea4d0>}, {'geom_id': 93760203, 'set': 289, 'degeneracy': 1, 'totalenergy': -67.98759799, 'relativeenergy': 4.503, 'boltzmannweight': 1e-05, 'conformerweights': [1e-05], 'rd_mol': <rdkit.Chem.rdchem.Mol object at 0x7fb939be8d60>}, {'geom_id': 93760205, 'set': 290, 'degeneracy': 1, 'totalenergy': -67.98759609, 'relativeenergy': 4.504, 'boltzmannweight': 1e-05, 'conformerweights': [1e-05], 'rd_mol': <rdkit.Chem.rdchem.Mol object at 0x7fb939beb790>}, {'geom_id': 93760207, 'set': 291, 'degeneracy': 1, 'totalenergy': -67.98756027, 'relativeenergy': 4.526, 'boltzmannweight': 1e-05, 'conformerweights': [1e-05], 'rd_mol': <rdkit.Chem.rdchem.Mol object at 0x7fb939be9850>}, {'geom_id': 93760209, 'set': 292, 'degeneracy': 1, 'totalenergy': -67.98755403, 'relativeenergy': 4.53, 'boltzmannweight': 1e-05, 'conformerweights': [1e-05], 'rd_mol': <rdkit.Chem.rdchem.Mol object at 0x7fb939be8ae0>}, {'geom_id': 93760211, 'set': 293, 'degeneracy': 1, 'totalenergy': -67.98754825, 'relativeenergy': 4.534, 'boltzmannweight': 1e-05, 'conformerweights': [1e-05], 'rd_mol': <rdkit.Chem.rdchem.Mol object at 0x7fb939bea7f0>}, {'geom_id': 93760213, 'set': 294, 'degeneracy': 1, 'totalenergy': -67.98754096, 'relativeenergy': 4.538, 'boltzmannweight': 1e-05, 'conformerweights': [1e-05], 'rd_mol': <rdkit.Chem.rdchem.Mol object at 0x7fb939beb8d0>}, {'geom_id': 93760215, 'set': 295, 'degeneracy': 1, 'totalenergy': -67.98753628, 'relativeenergy': 4.541, 'boltzmannweight': 1e-05, 'conformerweights': [1e-05], 'rd_mol': <rdkit.Chem.rdchem.Mol object at 0x7fb939be9cb0>}, {'geom_id': 93760217, 'set': 296, 'degeneracy': 1, 'totalenergy': -67.98753112, 'relativeenergy': 4.545, 'boltzmannweight': 1e-05, 'conformerweights': [1e-05], 'rd_mol': <rdkit.Chem.rdchem.Mol object at 0x7fb939beae30>}], 'smiles': 'CC(C)CCN1CCN(CC#Cc2ccccc2)CC1CCO'}\n"
     ]
    },
    {
     "name": "stderr",
     "output_type": "stream",
     "text": [
      "10139it [04:45, 35.52it/s]\n"
     ]
    }
   ],
   "source": [
    "targets = []\n",
    "\n",
    "n = 0\n",
    "for file in tqdm(absoluteFilePaths(\"../data/rdkit_folder/drugs\")):\n",
    "    try:\n",
    "        with open(file, \"rb\") as f:\n",
    "            data = pickle.load(f)\n",
    "\n",
    "        if data[\"uniqueconfs\"] == 1:\n",
    "            continue\n",
    "\n",
    "        _, _, diff = get_2conformers(data)\n",
    "        targets.append(diff)\n",
    "    except:\n",
    "        print(data)\n",
    "    n += 1\n",
    "\n",
    "    if n > 10000:\n",
    "        break"
   ]
  },
  {
   "cell_type": "code",
   "execution_count": 66,
   "metadata": {},
   "outputs": [
    {
     "data": {
      "text/plain": [
       "(array([  19.,   16.,   14.,   30.,   19.,   24.,   25.,   24.,   19.,\n",
       "          17.,   16.,   15.,   16.,   24.,   17.,   18.,    9.,   14.,\n",
       "          18.,   18.,   21.,   19.,   18.,   23.,   22.,   21.,   28.,\n",
       "          21.,   18.,   27.,   23.,   22.,   10.,   20.,   20.,   27.,\n",
       "          24.,   18.,   22.,   22.,   20.,   24.,   27.,   29.,   32.,\n",
       "          25.,   26.,   23.,   18.,   27.,   35.,   16.,   20.,   21.,\n",
       "          22.,   25.,   34.,   25.,   30.,   35.,   30.,   26.,   29.,\n",
       "          28.,   35.,   35.,   29.,   25.,   32.,   38.,   45.,   38.,\n",
       "          44.,   33.,   40.,   56.,   52.,   59.,   56.,   64.,   61.,\n",
       "          63.,   63.,   60.,   84.,   84.,   83.,   75.,  107.,  108.,\n",
       "         119.,  145.,  173.,  200.,  262.,  292.,  402.,  687., 1162.,\n",
       "        3663.]),\n",
       " array([0.001737  , 0.01128121, 0.02082542, 0.03036963, 0.03991384,\n",
       "        0.04945805, 0.05900226, 0.06854647, 0.07809068, 0.08763489,\n",
       "        0.0971791 , 0.10672331, 0.11626752, 0.12581173, 0.13535594,\n",
       "        0.14490015, 0.15444436, 0.16398857, 0.17353278, 0.18307699,\n",
       "        0.1926212 , 0.20216541, 0.21170962, 0.22125383, 0.23079804,\n",
       "        0.24034225, 0.24988646, 0.25943067, 0.26897488, 0.27851909,\n",
       "        0.2880633 , 0.29760751, 0.30715172, 0.31669593, 0.32624014,\n",
       "        0.33578435, 0.34532856, 0.35487277, 0.36441698, 0.37396119,\n",
       "        0.3835054 , 0.39304961, 0.40259382, 0.41213803, 0.42168224,\n",
       "        0.43122645, 0.44077066, 0.45031487, 0.45985908, 0.46940329,\n",
       "        0.4789475 , 0.48849171, 0.49803592, 0.50758013, 0.51712434,\n",
       "        0.52666855, 0.53621276, 0.54575697, 0.55530118, 0.56484539,\n",
       "        0.5743896 , 0.58393381, 0.59347802, 0.60302223, 0.61256644,\n",
       "        0.62211065, 0.63165486, 0.64119907, 0.65074328, 0.66028749,\n",
       "        0.6698317 , 0.67937591, 0.68892012, 0.69846433, 0.70800854,\n",
       "        0.71755275, 0.72709696, 0.73664117, 0.74618538, 0.75572959,\n",
       "        0.7652738 , 0.77481801, 0.78436222, 0.79390643, 0.80345064,\n",
       "        0.81299485, 0.82253906, 0.83208327, 0.84162748, 0.85117169,\n",
       "        0.8607159 , 0.87026011, 0.87980432, 0.88934853, 0.89889274,\n",
       "        0.90843695, 0.91798116, 0.92752537, 0.93706958, 0.94661379,\n",
       "        0.956158  ]),\n",
       " <BarContainer object of 100 artists>)"
      ]
     },
     "execution_count": 66,
     "metadata": {},
     "output_type": "execute_result"
    },
    {
     "data": {
      "image/png": "[encoded data removed]",
      "text/plain": [
       "<Figure size 432x288 with 1 Axes>"
      ]
     },
     "metadata": {
      "needs_background": "light"
     },
     "output_type": "display_data"
    }
   ],
   "source": [
    "\n",
    "\n",
    "plt.hist(np.array(targets) * 100, bins=100)"
   ]
  },
  {
   "cell_type": "code",
   "execution_count": 108,
   "metadata": {},
   "outputs": [
    {
     "data": {
      "text/plain": [
       "107274"
      ]
     },
     "execution_count": 108,
     "metadata": {},
     "output_type": "execute_result"
    }
   ],
   "source": [
    "n_multiple"
   ]
  },
  {
   "cell_type": "code",
   "execution_count": 107,
   "metadata": {},
   "outputs": [
    {
     "name": "stderr",
     "output_type": "stream",
     "text": [
      "119020it [24:30, 80.93it/s] \n"
     ]
    },
    {
     "ename": "KeyError",
     "evalue": "'totalconfs'",
     "output_type": "error",
     "traceback": [
      "\u001b[0;31m---------------------------------------------------------------------------\u001b[0m",
      "\u001b[0;31mKeyError\u001b[0m                                  Traceback (most recent call last)",
      "Input \u001b[0;32mIn [107]\u001b[0m, in \u001b[0;36m<cell line: 4>\u001b[0;34m()\u001b[0m\n\u001b[1;32m      5\u001b[0m \u001b[38;5;28;01mwith\u001b[39;00m \u001b[38;5;28mopen\u001b[39m(file, \u001b[38;5;124m\"\u001b[39m\u001b[38;5;124mrb\u001b[39m\u001b[38;5;124m\"\u001b[39m) \u001b[38;5;28;01mas\u001b[39;00m f:\n\u001b[1;32m      6\u001b[0m     data \u001b[38;5;241m=\u001b[39m pickle\u001b[38;5;241m.\u001b[39mload(f)\n\u001b[0;32m----> 7\u001b[0m \u001b[38;5;28;01mif\u001b[39;00m \u001b[43mdata\u001b[49m\u001b[43m[\u001b[49m\u001b[38;5;124;43m\"\u001b[39;49m\u001b[38;5;124;43mtotalconfs\u001b[39;49m\u001b[38;5;124;43m\"\u001b[39;49m\u001b[43m]\u001b[49m \u001b[38;5;241m!=\u001b[39m \u001b[38;5;241m1\u001b[39m:\n\u001b[1;32m      8\u001b[0m     n_multiple \u001b[38;5;241m+\u001b[39m\u001b[38;5;241m=\u001b[39m \u001b[38;5;241m1\u001b[39m\n\u001b[1;32m     10\u001b[0m \u001b[38;5;124;03m'''for conf in data[\"conformers\"]:\u001b[39;00m\n\u001b[1;32m     11\u001b[0m \u001b[38;5;124;03m    y = conf[\"totalenergy\"]\u001b[39;00m\n\u001b[1;32m     12\u001b[0m \u001b[38;5;124;03m    #mol = conf[\"rd_mol\"]\u001b[39;00m\n\u001b[1;32m     13\u001b[0m \u001b[38;5;124;03m    ys.append(y)'''\u001b[39;00m\n",
      "\u001b[0;31mKeyError\u001b[0m: 'totalconfs'"
     ]
    }
   ],
   "source": [
    "n_multiple = 0\n",
    "\n",
    "\n",
    "for file in tqdm(absoluteFilePaths(\"../data/rdkit_folder/qm9\")):\n",
    "    with open(file, \"rb\") as f:\n",
    "        data = pickle.load(f)\n",
    "    if data[\"totalconfs\"] != 1:\n",
    "        n_multiple += 1\n",
    "    \n",
    "    '''for conf in data[\"conformers\"]:\n",
    "        y = conf[\"totalenergy\"]\n",
    "        #mol = conf[\"rd_mol\"]\n",
    "        ys.append(y)'''\n",
    "        \n",
    "\n",
    "for file in tqdm(absoluteFilePaths(\"../data/rdkit_folder/drugs\")):\n",
    "    break\n",
    "    with open(file, \"rb\") as f:\n",
    "        data = pickle.load(f)\n",
    "    if data[\"totalconfs\"] != 1:\n",
    "        n_multiple += 1\n",
    "        \n",
    "    '''for conf in data[\"conformers\"]:\n",
    "        y = conf[\"totalenergy\"]\n",
    "        #mol = conf[\"rd_mol\"]\n",
    "        ys.append(y)'''"
   ]
  },
  {
   "cell_type": "code",
   "execution_count": 14,
   "metadata": {
    "collapsed": true,
    "jupyter": {
     "outputs_hidden": true
    }
   },
   "outputs": [
    {
     "name": "stdout",
     "output_type": "stream",
     "text": [
      "[[ 4.9919 -5.2514  4.0126]\n",
      " [ 6.1051 -3.0257  3.52  ]\n",
      " [ 4.5521 -3.9001  1.914 ]\n",
      " [ 6.3372 -1.9217  2.7029]\n",
      " [ 4.7751 -2.7953  1.0929]\n",
      " [ 2.8586  1.2252 -1.7853]\n",
      " [ 2.8118  0.8707 -3.0956]\n",
      " [ 5.789  -0.835  -0.8455]\n",
      " [ 4.6658 -0.476  -3.0127]\n",
      " [ 5.215  -4.0391  3.1392]\n",
      " [ 5.677  -1.7955  1.4745]\n",
      " [ 4.8499 -0.2104 -1.5946]\n",
      " [ 5.9121 -0.5519  0.613 ]\n",
      " [ 3.9134  0.7241 -0.934 ]\n",
      " [ 5.0405  0.6404  1.1008]\n",
      " [ 3.716   0.0207 -3.7371]\n",
      " [ 3.9796  1.1019  0.3172]\n",
      " [ 5.2985  1.1457  2.1772]]\n"
     ]
    }
   ],
   "source": [
    "from rdkit import Chem\n",
    "\n",
    "suppl = Chem.SDMolSupplier('../data/pcqm4m-v2/pcqm4m-v2-train.sdf')\n",
    "\n",
    "for mol in suppl:\n",
    "    print(mol.GetConformer().GetPositions())\n",
    "    break"
   ]
  },
  {
   "cell_type": "code",
   "execution_count": null,
   "metadata": {},
   "outputs": [
    {
     "name": "stdout",
     "output_type": "stream",
     "text": [
      "Downloading https://dgl-data.s3-accelerate.amazonaws.com/dataset/OGB-LSC/pcqm4m-v2.zip\n"
     ]
    },
    {
     "name": "stderr",
     "output_type": "stream",
     "text": [
      "Downloaded 0.06 GB: 100%|██████████| 60/60 [00:03<00:00, 16.06it/s]\n"
     ]
    },
    {
     "name": "stdout",
     "output_type": "stream",
     "text": [
      "Extracting ../data/pcqm4m-v2.zip\n"
     ]
    },
    {
     "name": "stderr",
     "output_type": "stream",
     "text": [
      "Processing...\n"
     ]
    },
    {
     "name": "stdout",
     "output_type": "stream",
     "text": [
      "Converting SMILES strings into graphs...\n"
     ]
    },
    {
     "name": "stderr",
     "output_type": "stream",
     "text": [
      "  2%|▏         | 89934/3746620 [01:17<48:27, 1257.80it/s]  "
     ]
    }
   ],
   "source": [
    "from ogb.utils import smiles2graph\n",
    "\n",
    "from ogb.lsc import PygPCQM4Mv2Dataset\n",
    "pyg_dataset = PygPCQM4Mv2Dataset(root=\"../data\")"
   ]
  },
  {
   "cell_type": "code",
   "execution_count": null,
   "metadata": {},
   "outputs": [],
   "source": [
    "kfold = KFold(n_splits=5, shuffle=True, random_state=123456789)\n",
    "                for i, (train_idx, val_idx) in enumerate(kfold.split(self.full_data)):\n",
    "                    if i == self.hparams.fold:\n",
    "                        break"
   ]
  },
  {
   "cell_type": "code",
   "execution_count": null,
   "metadata": {},
   "outputs": [],
   "source": [
    "from torch_geometric.data import LightningDataset\n",
    "\n",
    "def get_datamodule(train_data, test_data, fold=0, batch_size=32, num_workers=4):\n",
    "    if type(fold) != str:\n",
    "        \n",
    "    "
   ]
  },
  {
   "cell_type": "code",
   "execution_count": 3,
   "metadata": {},
   "outputs": [],
   "source": [
    "from torch import nn\n",
    "import torch_geometric.nn as gnn\n",
    "\n",
    "\n",
    "class GATNet(nn.Module):\n",
    "    def __init__(\n",
    "        self,\n",
    "        input_dim: int = 15,\n",
    "        gat_hidden_dim: int = 64,\n",
    "        edge_dim: int = 3,\n",
    "        heads: int = 4,\n",
    "        n_gat_layers: int = 3,\n",
    "        n_fc_layers: int = 3,\n",
    "        fc_hidden_dim: int = 256,\n",
    "        fc_dropout: float = 0.5\n",
    "    ):\n",
    "        super().__init__()\n",
    "        self.gat1 = gnn.GATv2Conv(in_channels=input_dim, \n",
    "                                  out_channels=gat_hidden_dim, heads=heads, edge_dim=edge_dim)\n",
    "        self.gat_list = nn.ModuleList([\n",
    "            gnn.GATv2Conv(in_channels=gat_hidden_dim*heads, \n",
    "                          out_channels=gat_hidden_dim, heads=heads, edge_dim=edge_dim)\n",
    "            for _ in range(n_gat_layers - 1)\n",
    "        ])\n",
    "        self.fc1 = nn.Sequential(\n",
    "            nn.Linear(gat_hidden_dim * heads, fc_hidden_dim),\n",
    "            nn.BatchNorm1d(fc_hidden_dim),\n",
    "            nn.ReLU(),\n",
    "            nn.Dropout(fc_dropout)\n",
    "        )\n",
    "        self.fc_list = nn.ModuleList([\n",
    "            nn.Sequential(\n",
    "                nn.Linear(fc_hidden_dim, fc_hidden_dim),\n",
    "                nn.BatchNorm1d(fc_hidden_dim),\n",
    "                nn.ReLU(),\n",
    "                nn.Dropout(fc_dropout)\n",
    "            ) for _ in range(n_fc_layers - 2)\n",
    "        ])\n",
    "        self.do = nn.Dropout(fc_dropout)\n",
    "        self.fc_last = nn.Linear(fc_hidden_dim, 2)\n",
    "\n",
    "    def forward(self, x, edge_index, edge_attr, batch):\n",
    "        x = F.relu(self.gat1(x, edge_index, edge_attr))\n",
    "        \n",
    "        for gat_layer in self.gat_list:\n",
    "            x = gat_layer(x, edge_index, edge_attr)\n",
    "            x = F.relu(x)\n",
    "            \n",
    "        x = gnn.global_mean_pool(x, batch)\n",
    "        x = self.fc1(x)\n",
    "        \n",
    "        for fc_layer in self.fc_list:\n",
    "            x = fc_layer(x)\n",
    "            \n",
    "        x = self.fc_last(x)\n",
    "        \n",
    "        return x"
   ]
  },
  {
   "cell_type": "code",
   "execution_count": 18,
   "metadata": {},
   "outputs": [
    {
     "name": "stderr",
     "output_type": "stream",
     "text": [
      "GPU available: True (cuda), used: True\n",
      "TPU available: False, using: 0 TPU cores\n",
      "IPU available: False, using: 0 IPUs\n",
      "HPU available: False, using: 0 HPUs\n",
      "LOCAL_RANK: 0 - CUDA_VISIBLE_DEVICES: [0,1,2]\n",
      "\n",
      "  | Name          | Type             | Params\n",
      "---------------------------------------------------\n",
      "0 | net           | GATNet           | 408 K \n",
      "1 | criterion     | MSELoss          | 0     \n",
      "2 | train_rmse    | MeanSquaredError | 0     \n",
      "3 | val_rmse      | MeanSquaredError | 0     \n",
      "4 | val_rmse_best | MinMetric        | 0     \n",
      "---------------------------------------------------\n",
      "408 K     Trainable params\n",
      "0         Non-trainable params\n",
      "408 K     Total params\n",
      "1.633     Total estimated model params size (MB)\n"
     ]
    },
    {
     "name": "stdout",
     "output_type": "stream",
     "text": [
      "Epoch 0:  80%|███████▉  | 453/567 [00:15<00:03, 28.99it/s, loss=0.129, v_num=4]\n",
      "Validation: 0it [00:00, ?it/s]\u001b[A\n",
      "Validation:   0%|          | 0/114 [00:00<?, ?it/s]\u001b[A\n",
      "Validation DataLoader 0:   0%|          | 0/114 [00:00<?, ?it/s]\u001b[A\n",
      "Epoch 0:  80%|████████  | 454/567 [00:16<00:03, 28.32it/s, loss=0.129, v_num=4]\n",
      "Epoch 0:  80%|████████  | 455/567 [00:16<00:03, 28.34it/s, loss=0.129, v_num=4]\n",
      "Epoch 0:  80%|████████  | 456/567 [00:16<00:03, 28.32it/s, loss=0.129, v_num=4]\n",
      "Epoch 0:  81%|████████  | 457/567 [00:16<00:03, 28.34it/s, loss=0.129, v_num=4]\n",
      "Epoch 0:  81%|████████  | 458/567 [00:16<00:03, 28.36it/s, loss=0.129, v_num=4]\n",
      "Epoch 0:  81%|████████  | 459/567 [00:16<00:03, 28.38it/s, loss=0.129, v_num=4]\n",
      "Epoch 0:  81%|████████  | 460/567 [00:16<00:03, 28.41it/s, loss=0.129, v_num=4]\n",
      "Epoch 0:  81%|████████▏ | 461/567 [00:16<00:03, 28.43it/s, loss=0.129, v_num=4]\n",
      "Epoch 0:  81%|████████▏ | 462/567 [00:16<00:03, 28.44it/s, loss=0.129, v_num=4]\n",
      "Epoch 0:  82%|████████▏ | 463/567 [00:16<00:03, 28.46it/s, loss=0.129, v_num=4]\n",
      "Epoch 0:  82%|████████▏ | 464/567 [00:16<00:03, 28.49it/s, loss=0.129, v_num=4]\n",
      "Epoch 0:  82%|████████▏ | 465/567 [00:16<00:03, 28.51it/s, loss=0.129, v_num=4]\n",
      "Epoch 0:  82%|████████▏ | 466/567 [00:16<00:03, 28.53it/s, loss=0.129, v_num=4]\n",
      "Epoch 0:  82%|████████▏ | 467/567 [00:16<00:03, 28.55it/s, loss=0.129, v_num=4]\n",
      "Epoch 0:  83%|████████▎ | 468/567 [00:16<00:03, 28.57it/s, loss=0.129, v_num=4]\n",
      "Epoch 0:  83%|████████▎ | 469/567 [00:16<00:03, 28.61it/s, loss=0.129, v_num=4]\n",
      "Epoch 0:  83%|████████▎ | 470/567 [00:16<00:03, 28.64it/s, loss=0.129, v_num=4]\n",
      "Epoch 0:  83%|████████▎ | 471/567 [00:16<00:03, 28.66it/s, loss=0.129, v_num=4]\n",
      "Epoch 0:  83%|████████▎ | 472/567 [00:16<00:03, 28.68it/s, loss=0.129, v_num=4]\n",
      "Epoch 0:  83%|████████▎ | 473/567 [00:16<00:03, 28.70it/s, loss=0.129, v_num=4]\n",
      "Epoch 0:  84%|████████▎ | 474/567 [00:16<00:03, 28.73it/s, loss=0.129, v_num=4]\n",
      "Epoch 0:  84%|████████▍ | 475/567 [00:16<00:03, 28.75it/s, loss=0.129, v_num=4]\n",
      "Epoch 0:  84%|████████▍ | 476/567 [00:16<00:03, 28.77it/s, loss=0.129, v_num=4]\n",
      "Epoch 0:  84%|████████▍ | 477/567 [00:16<00:03, 28.80it/s, loss=0.129, v_num=4]\n",
      "Epoch 0:  84%|████████▍ | 478/567 [00:16<00:03, 28.81it/s, loss=0.129, v_num=4]\n",
      "Epoch 0:  84%|████████▍ | 479/567 [00:16<00:03, 28.84it/s, loss=0.129, v_num=4]\n",
      "Epoch 0:  85%|████████▍ | 480/567 [00:16<00:03, 28.87it/s, loss=0.129, v_num=4]\n",
      "Epoch 0:  85%|████████▍ | 481/567 [00:16<00:02, 28.89it/s, loss=0.129, v_num=4]\n",
      "Epoch 0:  85%|████████▌ | 482/567 [00:16<00:02, 28.92it/s, loss=0.129, v_num=4]\n",
      "Epoch 0:  85%|████████▌ | 483/567 [00:16<00:02, 28.95it/s, loss=0.129, v_num=4]\n",
      "Epoch 0:  85%|████████▌ | 484/567 [00:16<00:02, 28.98it/s, loss=0.129, v_num=4]\n",
      "Epoch 0:  86%|████████▌ | 485/567 [00:16<00:02, 29.01it/s, loss=0.129, v_num=4]\n",
      "Epoch 0:  86%|████████▌ | 486/567 [00:16<00:02, 29.04it/s, loss=0.129, v_num=4]\n",
      "Epoch 0:  86%|████████▌ | 487/567 [00:16<00:02, 29.07it/s, loss=0.129, v_num=4]\n",
      "Epoch 0:  86%|████████▌ | 488/567 [00:16<00:02, 29.09it/s, loss=0.129, v_num=4]\n",
      "Epoch 0:  86%|████████▌ | 489/567 [00:16<00:02, 29.12it/s, loss=0.129, v_num=4]\n",
      "Epoch 0:  86%|████████▋ | 490/567 [00:16<00:02, 29.15it/s, loss=0.129, v_num=4]\n",
      "Epoch 0:  87%|████████▋ | 491/567 [00:16<00:02, 29.17it/s, loss=0.129, v_num=4]\n",
      "Epoch 0:  87%|████████▋ | 492/567 [00:16<00:02, 29.18it/s, loss=0.129, v_num=4]\n",
      "Epoch 0:  87%|████████▋ | 493/567 [00:16<00:02, 29.20it/s, loss=0.129, v_num=4]\n",
      "Epoch 0:  87%|████████▋ | 494/567 [00:16<00:02, 29.23it/s, loss=0.129, v_num=4]\n",
      "Epoch 0:  87%|████████▋ | 495/567 [00:16<00:02, 29.24it/s, loss=0.129, v_num=4]\n",
      "Epoch 0:  87%|████████▋ | 496/567 [00:16<00:02, 29.27it/s, loss=0.129, v_num=4]\n",
      "Epoch 0:  88%|████████▊ | 497/567 [00:16<00:02, 29.29it/s, loss=0.129, v_num=4]\n",
      "Epoch 0:  88%|████████▊ | 498/567 [00:16<00:02, 29.32it/s, loss=0.129, v_num=4]\n",
      "Epoch 0:  88%|████████▊ | 499/567 [00:17<00:02, 29.34it/s, loss=0.129, v_num=4]\n",
      "Epoch 0:  88%|████████▊ | 500/567 [00:17<00:02, 29.37it/s, loss=0.129, v_num=4]\n",
      "Epoch 0:  88%|████████▊ | 501/567 [00:17<00:02, 29.40it/s, loss=0.129, v_num=4]\n",
      "Epoch 0:  89%|████████▊ | 502/567 [00:17<00:02, 29.40it/s, loss=0.129, v_num=4]\n",
      "Epoch 0:  89%|████████▊ | 503/567 [00:17<00:02, 29.43it/s, loss=0.129, v_num=4]\n",
      "Epoch 0:  89%|████████▉ | 504/567 [00:17<00:02, 29.47it/s, loss=0.129, v_num=4]\n",
      "Epoch 0:  89%|████████▉ | 505/567 [00:17<00:02, 29.50it/s, loss=0.129, v_num=4]\n",
      "Epoch 0:  89%|████████▉ | 506/567 [00:17<00:02, 29.53it/s, loss=0.129, v_num=4]\n",
      "Epoch 0:  89%|████████▉ | 507/567 [00:17<00:02, 29.57it/s, loss=0.129, v_num=4]\n",
      "Epoch 0:  90%|████████▉ | 508/567 [00:17<00:01, 29.60it/s, loss=0.129, v_num=4]\n",
      "Epoch 0:  90%|████████▉ | 509/567 [00:17<00:01, 29.64it/s, loss=0.129, v_num=4]\n",
      "Epoch 0:  90%|████████▉ | 510/567 [00:17<00:01, 29.67it/s, loss=0.129, v_num=4]\n",
      "Epoch 0:  90%|█████████ | 511/567 [00:17<00:01, 29.70it/s, loss=0.129, v_num=4]\n",
      "Epoch 0:  90%|█████████ | 512/567 [00:17<00:01, 29.73it/s, loss=0.129, v_num=4]\n",
      "Epoch 0:  90%|█████████ | 513/567 [00:17<00:01, 29.76it/s, loss=0.129, v_num=4]\n",
      "Epoch 0:  91%|█████████ | 514/567 [00:17<00:01, 29.79it/s, loss=0.129, v_num=4]\n",
      "Epoch 0:  91%|█████████ | 515/567 [00:17<00:01, 29.82it/s, loss=0.129, v_num=4]\n",
      "Epoch 0:  91%|█████████ | 516/567 [00:17<00:01, 29.85it/s, loss=0.129, v_num=4]\n",
      "Epoch 0:  91%|█████████ | 517/567 [00:17<00:01, 29.87it/s, loss=0.129, v_num=4]\n",
      "Epoch 0:  91%|█████████▏| 518/567 [00:17<00:01, 29.90it/s, loss=0.129, v_num=4]\n",
      "Epoch 0:  92%|█████████▏| 519/567 [00:17<00:01, 29.92it/s, loss=0.129, v_num=4]\n",
      "Epoch 0:  92%|█████████▏| 520/567 [00:17<00:01, 29.94it/s, loss=0.129, v_num=4]\n",
      "Epoch 0:  92%|█████████▏| 521/567 [00:17<00:01, 29.96it/s, loss=0.129, v_num=4]\n",
      "Epoch 0:  92%|█████████▏| 522/567 [00:17<00:01, 29.98it/s, loss=0.129, v_num=4]\n",
      "Epoch 0:  92%|█████████▏| 523/567 [00:17<00:01, 30.00it/s, loss=0.129, v_num=4]\n",
      "Epoch 0:  92%|█████████▏| 524/567 [00:17<00:01, 30.03it/s, loss=0.129, v_num=4]\n",
      "Epoch 0:  93%|█████████▎| 525/567 [00:17<00:01, 30.05it/s, loss=0.129, v_num=4]\n",
      "Epoch 0:  93%|█████████▎| 526/567 [00:17<00:01, 30.06it/s, loss=0.129, v_num=4]\n",
      "Epoch 0:  93%|█████████▎| 527/567 [00:17<00:01, 30.07it/s, loss=0.129, v_num=4]\n",
      "Epoch 0:  93%|█████████▎| 528/567 [00:17<00:01, 30.09it/s, loss=0.129, v_num=4]\n",
      "Epoch 0:  93%|█████████▎| 529/567 [00:17<00:01, 30.11it/s, loss=0.129, v_num=4]\n",
      "Epoch 0:  93%|█████████▎| 530/567 [00:17<00:01, 30.13it/s, loss=0.129, v_num=4]\n",
      "Epoch 0:  94%|█████████▎| 531/567 [00:17<00:01, 30.15it/s, loss=0.129, v_num=4]\n",
      "Epoch 0:  94%|█████████▍| 532/567 [00:17<00:01, 30.18it/s, loss=0.129, v_num=4]\n",
      "Epoch 0:  94%|█████████▍| 533/567 [00:17<00:01, 30.19it/s, loss=0.129, v_num=4]\n",
      "Epoch 0:  94%|█████████▍| 534/567 [00:17<00:01, 30.19it/s, loss=0.129, v_num=4]\n",
      "Epoch 0:  94%|█████████▍| 535/567 [00:17<00:01, 30.21it/s, loss=0.129, v_num=4]\n",
      "Epoch 0:  95%|█████████▍| 536/567 [00:17<00:01, 30.23it/s, loss=0.129, v_num=4]\n",
      "Epoch 0:  95%|█████████▍| 537/567 [00:17<00:00, 30.26it/s, loss=0.129, v_num=4]\n",
      "Epoch 0:  95%|█████████▍| 538/567 [00:17<00:00, 30.28it/s, loss=0.129, v_num=4]\n",
      "Epoch 0:  95%|█████████▌| 539/567 [00:17<00:00, 30.29it/s, loss=0.129, v_num=4]\n",
      "Epoch 0:  95%|█████████▌| 540/567 [00:17<00:00, 30.31it/s, loss=0.129, v_num=4]\n",
      "Epoch 0:  95%|█████████▌| 541/567 [00:17<00:00, 30.34it/s, loss=0.129, v_num=4]\n",
      "Epoch 0:  96%|█████████▌| 542/567 [00:17<00:00, 30.36it/s, loss=0.129, v_num=4]\n",
      "Epoch 0:  96%|█████████▌| 543/567 [00:17<00:00, 30.39it/s, loss=0.129, v_num=4]\n",
      "Epoch 0:  96%|█████████▌| 544/567 [00:17<00:00, 30.42it/s, loss=0.129, v_num=4]\n",
      "Epoch 0:  96%|█████████▌| 545/567 [00:17<00:00, 30.44it/s, loss=0.129, v_num=4]\n",
      "Epoch 0:  96%|█████████▋| 546/567 [00:17<00:00, 30.46it/s, loss=0.129, v_num=4]\n",
      "Epoch 0:  96%|█████████▋| 547/567 [00:17<00:00, 30.49it/s, loss=0.129, v_num=4]\n",
      "Epoch 0:  97%|█████████▋| 548/567 [00:17<00:00, 30.52it/s, loss=0.129, v_num=4]\n",
      "Epoch 0:  97%|█████████▋| 549/567 [00:17<00:00, 30.54it/s, loss=0.129, v_num=4]\n",
      "Epoch 0:  97%|█████████▋| 550/567 [00:17<00:00, 30.56it/s, loss=0.129, v_num=4]\n",
      "Epoch 0:  97%|█████████▋| 551/567 [00:18<00:00, 30.57it/s, loss=0.129, v_num=4]\n",
      "Epoch 0:  97%|█████████▋| 552/567 [00:18<00:00, 30.58it/s, loss=0.129, v_num=4]\n",
      "Epoch 0:  98%|█████████▊| 553/567 [00:18<00:00, 30.61it/s, loss=0.129, v_num=4]\n",
      "Epoch 0:  98%|█████████▊| 554/567 [00:18<00:00, 30.63it/s, loss=0.129, v_num=4]\n",
      "Epoch 0:  98%|█████████▊| 555/567 [00:18<00:00, 30.66it/s, loss=0.129, v_num=4]\n",
      "Epoch 0:  98%|█████████▊| 556/567 [00:18<00:00, 30.68it/s, loss=0.129, v_num=4]\n",
      "Epoch 0:  98%|█████████▊| 557/567 [00:18<00:00, 30.70it/s, loss=0.129, v_num=4]\n",
      "Epoch 0:  98%|█████████▊| 558/567 [00:18<00:00, 30.73it/s, loss=0.129, v_num=4]\n",
      "Epoch 0:  99%|█████████▊| 559/567 [00:18<00:00, 30.74it/s, loss=0.129, v_num=4]\n",
      "Epoch 0:  99%|█████████▉| 560/567 [00:18<00:00, 30.77it/s, loss=0.129, v_num=4]\n",
      "Epoch 0:  99%|█████████▉| 561/567 [00:18<00:00, 30.80it/s, loss=0.129, v_num=4]\n",
      "Epoch 0:  99%|█████████▉| 562/567 [00:18<00:00, 30.83it/s, loss=0.129, v_num=4]\n",
      "Epoch 0:  99%|█████████▉| 563/567 [00:18<00:00, 30.86it/s, loss=0.129, v_num=4]\n",
      "Epoch 0:  99%|█████████▉| 564/567 [00:18<00:00, 30.90it/s, loss=0.129, v_num=4]\n",
      "Epoch 0: 100%|█████████▉| 565/567 [00:18<00:00, 30.94it/s, loss=0.129, v_num=4]\n",
      "Epoch 0: 100%|█████████▉| 566/567 [00:18<00:00, 30.97it/s, loss=0.129, v_num=4]\n",
      "Epoch 0: 100%|██████████| 567/567 [00:18<00:00, 30.99it/s, loss=0.129, v_num=4, val/rmse=0.365, val/rmse_best=0.365]\n",
      "Epoch 1:  80%|███████▉  | 453/567 [00:15<00:03, 29.75it/s, loss=0.117, v_num=4, val/rmse=0.365, val/rmse_best=0.365]\n",
      "Validation: 0it [00:00, ?it/s]\u001b[A\n",
      "Validation:   0%|          | 0/114 [00:00<?, ?it/s]\u001b[A\n",
      "Validation DataLoader 0:   0%|          | 0/114 [00:00<?, ?it/s]\u001b[A\n",
      "Epoch 1:  80%|████████  | 454/567 [00:15<00:03, 29.05it/s, loss=0.117, v_num=4, val/rmse=0.365, val/rmse_best=0.365]\n",
      "Epoch 1:  80%|████████  | 455/567 [00:15<00:03, 29.08it/s, loss=0.117, v_num=4, val/rmse=0.365, val/rmse_best=0.365]\n",
      "Epoch 1:  80%|████████  | 456/567 [00:15<00:03, 29.08it/s, loss=0.117, v_num=4, val/rmse=0.365, val/rmse_best=0.365]\n",
      "Epoch 1:  81%|████████  | 457/567 [00:15<00:03, 29.08it/s, loss=0.117, v_num=4, val/rmse=0.365, val/rmse_best=0.365]\n",
      "Epoch 1:  81%|████████  | 458/567 [00:15<00:03, 29.10it/s, loss=0.117, v_num=4, val/rmse=0.365, val/rmse_best=0.365]\n",
      "Epoch 1:  81%|████████  | 459/567 [00:15<00:03, 29.12it/s, loss=0.117, v_num=4, val/rmse=0.365, val/rmse_best=0.365]\n",
      "Epoch 1:  81%|████████  | 460/567 [00:15<00:03, 29.14it/s, loss=0.117, v_num=4, val/rmse=0.365, val/rmse_best=0.365]\n",
      "Epoch 1:  81%|████████▏ | 461/567 [00:15<00:03, 29.16it/s, loss=0.117, v_num=4, val/rmse=0.365, val/rmse_best=0.365]\n",
      "Epoch 1:  81%|████████▏ | 462/567 [00:15<00:03, 29.18it/s, loss=0.117, v_num=4, val/rmse=0.365, val/rmse_best=0.365]\n",
      "Epoch 1:  82%|████████▏ | 463/567 [00:15<00:03, 29.20it/s, loss=0.117, v_num=4, val/rmse=0.365, val/rmse_best=0.365]\n",
      "Epoch 1:  82%|████████▏ | 464/567 [00:15<00:03, 29.23it/s, loss=0.117, v_num=4, val/rmse=0.365, val/rmse_best=0.365]\n",
      "Epoch 1:  82%|████████▏ | 465/567 [00:15<00:03, 29.25it/s, loss=0.117, v_num=4, val/rmse=0.365, val/rmse_best=0.365]\n",
      "Epoch 1:  82%|████████▏ | 466/567 [00:15<00:03, 29.28it/s, loss=0.117, v_num=4, val/rmse=0.365, val/rmse_best=0.365]\n",
      "Epoch 1:  82%|████████▏ | 467/567 [00:15<00:03, 29.32it/s, loss=0.117, v_num=4, val/rmse=0.365, val/rmse_best=0.365]\n",
      "Epoch 1:  83%|████████▎ | 468/567 [00:15<00:03, 29.35it/s, loss=0.117, v_num=4, val/rmse=0.365, val/rmse_best=0.365]\n",
      "Epoch 1:  83%|████████▎ | 469/567 [00:15<00:03, 29.37it/s, loss=0.117, v_num=4, val/rmse=0.365, val/rmse_best=0.365]\n",
      "Epoch 1:  83%|████████▎ | 470/567 [00:15<00:03, 29.39it/s, loss=0.117, v_num=4, val/rmse=0.365, val/rmse_best=0.365]\n",
      "Epoch 1:  83%|████████▎ | 471/567 [00:16<00:03, 29.42it/s, loss=0.117, v_num=4, val/rmse=0.365, val/rmse_best=0.365]\n",
      "Epoch 1:  83%|████████▎ | 472/567 [00:16<00:03, 29.45it/s, loss=0.117, v_num=4, val/rmse=0.365, val/rmse_best=0.365]\n",
      "Epoch 1:  83%|████████▎ | 473/567 [00:16<00:03, 29.46it/s, loss=0.117, v_num=4, val/rmse=0.365, val/rmse_best=0.365]\n",
      "Epoch 1:  84%|████████▎ | 474/567 [00:16<00:03, 29.50it/s, loss=0.117, v_num=4, val/rmse=0.365, val/rmse_best=0.365]\n",
      "Epoch 1:  84%|████████▍ | 475/567 [00:16<00:03, 29.53it/s, loss=0.117, v_num=4, val/rmse=0.365, val/rmse_best=0.365]\n",
      "Epoch 1:  84%|████████▍ | 476/567 [00:16<00:03, 29.55it/s, loss=0.117, v_num=4, val/rmse=0.365, val/rmse_best=0.365]\n",
      "Epoch 1:  84%|████████▍ | 477/567 [00:16<00:03, 29.57it/s, loss=0.117, v_num=4, val/rmse=0.365, val/rmse_best=0.365]\n",
      "Epoch 1:  84%|████████▍ | 478/567 [00:16<00:03, 29.58it/s, loss=0.117, v_num=4, val/rmse=0.365, val/rmse_best=0.365]\n",
      "Epoch 1:  84%|████████▍ | 479/567 [00:16<00:02, 29.60it/s, loss=0.117, v_num=4, val/rmse=0.365, val/rmse_best=0.365]\n",
      "Epoch 1:  85%|████████▍ | 480/567 [00:16<00:02, 29.62it/s, loss=0.117, v_num=4, val/rmse=0.365, val/rmse_best=0.365]\n",
      "Epoch 1:  85%|████████▍ | 481/567 [00:16<00:02, 29.64it/s, loss=0.117, v_num=4, val/rmse=0.365, val/rmse_best=0.365]\n",
      "Epoch 1:  85%|████████▌ | 482/567 [00:16<00:02, 29.67it/s, loss=0.117, v_num=4, val/rmse=0.365, val/rmse_best=0.365]\n",
      "Epoch 1:  85%|████████▌ | 483/567 [00:16<00:02, 29.70it/s, loss=0.117, v_num=4, val/rmse=0.365, val/rmse_best=0.365]\n",
      "Epoch 1:  85%|████████▌ | 484/567 [00:16<00:02, 29.73it/s, loss=0.117, v_num=4, val/rmse=0.365, val/rmse_best=0.365]\n",
      "Epoch 1:  86%|████████▌ | 485/567 [00:16<00:02, 29.75it/s, loss=0.117, v_num=4, val/rmse=0.365, val/rmse_best=0.365]\n",
      "Epoch 1:  86%|████████▌ | 486/567 [00:16<00:02, 29.77it/s, loss=0.117, v_num=4, val/rmse=0.365, val/rmse_best=0.365]\n",
      "Epoch 1:  86%|████████▌ | 487/567 [00:16<00:02, 29.80it/s, loss=0.117, v_num=4, val/rmse=0.365, val/rmse_best=0.365]\n",
      "Epoch 1:  86%|████████▌ | 488/567 [00:16<00:02, 29.81it/s, loss=0.117, v_num=4, val/rmse=0.365, val/rmse_best=0.365]\n",
      "Epoch 1:  86%|████████▌ | 489/567 [00:16<00:02, 29.83it/s, loss=0.117, v_num=4, val/rmse=0.365, val/rmse_best=0.365]\n",
      "Epoch 1:  86%|████████▋ | 490/567 [00:16<00:02, 29.85it/s, loss=0.117, v_num=4, val/rmse=0.365, val/rmse_best=0.365]\n",
      "Epoch 1:  87%|████████▋ | 491/567 [00:16<00:02, 29.86it/s, loss=0.117, v_num=4, val/rmse=0.365, val/rmse_best=0.365]\n",
      "Epoch 1:  87%|████████▋ | 492/567 [00:16<00:02, 29.89it/s, loss=0.117, v_num=4, val/rmse=0.365, val/rmse_best=0.365]\n",
      "Epoch 1:  87%|████████▋ | 493/567 [00:16<00:02, 29.91it/s, loss=0.117, v_num=4, val/rmse=0.365, val/rmse_best=0.365]\n",
      "Epoch 1:  87%|████████▋ | 494/567 [00:16<00:02, 29.93it/s, loss=0.117, v_num=4, val/rmse=0.365, val/rmse_best=0.365]\n",
      "Epoch 1:  87%|████████▋ | 495/567 [00:16<00:02, 29.96it/s, loss=0.117, v_num=4, val/rmse=0.365, val/rmse_best=0.365]\n",
      "Epoch 1:  87%|████████▋ | 496/567 [00:16<00:02, 29.98it/s, loss=0.117, v_num=4, val/rmse=0.365, val/rmse_best=0.365]\n",
      "Epoch 1:  88%|████████▊ | 497/567 [00:16<00:02, 29.99it/s, loss=0.117, v_num=4, val/rmse=0.365, val/rmse_best=0.365]\n",
      "Epoch 1:  88%|████████▊ | 498/567 [00:16<00:02, 30.02it/s, loss=0.117, v_num=4, val/rmse=0.365, val/rmse_best=0.365]\n",
      "Epoch 1:  88%|████████▊ | 499/567 [00:16<00:02, 30.05it/s, loss=0.117, v_num=4, val/rmse=0.365, val/rmse_best=0.365]\n",
      "Epoch 1:  88%|████████▊ | 500/567 [00:16<00:02, 30.07it/s, loss=0.117, v_num=4, val/rmse=0.365, val/rmse_best=0.365]\n",
      "Epoch 1:  88%|████████▊ | 501/567 [00:16<00:02, 30.08it/s, loss=0.117, v_num=4, val/rmse=0.365, val/rmse_best=0.365]\n",
      "Epoch 1:  89%|████████▊ | 502/567 [00:16<00:02, 30.12it/s, loss=0.117, v_num=4, val/rmse=0.365, val/rmse_best=0.365]\n",
      "Epoch 1:  89%|████████▊ | 503/567 [00:16<00:02, 30.15it/s, loss=0.117, v_num=4, val/rmse=0.365, val/rmse_best=0.365]\n",
      "Epoch 1:  89%|████████▉ | 504/567 [00:16<00:02, 30.17it/s, loss=0.117, v_num=4, val/rmse=0.365, val/rmse_best=0.365]\n",
      "Epoch 1:  89%|████████▉ | 505/567 [00:16<00:02, 30.20it/s, loss=0.117, v_num=4, val/rmse=0.365, val/rmse_best=0.365]\n",
      "Epoch 1:  89%|████████▉ | 506/567 [00:16<00:02, 30.21it/s, loss=0.117, v_num=4, val/rmse=0.365, val/rmse_best=0.365]\n",
      "Epoch 1:  89%|████████▉ | 507/567 [00:16<00:01, 30.23it/s, loss=0.117, v_num=4, val/rmse=0.365, val/rmse_best=0.365]\n",
      "Epoch 1:  90%|████████▉ | 508/567 [00:16<00:01, 30.25it/s, loss=0.117, v_num=4, val/rmse=0.365, val/rmse_best=0.365]\n",
      "Epoch 1:  90%|████████▉ | 509/567 [00:16<00:01, 30.26it/s, loss=0.117, v_num=4, val/rmse=0.365, val/rmse_best=0.365]\n",
      "Epoch 1:  90%|████████▉ | 510/567 [00:16<00:01, 30.29it/s, loss=0.117, v_num=4, val/rmse=0.365, val/rmse_best=0.365]\n",
      "Epoch 1:  90%|█████████ | 511/567 [00:16<00:01, 30.30it/s, loss=0.117, v_num=4, val/rmse=0.365, val/rmse_best=0.365]\n",
      "Epoch 1:  90%|█████████ | 512/567 [00:16<00:01, 30.33it/s, loss=0.117, v_num=4, val/rmse=0.365, val/rmse_best=0.365]\n",
      "Epoch 1:  90%|█████████ | 513/567 [00:16<00:01, 30.36it/s, loss=0.117, v_num=4, val/rmse=0.365, val/rmse_best=0.365]\n",
      "Epoch 1:  91%|█████████ | 514/567 [00:16<00:01, 30.37it/s, loss=0.117, v_num=4, val/rmse=0.365, val/rmse_best=0.365]\n",
      "Epoch 1:  91%|█████████ | 515/567 [00:16<00:01, 30.39it/s, loss=0.117, v_num=4, val/rmse=0.365, val/rmse_best=0.365]\n",
      "Epoch 1:  91%|█████████ | 516/567 [00:16<00:01, 30.42it/s, loss=0.117, v_num=4, val/rmse=0.365, val/rmse_best=0.365]\n",
      "Epoch 1:  91%|█████████ | 517/567 [00:16<00:01, 30.45it/s, loss=0.117, v_num=4, val/rmse=0.365, val/rmse_best=0.365]\n",
      "Epoch 1:  91%|█████████▏| 518/567 [00:17<00:01, 30.47it/s, loss=0.117, v_num=4, val/rmse=0.365, val/rmse_best=0.365]\n",
      "Epoch 1:  92%|█████████▏| 519/567 [00:17<00:01, 30.50it/s, loss=0.117, v_num=4, val/rmse=0.365, val/rmse_best=0.365]\n",
      "Epoch 1:  92%|█████████▏| 520/567 [00:17<00:01, 30.52it/s, loss=0.117, v_num=4, val/rmse=0.365, val/rmse_best=0.365]\n",
      "Epoch 1:  92%|█████████▏| 521/567 [00:17<00:01, 30.55it/s, loss=0.117, v_num=4, val/rmse=0.365, val/rmse_best=0.365]\n",
      "Epoch 1:  92%|█████████▏| 522/567 [00:17<00:01, 30.56it/s, loss=0.117, v_num=4, val/rmse=0.365, val/rmse_best=0.365]\n",
      "Epoch 1:  92%|█████████▏| 523/567 [00:17<00:01, 30.59it/s, loss=0.117, v_num=4, val/rmse=0.365, val/rmse_best=0.365]\n",
      "Epoch 1:  92%|█████████▏| 524/567 [00:17<00:01, 30.61it/s, loss=0.117, v_num=4, val/rmse=0.365, val/rmse_best=0.365]\n",
      "Epoch 1:  93%|█████████▎| 525/567 [00:17<00:01, 30.64it/s, loss=0.117, v_num=4, val/rmse=0.365, val/rmse_best=0.365]\n",
      "Epoch 1:  93%|█████████▎| 526/567 [00:17<00:01, 30.67it/s, loss=0.117, v_num=4, val/rmse=0.365, val/rmse_best=0.365]\n",
      "Epoch 1:  93%|█████████▎| 527/567 [00:17<00:01, 30.69it/s, loss=0.117, v_num=4, val/rmse=0.365, val/rmse_best=0.365]\n",
      "Epoch 1:  93%|█████████▎| 528/567 [00:17<00:01, 30.71it/s, loss=0.117, v_num=4, val/rmse=0.365, val/rmse_best=0.365]\n",
      "Epoch 1:  93%|█████████▎| 529/567 [00:17<00:01, 30.72it/s, loss=0.117, v_num=4, val/rmse=0.365, val/rmse_best=0.365]\n",
      "Epoch 1:  93%|█████████▎| 530/567 [00:17<00:01, 30.74it/s, loss=0.117, v_num=4, val/rmse=0.365, val/rmse_best=0.365]\n",
      "Epoch 1:  94%|█████████▎| 531/567 [00:17<00:01, 30.76it/s, loss=0.117, v_num=4, val/rmse=0.365, val/rmse_best=0.365]\n",
      "Epoch 1:  94%|█████████▍| 532/567 [00:17<00:01, 30.78it/s, loss=0.117, v_num=4, val/rmse=0.365, val/rmse_best=0.365]\n",
      "Epoch 1:  94%|█████████▍| 533/567 [00:17<00:01, 30.78it/s, loss=0.117, v_num=4, val/rmse=0.365, val/rmse_best=0.365]\n",
      "Epoch 1:  94%|█████████▍| 534/567 [00:17<00:01, 30.81it/s, loss=0.117, v_num=4, val/rmse=0.365, val/rmse_best=0.365]\n",
      "Epoch 1:  94%|█████████▍| 535/567 [00:17<00:01, 30.83it/s, loss=0.117, v_num=4, val/rmse=0.365, val/rmse_best=0.365]\n",
      "Epoch 1:  95%|█████████▍| 536/567 [00:17<00:01, 30.84it/s, loss=0.117, v_num=4, val/rmse=0.365, val/rmse_best=0.365]\n",
      "Epoch 1:  95%|█████████▍| 537/567 [00:17<00:00, 30.86it/s, loss=0.117, v_num=4, val/rmse=0.365, val/rmse_best=0.365]\n",
      "Epoch 1:  95%|█████████▍| 538/567 [00:17<00:00, 30.88it/s, loss=0.117, v_num=4, val/rmse=0.365, val/rmse_best=0.365]\n",
      "Epoch 1:  95%|█████████▌| 539/567 [00:17<00:00, 30.90it/s, loss=0.117, v_num=4, val/rmse=0.365, val/rmse_best=0.365]\n",
      "Epoch 1:  95%|█████████▌| 540/567 [00:17<00:00, 30.93it/s, loss=0.117, v_num=4, val/rmse=0.365, val/rmse_best=0.365]\n",
      "Epoch 1:  95%|█████████▌| 541/567 [00:17<00:00, 30.96it/s, loss=0.117, v_num=4, val/rmse=0.365, val/rmse_best=0.365]\n",
      "Epoch 1:  96%|█████████▌| 542/567 [00:17<00:00, 30.98it/s, loss=0.117, v_num=4, val/rmse=0.365, val/rmse_best=0.365]\n",
      "Epoch 1:  96%|█████████▌| 543/567 [00:17<00:00, 31.01it/s, loss=0.117, v_num=4, val/rmse=0.365, val/rmse_best=0.365]\n",
      "Epoch 1:  96%|█████████▌| 544/567 [00:17<00:00, 31.03it/s, loss=0.117, v_num=4, val/rmse=0.365, val/rmse_best=0.365]\n",
      "Epoch 1:  96%|█████████▌| 545/567 [00:17<00:00, 31.03it/s, loss=0.117, v_num=4, val/rmse=0.365, val/rmse_best=0.365]\n",
      "Epoch 1:  96%|█████████▋| 546/567 [00:17<00:00, 31.05it/s, loss=0.117, v_num=4, val/rmse=0.365, val/rmse_best=0.365]\n",
      "Epoch 1:  96%|█████████▋| 547/567 [00:17<00:00, 31.08it/s, loss=0.117, v_num=4, val/rmse=0.365, val/rmse_best=0.365]\n",
      "Epoch 1:  97%|█████████▋| 548/567 [00:17<00:00, 31.10it/s, loss=0.117, v_num=4, val/rmse=0.365, val/rmse_best=0.365]\n",
      "Epoch 1:  97%|█████████▋| 549/567 [00:17<00:00, 31.13it/s, loss=0.117, v_num=4, val/rmse=0.365, val/rmse_best=0.365]\n",
      "Epoch 1:  97%|█████████▋| 550/567 [00:17<00:00, 31.15it/s, loss=0.117, v_num=4, val/rmse=0.365, val/rmse_best=0.365]\n",
      "Epoch 1:  97%|█████████▋| 551/567 [00:17<00:00, 31.18it/s, loss=0.117, v_num=4, val/rmse=0.365, val/rmse_best=0.365]\n",
      "Epoch 1:  97%|█████████▋| 552/567 [00:17<00:00, 31.22it/s, loss=0.117, v_num=4, val/rmse=0.365, val/rmse_best=0.365]\n",
      "Epoch 1:  98%|█████████▊| 553/567 [00:17<00:00, 31.24it/s, loss=0.117, v_num=4, val/rmse=0.365, val/rmse_best=0.365]\n",
      "Epoch 1:  98%|█████████▊| 554/567 [00:17<00:00, 31.25it/s, loss=0.117, v_num=4, val/rmse=0.365, val/rmse_best=0.365]\n",
      "Epoch 1:  98%|█████████▊| 555/567 [00:17<00:00, 31.28it/s, loss=0.117, v_num=4, val/rmse=0.365, val/rmse_best=0.365]\n",
      "Epoch 1:  98%|█████████▊| 556/567 [00:17<00:00, 31.31it/s, loss=0.117, v_num=4, val/rmse=0.365, val/rmse_best=0.365]\n",
      "Epoch 1:  98%|█████████▊| 557/567 [00:17<00:00, 31.32it/s, loss=0.117, v_num=4, val/rmse=0.365, val/rmse_best=0.365]\n",
      "Epoch 1:  98%|█████████▊| 558/567 [00:17<00:00, 31.34it/s, loss=0.117, v_num=4, val/rmse=0.365, val/rmse_best=0.365]\n",
      "Epoch 1:  99%|█████████▊| 559/567 [00:17<00:00, 31.36it/s, loss=0.117, v_num=4, val/rmse=0.365, val/rmse_best=0.365]\n",
      "Epoch 1:  99%|█████████▉| 560/567 [00:17<00:00, 31.40it/s, loss=0.117, v_num=4, val/rmse=0.365, val/rmse_best=0.365]\n",
      "Epoch 1:  99%|█████████▉| 561/567 [00:17<00:00, 31.43it/s, loss=0.117, v_num=4, val/rmse=0.365, val/rmse_best=0.365]\n",
      "Epoch 1:  99%|█████████▉| 562/567 [00:17<00:00, 31.47it/s, loss=0.117, v_num=4, val/rmse=0.365, val/rmse_best=0.365]\n",
      "Epoch 1:  99%|█████████▉| 563/567 [00:17<00:00, 31.51it/s, loss=0.117, v_num=4, val/rmse=0.365, val/rmse_best=0.365]\n",
      "Epoch 1:  99%|█████████▉| 564/567 [00:17<00:00, 31.55it/s, loss=0.117, v_num=4, val/rmse=0.365, val/rmse_best=0.365]\n",
      "Epoch 1: 100%|█████████▉| 565/567 [00:17<00:00, 31.59it/s, loss=0.117, v_num=4, val/rmse=0.365, val/rmse_best=0.365]\n",
      "Epoch 1: 100%|█████████▉| 566/567 [00:17<00:00, 31.62it/s, loss=0.117, v_num=4, val/rmse=0.365, val/rmse_best=0.365]\n",
      "Epoch 1: 100%|██████████| 567/567 [00:17<00:00, 31.65it/s, loss=0.117, v_num=4, val/rmse=0.354, val/rmse_best=0.354]\n",
      "Epoch 2:  80%|███████▉  | 453/567 [00:15<00:03, 30.18it/s, loss=0.089, v_num=4, val/rmse=0.354, val/rmse_best=0.354] \n",
      "Validation: 0it [00:00, ?it/s]\u001b[A\n",
      "Validation:   0%|          | 0/114 [00:00<?, ?it/s]\u001b[A\n",
      "Validation DataLoader 0:   0%|          | 0/114 [00:00<?, ?it/s]\u001b[A\n",
      "Epoch 2:  80%|████████  | 454/567 [00:15<00:03, 29.41it/s, loss=0.089, v_num=4, val/rmse=0.354, val/rmse_best=0.354]\n",
      "Epoch 2:  80%|████████  | 455/567 [00:15<00:03, 29.43it/s, loss=0.089, v_num=4, val/rmse=0.354, val/rmse_best=0.354]\n",
      "Epoch 2:  80%|████████  | 456/567 [00:15<00:03, 29.46it/s, loss=0.089, v_num=4, val/rmse=0.354, val/rmse_best=0.354]\n",
      "Epoch 2:  81%|████████  | 457/567 [00:15<00:03, 29.46it/s, loss=0.089, v_num=4, val/rmse=0.354, val/rmse_best=0.354]\n",
      "Epoch 2:  81%|████████  | 458/567 [00:15<00:03, 29.49it/s, loss=0.089, v_num=4, val/rmse=0.354, val/rmse_best=0.354]\n",
      "Epoch 2:  81%|████████  | 459/567 [00:15<00:03, 29.51it/s, loss=0.089, v_num=4, val/rmse=0.354, val/rmse_best=0.354]\n",
      "Epoch 2:  81%|████████  | 460/567 [00:15<00:03, 29.54it/s, loss=0.089, v_num=4, val/rmse=0.354, val/rmse_best=0.354]\n",
      "Epoch 2:  81%|████████▏ | 461/567 [00:15<00:03, 29.54it/s, loss=0.089, v_num=4, val/rmse=0.354, val/rmse_best=0.354]\n",
      "Epoch 2:  81%|████████▏ | 462/567 [00:15<00:03, 29.58it/s, loss=0.089, v_num=4, val/rmse=0.354, val/rmse_best=0.354]\n",
      "Epoch 2:  82%|████████▏ | 463/567 [00:15<00:03, 29.60it/s, loss=0.089, v_num=4, val/rmse=0.354, val/rmse_best=0.354]\n",
      "Epoch 2:  82%|████████▏ | 464/567 [00:15<00:03, 29.63it/s, loss=0.089, v_num=4, val/rmse=0.354, val/rmse_best=0.354]\n",
      "Epoch 2:  82%|████████▏ | 465/567 [00:15<00:03, 29.66it/s, loss=0.089, v_num=4, val/rmse=0.354, val/rmse_best=0.354]\n",
      "Epoch 2:  82%|████████▏ | 466/567 [00:15<00:03, 29.68it/s, loss=0.089, v_num=4, val/rmse=0.354, val/rmse_best=0.354]\n",
      "Epoch 2:  82%|████████▏ | 467/567 [00:15<00:03, 29.71it/s, loss=0.089, v_num=4, val/rmse=0.354, val/rmse_best=0.354]\n",
      "Epoch 2:  83%|████████▎ | 468/567 [00:15<00:03, 29.73it/s, loss=0.089, v_num=4, val/rmse=0.354, val/rmse_best=0.354]\n",
      "Epoch 2:  83%|████████▎ | 469/567 [00:15<00:03, 29.76it/s, loss=0.089, v_num=4, val/rmse=0.354, val/rmse_best=0.354]\n",
      "Epoch 2:  83%|████████▎ | 470/567 [00:15<00:03, 29.78it/s, loss=0.089, v_num=4, val/rmse=0.354, val/rmse_best=0.354]\n",
      "Epoch 2:  83%|████████▎ | 471/567 [00:15<00:03, 29.81it/s, loss=0.089, v_num=4, val/rmse=0.354, val/rmse_best=0.354]\n",
      "Epoch 2:  83%|████████▎ | 472/567 [00:15<00:03, 29.84it/s, loss=0.089, v_num=4, val/rmse=0.354, val/rmse_best=0.354]\n",
      "Epoch 2:  83%|████████▎ | 473/567 [00:15<00:03, 29.86it/s, loss=0.089, v_num=4, val/rmse=0.354, val/rmse_best=0.354]\n",
      "Epoch 2:  84%|████████▎ | 474/567 [00:15<00:03, 29.88it/s, loss=0.089, v_num=4, val/rmse=0.354, val/rmse_best=0.354]\n",
      "Epoch 2:  84%|████████▍ | 475/567 [00:15<00:03, 29.90it/s, loss=0.089, v_num=4, val/rmse=0.354, val/rmse_best=0.354]\n",
      "Epoch 2:  84%|████████▍ | 476/567 [00:15<00:03, 29.93it/s, loss=0.089, v_num=4, val/rmse=0.354, val/rmse_best=0.354]\n",
      "Epoch 2:  84%|████████▍ | 477/567 [00:15<00:03, 29.95it/s, loss=0.089, v_num=4, val/rmse=0.354, val/rmse_best=0.354]\n",
      "Epoch 2:  84%|████████▍ | 478/567 [00:15<00:02, 29.97it/s, loss=0.089, v_num=4, val/rmse=0.354, val/rmse_best=0.354]\n",
      "Epoch 2:  84%|████████▍ | 479/567 [00:15<00:02, 29.99it/s, loss=0.089, v_num=4, val/rmse=0.354, val/rmse_best=0.354]\n",
      "Epoch 2:  85%|████████▍ | 480/567 [00:16<00:02, 30.00it/s, loss=0.089, v_num=4, val/rmse=0.354, val/rmse_best=0.354]\n",
      "Epoch 2:  85%|████████▍ | 481/567 [00:16<00:02, 30.02it/s, loss=0.089, v_num=4, val/rmse=0.354, val/rmse_best=0.354]\n",
      "Epoch 2:  85%|████████▌ | 482/567 [00:16<00:02, 30.04it/s, loss=0.089, v_num=4, val/rmse=0.354, val/rmse_best=0.354]\n",
      "Epoch 2:  85%|████████▌ | 483/567 [00:16<00:02, 30.06it/s, loss=0.089, v_num=4, val/rmse=0.354, val/rmse_best=0.354]\n",
      "Epoch 2:  85%|████████▌ | 484/567 [00:16<00:02, 30.08it/s, loss=0.089, v_num=4, val/rmse=0.354, val/rmse_best=0.354]\n",
      "Epoch 2:  86%|████████▌ | 485/567 [00:16<00:02, 30.10it/s, loss=0.089, v_num=4, val/rmse=0.354, val/rmse_best=0.354]\n",
      "Epoch 2:  86%|████████▌ | 486/567 [00:16<00:02, 30.12it/s, loss=0.089, v_num=4, val/rmse=0.354, val/rmse_best=0.354]\n",
      "Epoch 2:  86%|████████▌ | 487/567 [00:16<00:02, 30.14it/s, loss=0.089, v_num=4, val/rmse=0.354, val/rmse_best=0.354]\n",
      "Epoch 2:  86%|████████▌ | 488/567 [00:16<00:02, 30.16it/s, loss=0.089, v_num=4, val/rmse=0.354, val/rmse_best=0.354]\n",
      "Epoch 2:  86%|████████▌ | 489/567 [00:16<00:02, 30.18it/s, loss=0.089, v_num=4, val/rmse=0.354, val/rmse_best=0.354]\n",
      "Epoch 2:  86%|████████▋ | 490/567 [00:16<00:02, 30.21it/s, loss=0.089, v_num=4, val/rmse=0.354, val/rmse_best=0.354]\n",
      "Epoch 2:  87%|████████▋ | 491/567 [00:16<00:02, 30.23it/s, loss=0.089, v_num=4, val/rmse=0.354, val/rmse_best=0.354]\n",
      "Epoch 2:  87%|████████▋ | 492/567 [00:16<00:02, 30.26it/s, loss=0.089, v_num=4, val/rmse=0.354, val/rmse_best=0.354]\n",
      "Epoch 2:  87%|████████▋ | 493/567 [00:16<00:02, 30.28it/s, loss=0.089, v_num=4, val/rmse=0.354, val/rmse_best=0.354]\n",
      "Epoch 2:  87%|████████▋ | 494/567 [00:16<00:02, 30.30it/s, loss=0.089, v_num=4, val/rmse=0.354, val/rmse_best=0.354]\n",
      "Epoch 2:  87%|████████▋ | 495/567 [00:16<00:02, 30.32it/s, loss=0.089, v_num=4, val/rmse=0.354, val/rmse_best=0.354]\n",
      "Epoch 2:  87%|████████▋ | 496/567 [00:16<00:02, 30.34it/s, loss=0.089, v_num=4, val/rmse=0.354, val/rmse_best=0.354]\n",
      "Epoch 2:  88%|████████▊ | 497/567 [00:16<00:02, 30.37it/s, loss=0.089, v_num=4, val/rmse=0.354, val/rmse_best=0.354]\n",
      "Epoch 2:  88%|████████▊ | 498/567 [00:16<00:02, 30.39it/s, loss=0.089, v_num=4, val/rmse=0.354, val/rmse_best=0.354]\n",
      "Epoch 2:  88%|████████▊ | 499/567 [00:16<00:02, 30.43it/s, loss=0.089, v_num=4, val/rmse=0.354, val/rmse_best=0.354]\n",
      "Epoch 2:  88%|████████▊ | 500/567 [00:16<00:02, 30.45it/s, loss=0.089, v_num=4, val/rmse=0.354, val/rmse_best=0.354]\n",
      "Epoch 2:  88%|████████▊ | 501/567 [00:16<00:02, 30.48it/s, loss=0.089, v_num=4, val/rmse=0.354, val/rmse_best=0.354]\n",
      "Epoch 2:  89%|████████▊ | 502/567 [00:16<00:02, 30.50it/s, loss=0.089, v_num=4, val/rmse=0.354, val/rmse_best=0.354]\n",
      "Epoch 2:  89%|████████▊ | 503/567 [00:16<00:02, 30.53it/s, loss=0.089, v_num=4, val/rmse=0.354, val/rmse_best=0.354]\n",
      "Epoch 2:  89%|████████▉ | 504/567 [00:16<00:02, 30.55it/s, loss=0.089, v_num=4, val/rmse=0.354, val/rmse_best=0.354]\n",
      "Epoch 2:  89%|████████▉ | 505/567 [00:16<00:02, 30.58it/s, loss=0.089, v_num=4, val/rmse=0.354, val/rmse_best=0.354]\n",
      "Epoch 2:  89%|████████▉ | 506/567 [00:16<00:01, 30.60it/s, loss=0.089, v_num=4, val/rmse=0.354, val/rmse_best=0.354]\n",
      "Epoch 2:  89%|████████▉ | 507/567 [00:16<00:01, 30.64it/s, loss=0.089, v_num=4, val/rmse=0.354, val/rmse_best=0.354]\n",
      "Epoch 2:  90%|████████▉ | 508/567 [00:16<00:01, 30.67it/s, loss=0.089, v_num=4, val/rmse=0.354, val/rmse_best=0.354]\n",
      "Epoch 2:  90%|████████▉ | 509/567 [00:16<00:01, 30.70it/s, loss=0.089, v_num=4, val/rmse=0.354, val/rmse_best=0.354]\n",
      "Epoch 2:  90%|████████▉ | 510/567 [00:16<00:01, 30.72it/s, loss=0.089, v_num=4, val/rmse=0.354, val/rmse_best=0.354]\n",
      "Epoch 2:  90%|█████████ | 511/567 [00:16<00:01, 30.73it/s, loss=0.089, v_num=4, val/rmse=0.354, val/rmse_best=0.354]\n",
      "Epoch 2:  90%|█████████ | 512/567 [00:16<00:01, 30.74it/s, loss=0.089, v_num=4, val/rmse=0.354, val/rmse_best=0.354]\n",
      "Epoch 2:  90%|█████████ | 513/567 [00:16<00:01, 30.75it/s, loss=0.089, v_num=4, val/rmse=0.354, val/rmse_best=0.354]\n",
      "Epoch 2:  91%|█████████ | 514/567 [00:16<00:01, 30.78it/s, loss=0.089, v_num=4, val/rmse=0.354, val/rmse_best=0.354]\n",
      "Epoch 2:  91%|█████████ | 515/567 [00:16<00:01, 30.80it/s, loss=0.089, v_num=4, val/rmse=0.354, val/rmse_best=0.354]\n",
      "Epoch 2:  91%|█████████ | 516/567 [00:16<00:01, 30.82it/s, loss=0.089, v_num=4, val/rmse=0.354, val/rmse_best=0.354]\n",
      "Epoch 2:  91%|█████████ | 517/567 [00:16<00:01, 30.85it/s, loss=0.089, v_num=4, val/rmse=0.354, val/rmse_best=0.354]\n",
      "Epoch 2:  91%|█████████▏| 518/567 [00:16<00:01, 30.86it/s, loss=0.089, v_num=4, val/rmse=0.354, val/rmse_best=0.354]\n",
      "Epoch 2:  92%|█████████▏| 519/567 [00:16<00:01, 30.88it/s, loss=0.089, v_num=4, val/rmse=0.354, val/rmse_best=0.354]\n",
      "Epoch 2:  92%|█████████▏| 520/567 [00:16<00:01, 30.90it/s, loss=0.089, v_num=4, val/rmse=0.354, val/rmse_best=0.354]\n",
      "Epoch 2:  92%|█████████▏| 521/567 [00:16<00:01, 30.92it/s, loss=0.089, v_num=4, val/rmse=0.354, val/rmse_best=0.354]\n",
      "Epoch 2:  92%|█████████▏| 522/567 [00:16<00:01, 30.93it/s, loss=0.089, v_num=4, val/rmse=0.354, val/rmse_best=0.354]\n",
      "Epoch 2:  92%|█████████▏| 523/567 [00:16<00:01, 30.96it/s, loss=0.089, v_num=4, val/rmse=0.354, val/rmse_best=0.354]\n",
      "Epoch 2:  92%|█████████▏| 524/567 [00:16<00:01, 30.96it/s, loss=0.089, v_num=4, val/rmse=0.354, val/rmse_best=0.354]\n",
      "Epoch 2:  93%|█████████▎| 525/567 [00:16<00:01, 30.99it/s, loss=0.089, v_num=4, val/rmse=0.354, val/rmse_best=0.354]\n",
      "Epoch 2:  93%|█████████▎| 526/567 [00:16<00:01, 31.01it/s, loss=0.089, v_num=4, val/rmse=0.354, val/rmse_best=0.354]\n",
      "Epoch 2:  93%|█████████▎| 527/567 [00:16<00:01, 31.03it/s, loss=0.089, v_num=4, val/rmse=0.354, val/rmse_best=0.354]\n",
      "Epoch 2:  93%|█████████▎| 528/567 [00:17<00:01, 31.05it/s, loss=0.089, v_num=4, val/rmse=0.354, val/rmse_best=0.354]\n",
      "Epoch 2:  93%|█████████▎| 529/567 [00:17<00:01, 31.08it/s, loss=0.089, v_num=4, val/rmse=0.354, val/rmse_best=0.354]\n",
      "Epoch 2:  93%|█████████▎| 530/567 [00:17<00:01, 31.12it/s, loss=0.089, v_num=4, val/rmse=0.354, val/rmse_best=0.354]\n",
      "Epoch 2:  94%|█████████▎| 531/567 [00:17<00:01, 31.13it/s, loss=0.089, v_num=4, val/rmse=0.354, val/rmse_best=0.354]\n",
      "Epoch 2:  94%|█████████▍| 532/567 [00:17<00:01, 31.16it/s, loss=0.089, v_num=4, val/rmse=0.354, val/rmse_best=0.354]\n",
      "Epoch 2:  94%|█████████▍| 533/567 [00:17<00:01, 31.19it/s, loss=0.089, v_num=4, val/rmse=0.354, val/rmse_best=0.354]\n",
      "Epoch 2:  94%|█████████▍| 534/567 [00:17<00:01, 31.21it/s, loss=0.089, v_num=4, val/rmse=0.354, val/rmse_best=0.354]\n",
      "Epoch 2:  94%|█████████▍| 535/567 [00:17<00:01, 31.23it/s, loss=0.089, v_num=4, val/rmse=0.354, val/rmse_best=0.354]\n",
      "Epoch 2:  95%|█████████▍| 536/567 [00:17<00:00, 31.25it/s, loss=0.089, v_num=4, val/rmse=0.354, val/rmse_best=0.354]\n",
      "Epoch 2:  95%|█████████▍| 537/567 [00:17<00:00, 31.28it/s, loss=0.089, v_num=4, val/rmse=0.354, val/rmse_best=0.354]\n",
      "Epoch 2:  95%|█████████▍| 538/567 [00:17<00:00, 31.31it/s, loss=0.089, v_num=4, val/rmse=0.354, val/rmse_best=0.354]\n",
      "Epoch 2:  95%|█████████▌| 539/567 [00:17<00:00, 31.33it/s, loss=0.089, v_num=4, val/rmse=0.354, val/rmse_best=0.354]\n",
      "Epoch 2:  95%|█████████▌| 540/567 [00:17<00:00, 31.35it/s, loss=0.089, v_num=4, val/rmse=0.354, val/rmse_best=0.354]\n",
      "Epoch 2:  95%|█████████▌| 541/567 [00:17<00:00, 31.38it/s, loss=0.089, v_num=4, val/rmse=0.354, val/rmse_best=0.354]\n",
      "Epoch 2:  96%|█████████▌| 542/567 [00:17<00:00, 31.41it/s, loss=0.089, v_num=4, val/rmse=0.354, val/rmse_best=0.354]\n",
      "Epoch 2:  96%|█████████▌| 543/567 [00:17<00:00, 31.44it/s, loss=0.089, v_num=4, val/rmse=0.354, val/rmse_best=0.354]\n",
      "Epoch 2:  96%|█████████▌| 544/567 [00:17<00:00, 31.46it/s, loss=0.089, v_num=4, val/rmse=0.354, val/rmse_best=0.354]\n",
      "Epoch 2:  96%|█████████▌| 545/567 [00:17<00:00, 31.49it/s, loss=0.089, v_num=4, val/rmse=0.354, val/rmse_best=0.354]\n",
      "Epoch 2:  96%|█████████▋| 546/567 [00:17<00:00, 31.53it/s, loss=0.089, v_num=4, val/rmse=0.354, val/rmse_best=0.354]\n",
      "Epoch 2:  96%|█████████▋| 547/567 [00:17<00:00, 31.56it/s, loss=0.089, v_num=4, val/rmse=0.354, val/rmse_best=0.354]\n",
      "Epoch 2:  97%|█████████▋| 548/567 [00:17<00:00, 31.58it/s, loss=0.089, v_num=4, val/rmse=0.354, val/rmse_best=0.354]\n",
      "Epoch 2:  97%|█████████▋| 549/567 [00:17<00:00, 31.61it/s, loss=0.089, v_num=4, val/rmse=0.354, val/rmse_best=0.354]\n",
      "Epoch 2:  97%|█████████▋| 550/567 [00:17<00:00, 31.62it/s, loss=0.089, v_num=4, val/rmse=0.354, val/rmse_best=0.354]\n",
      "Epoch 2:  97%|█████████▋| 551/567 [00:17<00:00, 31.64it/s, loss=0.089, v_num=4, val/rmse=0.354, val/rmse_best=0.354]\n",
      "Epoch 2:  97%|█████████▋| 552/567 [00:17<00:00, 31.65it/s, loss=0.089, v_num=4, val/rmse=0.354, val/rmse_best=0.354]\n",
      "Epoch 2:  98%|█████████▊| 553/567 [00:17<00:00, 31.67it/s, loss=0.089, v_num=4, val/rmse=0.354, val/rmse_best=0.354]\n",
      "Epoch 2:  98%|█████████▊| 554/567 [00:17<00:00, 31.70it/s, loss=0.089, v_num=4, val/rmse=0.354, val/rmse_best=0.354]\n",
      "Epoch 2:  98%|█████████▊| 555/567 [00:17<00:00, 31.72it/s, loss=0.089, v_num=4, val/rmse=0.354, val/rmse_best=0.354]\n",
      "Epoch 2:  98%|█████████▊| 556/567 [00:17<00:00, 31.74it/s, loss=0.089, v_num=4, val/rmse=0.354, val/rmse_best=0.354]\n",
      "Epoch 2:  98%|█████████▊| 557/567 [00:17<00:00, 31.76it/s, loss=0.089, v_num=4, val/rmse=0.354, val/rmse_best=0.354]\n",
      "Epoch 2:  98%|█████████▊| 558/567 [00:17<00:00, 31.79it/s, loss=0.089, v_num=4, val/rmse=0.354, val/rmse_best=0.354]\n",
      "Epoch 2:  99%|█████████▊| 559/567 [00:17<00:00, 31.82it/s, loss=0.089, v_num=4, val/rmse=0.354, val/rmse_best=0.354]\n",
      "Epoch 2:  99%|█████████▉| 560/567 [00:17<00:00, 31.84it/s, loss=0.089, v_num=4, val/rmse=0.354, val/rmse_best=0.354]\n",
      "Epoch 2:  99%|█████████▉| 561/567 [00:17<00:00, 31.87it/s, loss=0.089, v_num=4, val/rmse=0.354, val/rmse_best=0.354]\n",
      "Epoch 2:  99%|█████████▉| 562/567 [00:17<00:00, 31.91it/s, loss=0.089, v_num=4, val/rmse=0.354, val/rmse_best=0.354]\n",
      "Epoch 2:  99%|█████████▉| 563/567 [00:17<00:00, 31.93it/s, loss=0.089, v_num=4, val/rmse=0.354, val/rmse_best=0.354]\n",
      "Epoch 2:  99%|█████████▉| 564/567 [00:17<00:00, 31.97it/s, loss=0.089, v_num=4, val/rmse=0.354, val/rmse_best=0.354]\n",
      "Epoch 2: 100%|█████████▉| 565/567 [00:17<00:00, 32.00it/s, loss=0.089, v_num=4, val/rmse=0.354, val/rmse_best=0.354]\n",
      "Epoch 2: 100%|█████████▉| 566/567 [00:17<00:00, 32.04it/s, loss=0.089, v_num=4, val/rmse=0.354, val/rmse_best=0.354]\n",
      "Epoch 2: 100%|██████████| 567/567 [00:17<00:00, 32.06it/s, loss=0.089, v_num=4, val/rmse=0.385, val/rmse_best=0.354]\n",
      "Epoch 3:  80%|███████▉  | 453/567 [00:14<00:03, 31.43it/s, loss=0.0826, v_num=4, val/rmse=0.385, val/rmse_best=0.354]\n",
      "Validation: 0it [00:00, ?it/s]\u001b[A\n",
      "Validation:   0%|          | 0/114 [00:00<?, ?it/s]\u001b[A\n",
      "Validation DataLoader 0:   0%|          | 0/114 [00:00<?, ?it/s]\u001b[A\n",
      "Epoch 3:  80%|████████  | 454/567 [00:14<00:03, 30.64it/s, loss=0.0826, v_num=4, val/rmse=0.385, val/rmse_best=0.354]\n",
      "Epoch 3:  80%|████████  | 455/567 [00:14<00:03, 30.66it/s, loss=0.0826, v_num=4, val/rmse=0.385, val/rmse_best=0.354]\n",
      "Epoch 3:  80%|████████  | 456/567 [00:14<00:03, 30.67it/s, loss=0.0826, v_num=4, val/rmse=0.385, val/rmse_best=0.354]\n",
      "Epoch 3:  81%|████████  | 457/567 [00:14<00:03, 30.62it/s, loss=0.0826, v_num=4, val/rmse=0.385, val/rmse_best=0.354]\n",
      "Epoch 3:  81%|████████  | 458/567 [00:14<00:03, 30.64it/s, loss=0.0826, v_num=4, val/rmse=0.385, val/rmse_best=0.354]\n",
      "Epoch 3:  81%|████████  | 459/567 [00:14<00:03, 30.67it/s, loss=0.0826, v_num=4, val/rmse=0.385, val/rmse_best=0.354]\n",
      "Epoch 3:  81%|████████  | 460/567 [00:14<00:03, 30.70it/s, loss=0.0826, v_num=4, val/rmse=0.385, val/rmse_best=0.354]\n",
      "Epoch 3:  81%|████████▏ | 461/567 [00:14<00:03, 30.74it/s, loss=0.0826, v_num=4, val/rmse=0.385, val/rmse_best=0.354]\n",
      "Epoch 3:  81%|████████▏ | 462/567 [00:15<00:03, 30.76it/s, loss=0.0826, v_num=4, val/rmse=0.385, val/rmse_best=0.354]\n",
      "Epoch 3:  82%|████████▏ | 463/567 [00:15<00:03, 30.79it/s, loss=0.0826, v_num=4, val/rmse=0.385, val/rmse_best=0.354]\n",
      "Epoch 3:  82%|████████▏ | 464/567 [00:15<00:03, 30.82it/s, loss=0.0826, v_num=4, val/rmse=0.385, val/rmse_best=0.354]\n",
      "Epoch 3:  82%|████████▏ | 465/567 [00:15<00:03, 30.84it/s, loss=0.0826, v_num=4, val/rmse=0.385, val/rmse_best=0.354]\n",
      "Epoch 3:  82%|████████▏ | 466/567 [00:15<00:03, 30.87it/s, loss=0.0826, v_num=4, val/rmse=0.385, val/rmse_best=0.354]\n",
      "Epoch 3:  82%|████████▏ | 467/567 [00:15<00:03, 30.89it/s, loss=0.0826, v_num=4, val/rmse=0.385, val/rmse_best=0.354]\n",
      "Epoch 3:  83%|████████▎ | 468/567 [00:15<00:03, 30.91it/s, loss=0.0826, v_num=4, val/rmse=0.385, val/rmse_best=0.354]\n",
      "Epoch 3:  83%|████████▎ | 469/567 [00:15<00:03, 30.93it/s, loss=0.0826, v_num=4, val/rmse=0.385, val/rmse_best=0.354]\n",
      "Epoch 3:  83%|████████▎ | 470/567 [00:15<00:03, 30.95it/s, loss=0.0826, v_num=4, val/rmse=0.385, val/rmse_best=0.354]\n",
      "Epoch 3:  83%|████████▎ | 471/567 [00:15<00:03, 30.95it/s, loss=0.0826, v_num=4, val/rmse=0.385, val/rmse_best=0.354]\n",
      "Epoch 3:  83%|████████▎ | 472/567 [00:15<00:03, 30.97it/s, loss=0.0826, v_num=4, val/rmse=0.385, val/rmse_best=0.354]\n",
      "Epoch 3:  83%|████████▎ | 473/567 [00:15<00:03, 31.00it/s, loss=0.0826, v_num=4, val/rmse=0.385, val/rmse_best=0.354]\n",
      "Epoch 3:  84%|████████▎ | 474/567 [00:15<00:02, 31.02it/s, loss=0.0826, v_num=4, val/rmse=0.385, val/rmse_best=0.354]\n",
      "Epoch 3:  84%|████████▍ | 475/567 [00:15<00:02, 31.04it/s, loss=0.0826, v_num=4, val/rmse=0.385, val/rmse_best=0.354]\n",
      "Epoch 3:  84%|████████▍ | 476/567 [00:15<00:02, 31.07it/s, loss=0.0826, v_num=4, val/rmse=0.385, val/rmse_best=0.354]\n",
      "Epoch 3:  84%|████████▍ | 477/567 [00:15<00:02, 31.09it/s, loss=0.0826, v_num=4, val/rmse=0.385, val/rmse_best=0.354]\n",
      "Epoch 3:  84%|████████▍ | 478/567 [00:15<00:02, 31.12it/s, loss=0.0826, v_num=4, val/rmse=0.385, val/rmse_best=0.354]\n",
      "Epoch 3:  84%|████████▍ | 479/567 [00:15<00:02, 31.14it/s, loss=0.0826, v_num=4, val/rmse=0.385, val/rmse_best=0.354]\n",
      "Epoch 3:  85%|████████▍ | 480/567 [00:15<00:02, 31.17it/s, loss=0.0826, v_num=4, val/rmse=0.385, val/rmse_best=0.354]\n",
      "Epoch 3:  85%|████████▍ | 481/567 [00:15<00:02, 31.18it/s, loss=0.0826, v_num=4, val/rmse=0.385, val/rmse_best=0.354]\n",
      "Epoch 3:  85%|████████▌ | 482/567 [00:15<00:02, 31.21it/s, loss=0.0826, v_num=4, val/rmse=0.385, val/rmse_best=0.354]\n",
      "Epoch 3:  85%|████████▌ | 483/567 [00:15<00:02, 31.24it/s, loss=0.0826, v_num=4, val/rmse=0.385, val/rmse_best=0.354]\n",
      "Epoch 3:  85%|████████▌ | 484/567 [00:15<00:02, 31.26it/s, loss=0.0826, v_num=4, val/rmse=0.385, val/rmse_best=0.354]\n",
      "Epoch 3:  86%|████████▌ | 485/567 [00:15<00:02, 31.29it/s, loss=0.0826, v_num=4, val/rmse=0.385, val/rmse_best=0.354]\n",
      "Epoch 3:  86%|████████▌ | 486/567 [00:15<00:02, 31.31it/s, loss=0.0826, v_num=4, val/rmse=0.385, val/rmse_best=0.354]\n",
      "Epoch 3:  86%|████████▌ | 487/567 [00:15<00:02, 31.32it/s, loss=0.0826, v_num=4, val/rmse=0.385, val/rmse_best=0.354]\n",
      "Epoch 3:  86%|████████▌ | 488/567 [00:15<00:02, 31.33it/s, loss=0.0826, v_num=4, val/rmse=0.385, val/rmse_best=0.354]\n",
      "Epoch 3:  86%|████████▌ | 489/567 [00:15<00:02, 31.36it/s, loss=0.0826, v_num=4, val/rmse=0.385, val/rmse_best=0.354]\n",
      "Epoch 3:  86%|████████▋ | 490/567 [00:15<00:02, 31.38it/s, loss=0.0826, v_num=4, val/rmse=0.385, val/rmse_best=0.354]\n",
      "Epoch 3:  87%|████████▋ | 491/567 [00:15<00:02, 31.41it/s, loss=0.0826, v_num=4, val/rmse=0.385, val/rmse_best=0.354]\n",
      "Epoch 3:  87%|████████▋ | 492/567 [00:15<00:02, 31.43it/s, loss=0.0826, v_num=4, val/rmse=0.385, val/rmse_best=0.354]\n",
      "Epoch 3:  87%|████████▋ | 493/567 [00:15<00:02, 31.46it/s, loss=0.0826, v_num=4, val/rmse=0.385, val/rmse_best=0.354]\n",
      "Epoch 3:  87%|████████▋ | 494/567 [00:15<00:02, 31.48it/s, loss=0.0826, v_num=4, val/rmse=0.385, val/rmse_best=0.354]\n",
      "Epoch 3:  87%|████████▋ | 495/567 [00:15<00:02, 31.50it/s, loss=0.0826, v_num=4, val/rmse=0.385, val/rmse_best=0.354]\n",
      "Epoch 3:  87%|████████▋ | 496/567 [00:15<00:02, 31.53it/s, loss=0.0826, v_num=4, val/rmse=0.385, val/rmse_best=0.354]\n",
      "Epoch 3:  88%|████████▊ | 497/567 [00:15<00:02, 31.55it/s, loss=0.0826, v_num=4, val/rmse=0.385, val/rmse_best=0.354]\n",
      "Epoch 3:  88%|████████▊ | 498/567 [00:15<00:02, 31.58it/s, loss=0.0826, v_num=4, val/rmse=0.385, val/rmse_best=0.354]\n",
      "Epoch 3:  88%|████████▊ | 499/567 [00:15<00:02, 31.61it/s, loss=0.0826, v_num=4, val/rmse=0.385, val/rmse_best=0.354]\n",
      "Epoch 3:  88%|████████▊ | 500/567 [00:15<00:02, 31.61it/s, loss=0.0826, v_num=4, val/rmse=0.385, val/rmse_best=0.354]\n",
      "Epoch 3:  88%|████████▊ | 501/567 [00:15<00:02, 31.64it/s, loss=0.0826, v_num=4, val/rmse=0.385, val/rmse_best=0.354]\n",
      "Epoch 3:  89%|████████▊ | 502/567 [00:15<00:02, 31.66it/s, loss=0.0826, v_num=4, val/rmse=0.385, val/rmse_best=0.354]\n",
      "Epoch 3:  89%|████████▊ | 503/567 [00:15<00:02, 31.68it/s, loss=0.0826, v_num=4, val/rmse=0.385, val/rmse_best=0.354]\n",
      "Epoch 3:  89%|████████▉ | 504/567 [00:15<00:01, 31.71it/s, loss=0.0826, v_num=4, val/rmse=0.385, val/rmse_best=0.354]\n",
      "Epoch 3:  89%|████████▉ | 505/567 [00:15<00:01, 31.74it/s, loss=0.0826, v_num=4, val/rmse=0.385, val/rmse_best=0.354]\n",
      "Epoch 3:  89%|████████▉ | 506/567 [00:15<00:01, 31.76it/s, loss=0.0826, v_num=4, val/rmse=0.385, val/rmse_best=0.354]\n",
      "Epoch 3:  89%|████████▉ | 507/567 [00:15<00:01, 31.79it/s, loss=0.0826, v_num=4, val/rmse=0.385, val/rmse_best=0.354]\n",
      "Epoch 3:  90%|████████▉ | 508/567 [00:15<00:01, 31.82it/s, loss=0.0826, v_num=4, val/rmse=0.385, val/rmse_best=0.354]\n",
      "Epoch 3:  90%|████████▉ | 509/567 [00:15<00:01, 31.85it/s, loss=0.0826, v_num=4, val/rmse=0.385, val/rmse_best=0.354]\n",
      "Epoch 3:  90%|████████▉ | 510/567 [00:15<00:01, 31.88it/s, loss=0.0826, v_num=4, val/rmse=0.385, val/rmse_best=0.354]\n",
      "Epoch 3:  90%|█████████ | 511/567 [00:16<00:01, 31.90it/s, loss=0.0826, v_num=4, val/rmse=0.385, val/rmse_best=0.354]\n",
      "Epoch 3:  90%|█████████ | 512/567 [00:16<00:01, 31.93it/s, loss=0.0826, v_num=4, val/rmse=0.385, val/rmse_best=0.354]\n",
      "Epoch 3:  90%|█████████ | 513/567 [00:16<00:01, 31.96it/s, loss=0.0826, v_num=4, val/rmse=0.385, val/rmse_best=0.354]\n",
      "Epoch 3:  91%|█████████ | 514/567 [00:16<00:01, 31.98it/s, loss=0.0826, v_num=4, val/rmse=0.385, val/rmse_best=0.354]\n",
      "Epoch 3:  91%|█████████ | 515/567 [00:16<00:01, 32.00it/s, loss=0.0826, v_num=4, val/rmse=0.385, val/rmse_best=0.354]\n",
      "Epoch 3:  91%|█████████ | 516/567 [00:16<00:01, 32.03it/s, loss=0.0826, v_num=4, val/rmse=0.385, val/rmse_best=0.354]\n",
      "Epoch 3:  91%|█████████ | 517/567 [00:16<00:01, 32.04it/s, loss=0.0826, v_num=4, val/rmse=0.385, val/rmse_best=0.354]\n",
      "Epoch 3:  91%|█████████▏| 518/567 [00:16<00:01, 32.08it/s, loss=0.0826, v_num=4, val/rmse=0.385, val/rmse_best=0.354]\n",
      "Epoch 3:  92%|█████████▏| 519/567 [00:16<00:01, 32.11it/s, loss=0.0826, v_num=4, val/rmse=0.385, val/rmse_best=0.354]\n",
      "Epoch 3:  92%|█████████▏| 520/567 [00:16<00:01, 32.13it/s, loss=0.0826, v_num=4, val/rmse=0.385, val/rmse_best=0.354]\n",
      "Epoch 3:  92%|█████████▏| 521/567 [00:16<00:01, 32.15it/s, loss=0.0826, v_num=4, val/rmse=0.385, val/rmse_best=0.354]\n",
      "Epoch 3:  92%|█████████▏| 522/567 [00:16<00:01, 32.17it/s, loss=0.0826, v_num=4, val/rmse=0.385, val/rmse_best=0.354]\n",
      "Epoch 3:  92%|█████████▏| 523/567 [00:16<00:01, 32.19it/s, loss=0.0826, v_num=4, val/rmse=0.385, val/rmse_best=0.354]\n",
      "Epoch 3:  92%|█████████▏| 524/567 [00:16<00:01, 32.22it/s, loss=0.0826, v_num=4, val/rmse=0.385, val/rmse_best=0.354]\n",
      "Epoch 3:  93%|█████████▎| 525/567 [00:16<00:01, 32.25it/s, loss=0.0826, v_num=4, val/rmse=0.385, val/rmse_best=0.354]\n",
      "Epoch 3:  93%|█████████▎| 526/567 [00:16<00:01, 32.28it/s, loss=0.0826, v_num=4, val/rmse=0.385, val/rmse_best=0.354]\n",
      "Epoch 3:  93%|█████████▎| 527/567 [00:16<00:01, 32.31it/s, loss=0.0826, v_num=4, val/rmse=0.385, val/rmse_best=0.354]\n",
      "Epoch 3:  93%|█████████▎| 528/567 [00:16<00:01, 32.34it/s, loss=0.0826, v_num=4, val/rmse=0.385, val/rmse_best=0.354]\n",
      "Epoch 3:  93%|█████████▎| 529/567 [00:16<00:01, 32.36it/s, loss=0.0826, v_num=4, val/rmse=0.385, val/rmse_best=0.354]\n",
      "Epoch 3:  93%|█████████▎| 530/567 [00:16<00:01, 32.39it/s, loss=0.0826, v_num=4, val/rmse=0.385, val/rmse_best=0.354]\n",
      "Epoch 3:  94%|█████████▎| 531/567 [00:16<00:01, 32.41it/s, loss=0.0826, v_num=4, val/rmse=0.385, val/rmse_best=0.354]\n",
      "Epoch 3:  94%|█████████▍| 532/567 [00:16<00:01, 32.44it/s, loss=0.0826, v_num=4, val/rmse=0.385, val/rmse_best=0.354]\n",
      "Epoch 3:  94%|█████████▍| 533/567 [00:16<00:01, 32.46it/s, loss=0.0826, v_num=4, val/rmse=0.385, val/rmse_best=0.354]\n",
      "Epoch 3:  94%|█████████▍| 534/567 [00:16<00:01, 32.49it/s, loss=0.0826, v_num=4, val/rmse=0.385, val/rmse_best=0.354]\n",
      "Epoch 3:  94%|█████████▍| 535/567 [00:16<00:00, 32.51it/s, loss=0.0826, v_num=4, val/rmse=0.385, val/rmse_best=0.354]\n",
      "Epoch 3:  95%|█████████▍| 536/567 [00:16<00:00, 32.54it/s, loss=0.0826, v_num=4, val/rmse=0.385, val/rmse_best=0.354]\n",
      "Epoch 3:  95%|█████████▍| 537/567 [00:16<00:00, 32.54it/s, loss=0.0826, v_num=4, val/rmse=0.385, val/rmse_best=0.354]\n",
      "Epoch 3:  95%|█████████▍| 538/567 [00:16<00:00, 32.55it/s, loss=0.0826, v_num=4, val/rmse=0.385, val/rmse_best=0.354]\n",
      "Epoch 3:  95%|█████████▌| 539/567 [00:16<00:00, 32.58it/s, loss=0.0826, v_num=4, val/rmse=0.385, val/rmse_best=0.354]\n",
      "Epoch 3:  95%|█████████▌| 540/567 [00:16<00:00, 32.60it/s, loss=0.0826, v_num=4, val/rmse=0.385, val/rmse_best=0.354]\n",
      "Epoch 3:  95%|█████████▌| 541/567 [00:16<00:00, 32.63it/s, loss=0.0826, v_num=4, val/rmse=0.385, val/rmse_best=0.354]\n",
      "Epoch 3:  96%|█████████▌| 542/567 [00:16<00:00, 32.64it/s, loss=0.0826, v_num=4, val/rmse=0.385, val/rmse_best=0.354]\n",
      "Epoch 3:  96%|█████████▌| 543/567 [00:16<00:00, 32.65it/s, loss=0.0826, v_num=4, val/rmse=0.385, val/rmse_best=0.354]\n",
      "Epoch 3:  96%|█████████▌| 544/567 [00:16<00:00, 32.68it/s, loss=0.0826, v_num=4, val/rmse=0.385, val/rmse_best=0.354]\n",
      "Epoch 3:  96%|█████████▌| 545/567 [00:16<00:00, 32.69it/s, loss=0.0826, v_num=4, val/rmse=0.385, val/rmse_best=0.354]\n",
      "Epoch 3:  96%|█████████▋| 546/567 [00:16<00:00, 32.71it/s, loss=0.0826, v_num=4, val/rmse=0.385, val/rmse_best=0.354]\n",
      "Epoch 3:  96%|█████████▋| 547/567 [00:16<00:00, 32.72it/s, loss=0.0826, v_num=4, val/rmse=0.385, val/rmse_best=0.354]\n",
      "Epoch 3:  97%|█████████▋| 548/567 [00:16<00:00, 32.74it/s, loss=0.0826, v_num=4, val/rmse=0.385, val/rmse_best=0.354]\n",
      "Epoch 3:  97%|█████████▋| 549/567 [00:16<00:00, 32.75it/s, loss=0.0826, v_num=4, val/rmse=0.385, val/rmse_best=0.354]\n",
      "Epoch 3:  97%|█████████▋| 550/567 [00:16<00:00, 32.77it/s, loss=0.0826, v_num=4, val/rmse=0.385, val/rmse_best=0.354]\n",
      "Epoch 3:  97%|█████████▋| 551/567 [00:16<00:00, 32.78it/s, loss=0.0826, v_num=4, val/rmse=0.385, val/rmse_best=0.354]\n",
      "Epoch 3:  97%|█████████▋| 552/567 [00:16<00:00, 32.79it/s, loss=0.0826, v_num=4, val/rmse=0.385, val/rmse_best=0.354]\n",
      "Epoch 3:  98%|█████████▊| 553/567 [00:16<00:00, 32.82it/s, loss=0.0826, v_num=4, val/rmse=0.385, val/rmse_best=0.354]\n",
      "Epoch 3:  98%|█████████▊| 554/567 [00:16<00:00, 32.84it/s, loss=0.0826, v_num=4, val/rmse=0.385, val/rmse_best=0.354]\n",
      "Epoch 3:  98%|█████████▊| 555/567 [00:16<00:00, 32.85it/s, loss=0.0826, v_num=4, val/rmse=0.385, val/rmse_best=0.354]\n",
      "Epoch 3:  98%|█████████▊| 556/567 [00:16<00:00, 32.86it/s, loss=0.0826, v_num=4, val/rmse=0.385, val/rmse_best=0.354]\n",
      "Epoch 3:  98%|█████████▊| 557/567 [00:16<00:00, 32.89it/s, loss=0.0826, v_num=4, val/rmse=0.385, val/rmse_best=0.354]\n",
      "Epoch 3:  98%|█████████▊| 558/567 [00:16<00:00, 32.89it/s, loss=0.0826, v_num=4, val/rmse=0.385, val/rmse_best=0.354]\n",
      "Epoch 3:  99%|█████████▊| 559/567 [00:16<00:00, 32.90it/s, loss=0.0826, v_num=4, val/rmse=0.385, val/rmse_best=0.354]\n",
      "Epoch 3:  99%|█████████▉| 560/567 [00:17<00:00, 32.93it/s, loss=0.0826, v_num=4, val/rmse=0.385, val/rmse_best=0.354]\n",
      "Epoch 3:  99%|█████████▉| 561/567 [00:17<00:00, 32.97it/s, loss=0.0826, v_num=4, val/rmse=0.385, val/rmse_best=0.354]\n",
      "Epoch 3:  99%|█████████▉| 562/567 [00:17<00:00, 33.01it/s, loss=0.0826, v_num=4, val/rmse=0.385, val/rmse_best=0.354]\n",
      "Epoch 3:  99%|█████████▉| 563/567 [00:17<00:00, 33.05it/s, loss=0.0826, v_num=4, val/rmse=0.385, val/rmse_best=0.354]\n",
      "Epoch 3:  99%|█████████▉| 564/567 [00:17<00:00, 33.09it/s, loss=0.0826, v_num=4, val/rmse=0.385, val/rmse_best=0.354]\n",
      "Epoch 3: 100%|█████████▉| 565/567 [00:17<00:00, 33.13it/s, loss=0.0826, v_num=4, val/rmse=0.385, val/rmse_best=0.354]\n",
      "Epoch 3: 100%|█████████▉| 566/567 [00:17<00:00, 33.16it/s, loss=0.0826, v_num=4, val/rmse=0.385, val/rmse_best=0.354]\n",
      "Epoch 3: 100%|██████████| 567/567 [00:17<00:00, 33.19it/s, loss=0.0826, v_num=4, val/rmse=0.292, val/rmse_best=0.292]\n",
      "Epoch 4:  49%|████▉     | 278/567 [00:10<00:10, 27.58it/s, loss=0.0879, v_num=4, val/rmse=0.292, val/rmse_best=0.292]"
     ]
    }
   ],
   "source": [
    "train_data = TrainDataset()\n",
    "test_data = TestDataset()\n",
    "\n",
    "dm = BaseDataModule(train_data, test_data, batch_size=32, fold=0)\n",
    "\n",
    "net = GATNet()\n",
    "model = BaseNet(net, lr=1e-3, weight_decay=1e-5, max_epochs=30)\n",
    "\n",
    "trainer = pl.Trainer(max_epochs=30, gpus=[1])\n",
    "\n",
    "trainer.fit(model, dm)"
   ]
  },
  {
   "cell_type": "code",
   "execution_count": 12,
   "metadata": {
    "collapsed": true,
    "jupyter": {
     "outputs_hidden": true
    }
   },
   "outputs": [
    {
     "name": "stdout",
     "output_type": "stream",
     "text": [
      "Epoch 0\n"
     ]
    },
    {
     "name": "stderr",
     "output_type": "stream",
     "text": [
      "100%|██████████| 453/453 [00:11<00:00, 38.35it/s]\n"
     ]
    },
    {
     "name": "stdout",
     "output_type": "stream",
     "text": [
      "Train Loss: 0.12264837247317463\n",
      "Val Loss: 0.11823252588510513\n",
      "Epoch 1\n"
     ]
    },
    {
     "name": "stderr",
     "output_type": "stream",
     "text": [
      "100%|██████████| 453/453 [00:12<00:00, 37.67it/s]\n"
     ]
    },
    {
     "name": "stdout",
     "output_type": "stream",
     "text": [
      "Train Loss: 0.1135789750690755\n",
      "Val Loss: 0.11279676854610443\n",
      "Epoch 2\n"
     ]
    },
    {
     "name": "stderr",
     "output_type": "stream",
     "text": [
      "100%|██████████| 453/453 [00:12<00:00, 37.02it/s]\n"
     ]
    },
    {
     "name": "stdout",
     "output_type": "stream",
     "text": [
      "Train Loss: 0.09695399670181158\n",
      "Val Loss: 0.08205020427703857\n",
      "Epoch 3\n"
     ]
    },
    {
     "name": "stderr",
     "output_type": "stream",
     "text": [
      "100%|██████████| 453/453 [00:12<00:00, 36.06it/s]\n"
     ]
    },
    {
     "name": "stdout",
     "output_type": "stream",
     "text": [
      "Train Loss: 0.0808124654652925\n",
      "Val Loss: 0.09489650279283524\n",
      "Epoch 4\n"
     ]
    },
    {
     "name": "stderr",
     "output_type": "stream",
     "text": [
      "100%|██████████| 453/453 [00:12<00:00, 35.82it/s]\n"
     ]
    },
    {
     "name": "stdout",
     "output_type": "stream",
     "text": [
      "Train Loss: 0.07588006033835558\n",
      "Val Loss: 0.08151715993881226\n",
      "Epoch 5\n"
     ]
    },
    {
     "name": "stderr",
     "output_type": "stream",
     "text": [
      "100%|██████████| 453/453 [00:12<00:00, 35.95it/s]\n"
     ]
    },
    {
     "name": "stdout",
     "output_type": "stream",
     "text": [
      "Train Loss: 0.07270524785679171\n",
      "Val Loss: 0.07278463989496231\n",
      "Epoch 6\n"
     ]
    },
    {
     "name": "stderr",
     "output_type": "stream",
     "text": [
      "100%|██████████| 453/453 [00:13<00:00, 34.21it/s]\n"
     ]
    },
    {
     "name": "stdout",
     "output_type": "stream",
     "text": [
      "Train Loss: 0.0707416209098256\n",
      "Val Loss: 0.07197262346744537\n",
      "Epoch 7\n"
     ]
    },
    {
     "name": "stderr",
     "output_type": "stream",
     "text": [
      "100%|██████████| 453/453 [00:13<00:00, 33.80it/s]\n"
     ]
    },
    {
     "name": "stdout",
     "output_type": "stream",
     "text": [
      "Train Loss: 0.06920491806570662\n",
      "Val Loss: 0.07027502357959747\n",
      "Epoch 8\n"
     ]
    },
    {
     "name": "stderr",
     "output_type": "stream",
     "text": [
      "100%|██████████| 453/453 [00:13<00:00, 33.55it/s]\n"
     ]
    },
    {
     "name": "stdout",
     "output_type": "stream",
     "text": [
      "Train Loss: 0.06744053234525074\n",
      "Val Loss: 0.07098870724439621\n",
      "Epoch 9\n"
     ]
    },
    {
     "name": "stderr",
     "output_type": "stream",
     "text": [
      "100%|██████████| 453/453 [00:13<00:00, 33.59it/s]\n"
     ]
    },
    {
     "name": "stdout",
     "output_type": "stream",
     "text": [
      "Train Loss: 0.06588058465594224\n",
      "Val Loss: 0.06632950156927109\n",
      "Epoch 10\n"
     ]
    },
    {
     "name": "stderr",
     "output_type": "stream",
     "text": [
      "100%|██████████| 453/453 [00:12<00:00, 35.05it/s]\n"
     ]
    },
    {
     "name": "stdout",
     "output_type": "stream",
     "text": [
      "Train Loss: 0.06486200984921019\n",
      "Val Loss: 0.0678791031241417\n",
      "Epoch 11\n"
     ]
    },
    {
     "name": "stderr",
     "output_type": "stream",
     "text": [
      "100%|██████████| 453/453 [00:12<00:00, 34.90it/s]\n"
     ]
    },
    {
     "name": "stdout",
     "output_type": "stream",
     "text": [
      "Train Loss: 0.06371644361327027\n",
      "Val Loss: 0.06562931090593338\n",
      "Epoch 12\n"
     ]
    },
    {
     "name": "stderr",
     "output_type": "stream",
     "text": [
      "100%|██████████| 453/453 [00:13<00:00, 34.47it/s]\n"
     ]
    },
    {
     "name": "stdout",
     "output_type": "stream",
     "text": [
      "Train Loss: 0.06215264864068552\n",
      "Val Loss: 0.06718893349170685\n",
      "Epoch 13\n"
     ]
    },
    {
     "name": "stderr",
     "output_type": "stream",
     "text": [
      "100%|██████████| 453/453 [00:13<00:00, 34.36it/s]\n"
     ]
    },
    {
     "name": "stdout",
     "output_type": "stream",
     "text": [
      "Train Loss: 0.06086020463580064\n",
      "Val Loss: 0.061521340161561966\n",
      "Epoch 14\n"
     ]
    },
    {
     "name": "stderr",
     "output_type": "stream",
     "text": [
      "100%|██████████| 453/453 [00:11<00:00, 38.91it/s]\n"
     ]
    },
    {
     "name": "stdout",
     "output_type": "stream",
     "text": [
      "Train Loss: 0.059979709070874895\n",
      "Val Loss: 0.06226282939314842\n",
      "Epoch 15\n"
     ]
    },
    {
     "name": "stderr",
     "output_type": "stream",
     "text": [
      "100%|██████████| 453/453 [00:11<00:00, 38.48it/s]\n"
     ]
    },
    {
     "name": "stdout",
     "output_type": "stream",
     "text": [
      "Train Loss: 0.059344057733846815\n",
      "Val Loss: 0.0634029284119606\n",
      "Epoch 16\n"
     ]
    },
    {
     "name": "stderr",
     "output_type": "stream",
     "text": [
      "100%|██████████| 453/453 [00:12<00:00, 34.91it/s]\n"
     ]
    },
    {
     "name": "stdout",
     "output_type": "stream",
     "text": [
      "Train Loss: 0.05834461612499445\n",
      "Val Loss: 0.060086771845817566\n",
      "Epoch 17\n"
     ]
    },
    {
     "name": "stderr",
     "output_type": "stream",
     "text": [
      "100%|██████████| 453/453 [00:12<00:00, 36.73it/s]\n"
     ]
    },
    {
     "name": "stdout",
     "output_type": "stream",
     "text": [
      "Train Loss: 0.05679242212169086\n",
      "Val Loss: 0.05918416753411293\n",
      "Epoch 18\n"
     ]
    },
    {
     "name": "stderr",
     "output_type": "stream",
     "text": [
      "100%|██████████| 453/453 [00:12<00:00, 37.61it/s]\n"
     ]
    },
    {
     "name": "stdout",
     "output_type": "stream",
     "text": [
      "Train Loss: 0.05571853669635771\n",
      "Val Loss: 0.058793921023607254\n",
      "Epoch 19\n"
     ]
    },
    {
     "name": "stderr",
     "output_type": "stream",
     "text": [
      "100%|██████████| 453/453 [00:11<00:00, 37.77it/s]\n"
     ]
    },
    {
     "name": "stdout",
     "output_type": "stream",
     "text": [
      "Train Loss: 0.054527673138424784\n",
      "Val Loss: 0.05806384235620499\n",
      "Epoch 20\n"
     ]
    },
    {
     "name": "stderr",
     "output_type": "stream",
     "text": [
      "100%|██████████| 453/453 [00:11<00:00, 37.97it/s]\n"
     ]
    },
    {
     "name": "stdout",
     "output_type": "stream",
     "text": [
      "Train Loss: 0.05377750939979459\n",
      "Val Loss: 0.058353133499622345\n",
      "Epoch 21\n"
     ]
    },
    {
     "name": "stderr",
     "output_type": "stream",
     "text": [
      "100%|██████████| 453/453 [00:12<00:00, 36.44it/s]\n"
     ]
    },
    {
     "name": "stdout",
     "output_type": "stream",
     "text": [
      "Train Loss: 0.05272164444539852\n",
      "Val Loss: 0.05835919827222824\n",
      "Epoch 22\n"
     ]
    },
    {
     "name": "stderr",
     "output_type": "stream",
     "text": [
      "100%|██████████| 453/453 [00:12<00:00, 35.13it/s]\n"
     ]
    },
    {
     "name": "stdout",
     "output_type": "stream",
     "text": [
      "Train Loss: 0.05194892519242058\n",
      "Val Loss: 0.057384613901376724\n",
      "Epoch 23\n"
     ]
    },
    {
     "name": "stderr",
     "output_type": "stream",
     "text": [
      "100%|██████████| 453/453 [00:12<00:00, 35.65it/s]\n"
     ]
    },
    {
     "name": "stdout",
     "output_type": "stream",
     "text": [
      "Train Loss: 0.05119385129091624\n",
      "Val Loss: 0.05701125040650368\n",
      "Epoch 24\n"
     ]
    },
    {
     "name": "stderr",
     "output_type": "stream",
     "text": [
      "100%|██████████| 453/453 [00:12<00:00, 35.18it/s]\n"
     ]
    },
    {
     "name": "stdout",
     "output_type": "stream",
     "text": [
      "Train Loss: 0.05046723569202634\n",
      "Val Loss: 0.05732369422912598\n",
      "Epoch 25\n"
     ]
    },
    {
     "name": "stderr",
     "output_type": "stream",
     "text": [
      "100%|██████████| 453/453 [00:12<00:00, 36.71it/s]\n"
     ]
    },
    {
     "name": "stdout",
     "output_type": "stream",
     "text": [
      "Train Loss: 0.0499665065777486\n",
      "Val Loss: 0.05713200941681862\n",
      "Epoch 26\n"
     ]
    },
    {
     "name": "stderr",
     "output_type": "stream",
     "text": [
      "100%|██████████| 453/453 [00:12<00:00, 35.90it/s]\n"
     ]
    },
    {
     "name": "stdout",
     "output_type": "stream",
     "text": [
      "Train Loss: 0.04949362321487457\n",
      "Val Loss: 0.0570257306098938\n",
      "Epoch 27\n"
     ]
    },
    {
     "name": "stderr",
     "output_type": "stream",
     "text": [
      "100%|██████████| 453/453 [00:12<00:00, 36.69it/s]\n"
     ]
    },
    {
     "name": "stdout",
     "output_type": "stream",
     "text": [
      "Train Loss: 0.04914069553183404\n",
      "Val Loss: 0.056887321174144745\n",
      "Epoch 28\n"
     ]
    },
    {
     "name": "stderr",
     "output_type": "stream",
     "text": [
      "100%|██████████| 453/453 [00:12<00:00, 37.17it/s]\n"
     ]
    },
    {
     "name": "stdout",
     "output_type": "stream",
     "text": [
      "Train Loss: 0.04893808028605205\n",
      "Val Loss: 0.05693376436829567\n",
      "Epoch 29\n"
     ]
    },
    {
     "name": "stderr",
     "output_type": "stream",
     "text": [
      "100%|██████████| 453/453 [00:12<00:00, 36.22it/s]\n"
     ]
    },
    {
     "name": "stdout",
     "output_type": "stream",
     "text": [
      "Train Loss: 0.04880983686736614\n",
      "Val Loss: 0.056932494044303894\n"
     ]
    }
   ],
   "source": [
    "num_epochs = 30\n",
    "\n",
    "model = GATNet(15, 2)\n",
    "criterion = nn.MSELoss()\n",
    "optimizer = torch.optim.Adam(model.parameters(), lr=1e-3, weight_decay=1e-5)\n",
    "scheduler = CosineAnnealingLR(optimizer, T_max=num_epochs * len(train_dataloader))\n",
    "device = torch.device(\"cuda:1\")\n",
    "\n",
    "model.to(device)\n",
    "\n",
    "\n",
    "for epoch in range(num_epochs):\n",
    "    print(f\"Epoch {epoch}\")\n",
    "    train_loss, val_loss = 0., 0.\n",
    "    \n",
    "    # train\n",
    "    model.train()\n",
    "\n",
    "    for batch in tqdm(train_dataloader):\n",
    "        optimizer.zero_grad()\n",
    "\n",
    "        batch = batch.to(device)\n",
    "        pred = model(batch.x, batch.edge_index, batch.edge_attr, batch.batch)\n",
    "        loss = criterion(pred, batch.y)\n",
    "        loss.backward()\n",
    "        optimizer.step()\n",
    "        scheduler.step()\n",
    "        train_loss += loss.item()\n",
    "    \n",
    "    train_loss /= len(train_dataloader)\n",
    "    \n",
    "    # validation\n",
    "    model.eval()\n",
    "    \n",
    "    for batch in val_dataloader:\n",
    "        batch = batch.to(device)\n",
    "        pred = model(batch.x, batch.edge_index, batch.edge_attr, batch.batch)\n",
    "        loss = criterion(pred, batch.y)\n",
    "        val_loss += loss * len(batch.y)\n",
    "    \n",
    "    val_loss /= len(val_data)\n",
    "    \n",
    "    print(f\"Train Loss: {train_loss}\")\n",
    "    print(f\"Val Loss: {val_loss}\")"
   ]
  },
  {
   "cell_type": "code",
   "execution_count": null,
   "metadata": {},
   "outputs": [],
   "source": [
    "preds = []\n",
    "\n",
    "model.eval()\n",
    "for batch in tqdm(test_dataloader):\n",
    "    batch = batch.to(device)\n",
    "    pred = model(batch.x, batch.edge_index, batch.edge_attr, batch.batch)\n",
    "    preds.append(pred)\n",
    "\n",
    "preds = torch.cat(preds).detach().cpu().numpy()\n",
    "\n",
    "sub_df = pd.read_csv(\"data/sample_submission.csv\")\n",
    "sub_df[\"Reorg_g\"] = preds[:, 0]\n",
    "sub_df[\"Reorg_ex\"] = preds[:, 1]\n",
    "sub_df.to_csv(\"submission.csv\", sep=\",\", index=False)"
   ]
  }
 ],
 "metadata": {
  "kernelspec": {
   "display_name": "mol",
   "language": "python",
   "name": "mol"
  },
  "language_info": {
   "codemirror_mode": {
    "name": "ipython",
    "version": 3
   },
   "file_extension": ".py",
   "mimetype": "text/x-python",
   "name": "python",
   "nbconvert_exporter": "python",
   "pygments_lexer": "ipython3",
   "version": "3.10.5"
  }
 },
 "nbformat": 4,
 "nbformat_minor": 4
}
