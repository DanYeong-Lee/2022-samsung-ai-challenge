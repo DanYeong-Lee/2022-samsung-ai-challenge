{
 "cells": [
  {
   "cell_type": "code",
   "execution_count": 5,
   "metadata": {},
   "outputs": [],
   "source": [
    "import os, sys\n",
    "\n",
    "sys.path.append(os.pardir)\n",
    "\n",
    "from src.datamodules.components.dataset2d import TrainDataset, TestDataset\n",
    "from src.datamodules.datamodule2d import BaseDataModule"
   ]
  },
  {
   "cell_type": "code",
   "execution_count": 4,
   "metadata": {},
   "outputs": [
    {
     "data": {
      "text/plain": [
       "DataBatch(x=[1440, 15], edge_index=[2, 3028], edge_attr=[3028, 3], y=[32, 2], batch=[1440], ptr=[33])"
      ]
     },
     "execution_count": 4,
     "metadata": {},
     "output_type": "execute_result"
    }
   ],
   "source": [
    "train_data = TrainDataset()\n",
    "test_data = TestDataset()\n",
    "\n",
    "dm = BaseDataModule(train_data, test_data, fold=0)\n",
    "dm.setup()\n",
    "\n",
    "next(iter(dm.train_dataloader()))"
   ]
  },
  {
   "cell_type": "code",
   "execution_count": 21,
   "metadata": {},
   "outputs": [],
   "source": [
    "fold = 0\n",
    "\n",
    "kfold = KFold(n_splits=5, shuffle=True, random_state=123456789)\n",
    "\n",
    "for i, (train_idx, val_idx) in enumerate(kfold.split(train_data)):\n",
    "    if i == fold:\n",
    "        break\n",
    "\n",
    "val_data = train_data.copy(val_idx)\n",
    "train_data = train_data.copy(train_idx)"
   ]
  },
  {
   "cell_type": "code",
   "execution_count": 25,
   "metadata": {},
   "outputs": [
    {
     "data": {
      "text/plain": [
       "src.datamodules.components.dataset2d.TrainDataset"
      ]
     },
     "execution_count": 25,
     "metadata": {},
     "output_type": "execute_result"
    }
   ],
   "source": [
    "type(train_data)"
   ]
  }
 ],
 "metadata": {
  "kernelspec": {
   "display_name": "mol",
   "language": "python",
   "name": "mol"
  },
  "language_info": {
   "codemirror_mode": {
    "name": "ipython",
    "version": 3
   },
   "file_extension": ".py",
   "mimetype": "text/x-python",
   "name": "python",
   "nbconvert_exporter": "python",
   "pygments_lexer": "ipython3",
   "version": "3.10.5"
  }
 },
 "nbformat": 4,
 "nbformat_minor": 4
}
