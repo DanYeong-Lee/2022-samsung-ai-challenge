{
 "cells": [
  {
   "cell_type": "code",
   "execution_count": 1,
   "metadata": {},
   "outputs": [],
   "source": [
    "import pandas as pd"
   ]
  },
  {
   "cell_type": "code",
   "execution_count": 21,
   "metadata": {},
   "outputs": [],
   "source": [
    "df = [pd.read_csv(f\"../submission{i}.csv\")[[\"Reorg_g\", \"Reorg_ex\"]] for i in range(5)]\n",
    "\n",
    "temp = pd.read_csv(\"../submission0.csv\")\n",
    "\n",
    "temp[[\"Reorg_g\", \"Reorg_ex\"]] = sum(df) / 5\n",
    "temp.to_csv(\"../ensemble.csv\", index=False)"
   ]
  }
 ],
 "metadata": {
  "kernelspec": {
   "display_name": "mol",
   "language": "python",
   "name": "mol"
  },
  "language_info": {
   "codemirror_mode": {
    "name": "ipython",
    "version": 3
   },
   "file_extension": ".py",
   "mimetype": "text/x-python",
   "name": "python",
   "nbconvert_exporter": "python",
   "pygments_lexer": "ipython3",
   "version": "3.10.5"
  }
 },
 "nbformat": 4,
 "nbformat_minor": 4
}
